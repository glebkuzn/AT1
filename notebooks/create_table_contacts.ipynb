{
 "cells": [
  {
   "cell_type": "code",
   "execution_count": 244,
   "metadata": {
    "collapsed": true
   },
   "outputs": [],
   "source": [
    "import pandas as pd\n",
    "import numpy as np"
   ]
  },
  {
   "cell_type": "code",
   "execution_count": 245,
   "outputs": [],
   "source": [
    "# выводит таблицу в таком формате: столбцы - имя gpcr, строки - BW этих gpsr(или номер остатка, для тех, у кого нет BW), а значения - минимальный номер остатка аррестина.\n",
    "def table(repulsion,total):\n",
    "    repulsion_R = repulsion[repulsion.chain == 'R'].merge(total[total.chain_id == 'R'], left_on=['gpcr','res'],right_on=['pdb_code','residue_number']).drop(columns=['residue_number','chain_id'])\n",
    "    repulsion_A = repulsion[repulsion.chain == 'A'].merge(total[total.chain_id == 'A'], left_on=['arr','res'],right_on=['pdb_code','residue_number']).drop(columns=['residue_number','chain_id'])\n",
    "    merged_repulsion = repulsion_R.merge(repulsion_A,on=['gpcr','arr','Cluster_ID'])\n",
    "    return merged_repulsion.pivot_table(values='res_y',index='b_factor_x',columns='gpcr',aggfunc=np.min)"
   ],
   "metadata": {
    "collapsed": false,
    "pycharm": {
     "name": "#%%\n"
    }
   }
  },
  {
   "cell_type": "code",
   "execution_count": 246,
   "outputs": [],
   "source": [
    "AT14 = ['4YAY','4ZUD']\n",
    "AT16 = ['6DO1','6OS0','6OS1','6OS2']\n",
    "arr = ['6TKO','6U1N','6UP7','6PWC']"
   ],
   "metadata": {
    "collapsed": false,
    "pycharm": {
     "name": "#%%\n"
    }
   }
  },
  {
   "cell_type": "code",
   "execution_count": 247,
   "outputs": [],
   "source": [
    "hyd_aci = pd.read_csv('/home/kestr/AT1/data/hydrogen_contacts.csv')\n",
    "repulsion = pd.read_csv('/home/kestr/AT1/data/charge_repulsion.csv')\n",
    "other_contacts = pd.read_csv('/home/kestr/AT1/data/contacts_ion_and_hydrophobic.csv')\n",
    "total = pd.read_csv('/home/kestr/AT1/data/model_res_dict.csv')\n",
    "hydrophob = other_contacts[other_contacts.type=='PH'].drop(columns=['type'])\n",
    "ionic = other_contacts[other_contacts.type=='IO'].drop(columns=['type'])"
   ],
   "metadata": {
    "collapsed": false,
    "pycharm": {
     "name": "#%%\n"
    }
   }
  },
  {
   "cell_type": "code",
   "execution_count": 248,
   "outputs": [
    {
     "data": {
      "text/plain": "gpcr         4YAY   4ZUD   6DO1   6OS0   6OS1   6OS2   6TKO   6U1N   6UP7\nb_factor_x                                                               \n2.36          NaN    NaN    NaN    NaN    NaN    NaN    NaN    NaN   65.0\n2.37         66.0   66.0   66.0   66.0   66.0   66.0   66.0    NaN    NaN\n2.39          NaN    NaN    NaN    NaN    NaN    NaN   66.0    NaN    NaN\n3.50         69.0   67.0   66.0   67.0   69.0   69.0   69.0    NaN    NaN\n4.38        135.0  285.0    NaN    NaN    NaN    NaN  285.0    NaN    NaN\n4.39          NaN    NaN    NaN    NaN    NaN    NaN  134.0    NaN    NaN\n5.68          NaN    NaN    NaN    NaN    NaN    NaN   77.0    NaN    NaN\n6.28          NaN    NaN    NaN   76.0   76.0   76.0    NaN    NaN    NaN\n6.29          NaN    NaN    NaN    NaN    NaN    NaN    NaN    NaN   71.0\n6.30         67.0   67.0    NaN    NaN    NaN    NaN    NaN    NaN   71.0\n6.31         67.0   69.0    NaN    NaN    NaN    NaN    NaN    NaN    NaN\n6.32         68.0   67.0    NaN    NaN    NaN    NaN    NaN    NaN    NaN\n6.33         69.0   69.0    NaN    NaN    NaN    NaN    NaN    NaN    NaN\n6.34         69.0   69.0    NaN    NaN    NaN    NaN    NaN    NaN    NaN\n6.35         70.0   70.0    NaN    NaN    NaN    NaN    NaN    NaN    NaN\n6.36         71.0    NaN    NaN    NaN    NaN    NaN    NaN    NaN    NaN\n7.56          NaN    NaN   68.0   68.0   68.0   68.0    NaN    NaN    NaN\n8.47          NaN    NaN    NaN    NaN   69.0   69.0    NaN    NaN    NaN\n8.48          NaN    NaN    NaN    NaN    NaN   71.0    NaN    NaN    NaN\n8.49          NaN    NaN    NaN    NaN    NaN    NaN    NaN    NaN  285.0\n8.52        133.0    NaN  134.0    NaN    NaN  134.0    NaN    NaN    NaN\n12.49         NaN    NaN    NaN    NaN    NaN    NaN   67.0    NaN    NaN\n12.51       135.0  136.0  136.0  136.0  136.0  136.0  136.0    NaN    NaN\n34.50       249.0  249.0    NaN    NaN   63.0   63.0    NaN    NaN    NaN\n34.51       245.0    NaN   63.0   63.0  243.0  243.0    NaN    NaN    NaN\n34.52       286.0    NaN  247.0  248.0  249.0  249.0    NaN  249.0    NaN\n34.53       130.0    NaN    NaN    NaN    NaN    NaN    NaN    NaN    NaN\n34.54       285.0    NaN   65.0   65.0   65.0   65.0   63.0    NaN    NaN\n34.55       132.0    NaN  285.0    NaN    NaN    NaN    NaN    NaN    NaN\n34.56       133.0    NaN    NaN    NaN    NaN    NaN    NaN    NaN    NaN\n34.57       285.0    NaN   65.0   65.0   65.0   65.0    NaN    NaN    NaN\n96.38         NaN    NaN    NaN    NaN    NaN    NaN    NaN    NaN  285.0\n123.62        NaN    NaN    NaN    NaN    NaN    NaN    NaN    NaN   76.0",
      "text/html": "<div>\n<style scoped>\n    .dataframe tbody tr th:only-of-type {\n        vertical-align: middle;\n    }\n\n    .dataframe tbody tr th {\n        vertical-align: top;\n    }\n\n    .dataframe thead th {\n        text-align: right;\n    }\n</style>\n<table border=\"1\" class=\"dataframe\">\n  <thead>\n    <tr style=\"text-align: right;\">\n      <th>gpcr</th>\n      <th>4YAY</th>\n      <th>4ZUD</th>\n      <th>6DO1</th>\n      <th>6OS0</th>\n      <th>6OS1</th>\n      <th>6OS2</th>\n      <th>6TKO</th>\n      <th>6U1N</th>\n      <th>6UP7</th>\n    </tr>\n    <tr>\n      <th>b_factor_x</th>\n      <th></th>\n      <th></th>\n      <th></th>\n      <th></th>\n      <th></th>\n      <th></th>\n      <th></th>\n      <th></th>\n      <th></th>\n    </tr>\n  </thead>\n  <tbody>\n    <tr>\n      <th>2.36</th>\n      <td>NaN</td>\n      <td>NaN</td>\n      <td>NaN</td>\n      <td>NaN</td>\n      <td>NaN</td>\n      <td>NaN</td>\n      <td>NaN</td>\n      <td>NaN</td>\n      <td>65.0</td>\n    </tr>\n    <tr>\n      <th>2.37</th>\n      <td>66.0</td>\n      <td>66.0</td>\n      <td>66.0</td>\n      <td>66.0</td>\n      <td>66.0</td>\n      <td>66.0</td>\n      <td>66.0</td>\n      <td>NaN</td>\n      <td>NaN</td>\n    </tr>\n    <tr>\n      <th>2.39</th>\n      <td>NaN</td>\n      <td>NaN</td>\n      <td>NaN</td>\n      <td>NaN</td>\n      <td>NaN</td>\n      <td>NaN</td>\n      <td>66.0</td>\n      <td>NaN</td>\n      <td>NaN</td>\n    </tr>\n    <tr>\n      <th>3.50</th>\n      <td>69.0</td>\n      <td>67.0</td>\n      <td>66.0</td>\n      <td>67.0</td>\n      <td>69.0</td>\n      <td>69.0</td>\n      <td>69.0</td>\n      <td>NaN</td>\n      <td>NaN</td>\n    </tr>\n    <tr>\n      <th>4.38</th>\n      <td>135.0</td>\n      <td>285.0</td>\n      <td>NaN</td>\n      <td>NaN</td>\n      <td>NaN</td>\n      <td>NaN</td>\n      <td>285.0</td>\n      <td>NaN</td>\n      <td>NaN</td>\n    </tr>\n    <tr>\n      <th>4.39</th>\n      <td>NaN</td>\n      <td>NaN</td>\n      <td>NaN</td>\n      <td>NaN</td>\n      <td>NaN</td>\n      <td>NaN</td>\n      <td>134.0</td>\n      <td>NaN</td>\n      <td>NaN</td>\n    </tr>\n    <tr>\n      <th>5.68</th>\n      <td>NaN</td>\n      <td>NaN</td>\n      <td>NaN</td>\n      <td>NaN</td>\n      <td>NaN</td>\n      <td>NaN</td>\n      <td>77.0</td>\n      <td>NaN</td>\n      <td>NaN</td>\n    </tr>\n    <tr>\n      <th>6.28</th>\n      <td>NaN</td>\n      <td>NaN</td>\n      <td>NaN</td>\n      <td>76.0</td>\n      <td>76.0</td>\n      <td>76.0</td>\n      <td>NaN</td>\n      <td>NaN</td>\n      <td>NaN</td>\n    </tr>\n    <tr>\n      <th>6.29</th>\n      <td>NaN</td>\n      <td>NaN</td>\n      <td>NaN</td>\n      <td>NaN</td>\n      <td>NaN</td>\n      <td>NaN</td>\n      <td>NaN</td>\n      <td>NaN</td>\n      <td>71.0</td>\n    </tr>\n    <tr>\n      <th>6.30</th>\n      <td>67.0</td>\n      <td>67.0</td>\n      <td>NaN</td>\n      <td>NaN</td>\n      <td>NaN</td>\n      <td>NaN</td>\n      <td>NaN</td>\n      <td>NaN</td>\n      <td>71.0</td>\n    </tr>\n    <tr>\n      <th>6.31</th>\n      <td>67.0</td>\n      <td>69.0</td>\n      <td>NaN</td>\n      <td>NaN</td>\n      <td>NaN</td>\n      <td>NaN</td>\n      <td>NaN</td>\n      <td>NaN</td>\n      <td>NaN</td>\n    </tr>\n    <tr>\n      <th>6.32</th>\n      <td>68.0</td>\n      <td>67.0</td>\n      <td>NaN</td>\n      <td>NaN</td>\n      <td>NaN</td>\n      <td>NaN</td>\n      <td>NaN</td>\n      <td>NaN</td>\n      <td>NaN</td>\n    </tr>\n    <tr>\n      <th>6.33</th>\n      <td>69.0</td>\n      <td>69.0</td>\n      <td>NaN</td>\n      <td>NaN</td>\n      <td>NaN</td>\n      <td>NaN</td>\n      <td>NaN</td>\n      <td>NaN</td>\n      <td>NaN</td>\n    </tr>\n    <tr>\n      <th>6.34</th>\n      <td>69.0</td>\n      <td>69.0</td>\n      <td>NaN</td>\n      <td>NaN</td>\n      <td>NaN</td>\n      <td>NaN</td>\n      <td>NaN</td>\n      <td>NaN</td>\n      <td>NaN</td>\n    </tr>\n    <tr>\n      <th>6.35</th>\n      <td>70.0</td>\n      <td>70.0</td>\n      <td>NaN</td>\n      <td>NaN</td>\n      <td>NaN</td>\n      <td>NaN</td>\n      <td>NaN</td>\n      <td>NaN</td>\n      <td>NaN</td>\n    </tr>\n    <tr>\n      <th>6.36</th>\n      <td>71.0</td>\n      <td>NaN</td>\n      <td>NaN</td>\n      <td>NaN</td>\n      <td>NaN</td>\n      <td>NaN</td>\n      <td>NaN</td>\n      <td>NaN</td>\n      <td>NaN</td>\n    </tr>\n    <tr>\n      <th>7.56</th>\n      <td>NaN</td>\n      <td>NaN</td>\n      <td>68.0</td>\n      <td>68.0</td>\n      <td>68.0</td>\n      <td>68.0</td>\n      <td>NaN</td>\n      <td>NaN</td>\n      <td>NaN</td>\n    </tr>\n    <tr>\n      <th>8.47</th>\n      <td>NaN</td>\n      <td>NaN</td>\n      <td>NaN</td>\n      <td>NaN</td>\n      <td>69.0</td>\n      <td>69.0</td>\n      <td>NaN</td>\n      <td>NaN</td>\n      <td>NaN</td>\n    </tr>\n    <tr>\n      <th>8.48</th>\n      <td>NaN</td>\n      <td>NaN</td>\n      <td>NaN</td>\n      <td>NaN</td>\n      <td>NaN</td>\n      <td>71.0</td>\n      <td>NaN</td>\n      <td>NaN</td>\n      <td>NaN</td>\n    </tr>\n    <tr>\n      <th>8.49</th>\n      <td>NaN</td>\n      <td>NaN</td>\n      <td>NaN</td>\n      <td>NaN</td>\n      <td>NaN</td>\n      <td>NaN</td>\n      <td>NaN</td>\n      <td>NaN</td>\n      <td>285.0</td>\n    </tr>\n    <tr>\n      <th>8.52</th>\n      <td>133.0</td>\n      <td>NaN</td>\n      <td>134.0</td>\n      <td>NaN</td>\n      <td>NaN</td>\n      <td>134.0</td>\n      <td>NaN</td>\n      <td>NaN</td>\n      <td>NaN</td>\n    </tr>\n    <tr>\n      <th>12.49</th>\n      <td>NaN</td>\n      <td>NaN</td>\n      <td>NaN</td>\n      <td>NaN</td>\n      <td>NaN</td>\n      <td>NaN</td>\n      <td>67.0</td>\n      <td>NaN</td>\n      <td>NaN</td>\n    </tr>\n    <tr>\n      <th>12.51</th>\n      <td>135.0</td>\n      <td>136.0</td>\n      <td>136.0</td>\n      <td>136.0</td>\n      <td>136.0</td>\n      <td>136.0</td>\n      <td>136.0</td>\n      <td>NaN</td>\n      <td>NaN</td>\n    </tr>\n    <tr>\n      <th>34.50</th>\n      <td>249.0</td>\n      <td>249.0</td>\n      <td>NaN</td>\n      <td>NaN</td>\n      <td>63.0</td>\n      <td>63.0</td>\n      <td>NaN</td>\n      <td>NaN</td>\n      <td>NaN</td>\n    </tr>\n    <tr>\n      <th>34.51</th>\n      <td>245.0</td>\n      <td>NaN</td>\n      <td>63.0</td>\n      <td>63.0</td>\n      <td>243.0</td>\n      <td>243.0</td>\n      <td>NaN</td>\n      <td>NaN</td>\n      <td>NaN</td>\n    </tr>\n    <tr>\n      <th>34.52</th>\n      <td>286.0</td>\n      <td>NaN</td>\n      <td>247.0</td>\n      <td>248.0</td>\n      <td>249.0</td>\n      <td>249.0</td>\n      <td>NaN</td>\n      <td>249.0</td>\n      <td>NaN</td>\n    </tr>\n    <tr>\n      <th>34.53</th>\n      <td>130.0</td>\n      <td>NaN</td>\n      <td>NaN</td>\n      <td>NaN</td>\n      <td>NaN</td>\n      <td>NaN</td>\n      <td>NaN</td>\n      <td>NaN</td>\n      <td>NaN</td>\n    </tr>\n    <tr>\n      <th>34.54</th>\n      <td>285.0</td>\n      <td>NaN</td>\n      <td>65.0</td>\n      <td>65.0</td>\n      <td>65.0</td>\n      <td>65.0</td>\n      <td>63.0</td>\n      <td>NaN</td>\n      <td>NaN</td>\n    </tr>\n    <tr>\n      <th>34.55</th>\n      <td>132.0</td>\n      <td>NaN</td>\n      <td>285.0</td>\n      <td>NaN</td>\n      <td>NaN</td>\n      <td>NaN</td>\n      <td>NaN</td>\n      <td>NaN</td>\n      <td>NaN</td>\n    </tr>\n    <tr>\n      <th>34.56</th>\n      <td>133.0</td>\n      <td>NaN</td>\n      <td>NaN</td>\n      <td>NaN</td>\n      <td>NaN</td>\n      <td>NaN</td>\n      <td>NaN</td>\n      <td>NaN</td>\n      <td>NaN</td>\n    </tr>\n    <tr>\n      <th>34.57</th>\n      <td>285.0</td>\n      <td>NaN</td>\n      <td>65.0</td>\n      <td>65.0</td>\n      <td>65.0</td>\n      <td>65.0</td>\n      <td>NaN</td>\n      <td>NaN</td>\n      <td>NaN</td>\n    </tr>\n    <tr>\n      <th>96.38</th>\n      <td>NaN</td>\n      <td>NaN</td>\n      <td>NaN</td>\n      <td>NaN</td>\n      <td>NaN</td>\n      <td>NaN</td>\n      <td>NaN</td>\n      <td>NaN</td>\n      <td>285.0</td>\n    </tr>\n    <tr>\n      <th>123.62</th>\n      <td>NaN</td>\n      <td>NaN</td>\n      <td>NaN</td>\n      <td>NaN</td>\n      <td>NaN</td>\n      <td>NaN</td>\n      <td>NaN</td>\n      <td>NaN</td>\n      <td>76.0</td>\n    </tr>\n  </tbody>\n</table>\n</div>"
     },
     "execution_count": 248,
     "metadata": {},
     "output_type": "execute_result"
    }
   ],
   "source": [
    "# водородные связи\n",
    "table(hyd_aci,total)"
   ],
   "metadata": {
    "collapsed": false,
    "pycharm": {
     "name": "#%%\n"
    }
   }
  },
  {
   "cell_type": "code",
   "execution_count": 249,
   "outputs": [
    {
     "data": {
      "text/plain": "gpcr         4YAY   4ZUD   6DO1   6OS0   6OS1   6OS2   6TKO  6U1N  6UP7\nb_factor_x                                                             \n2.37         66.0   66.0   66.0   66.0   66.0   66.0   66.0   NaN   NaN\n3.50         69.0   67.0   66.0   67.0   69.0   69.0   69.0   NaN   NaN\n12.51       135.0  136.0  136.0  136.0  136.0  136.0  136.0   NaN   NaN",
      "text/html": "<div>\n<style scoped>\n    .dataframe tbody tr th:only-of-type {\n        vertical-align: middle;\n    }\n\n    .dataframe tbody tr th {\n        vertical-align: top;\n    }\n\n    .dataframe thead th {\n        text-align: right;\n    }\n</style>\n<table border=\"1\" class=\"dataframe\">\n  <thead>\n    <tr style=\"text-align: right;\">\n      <th>gpcr</th>\n      <th>4YAY</th>\n      <th>4ZUD</th>\n      <th>6DO1</th>\n      <th>6OS0</th>\n      <th>6OS1</th>\n      <th>6OS2</th>\n      <th>6TKO</th>\n      <th>6U1N</th>\n      <th>6UP7</th>\n    </tr>\n    <tr>\n      <th>b_factor_x</th>\n      <th></th>\n      <th></th>\n      <th></th>\n      <th></th>\n      <th></th>\n      <th></th>\n      <th></th>\n      <th></th>\n      <th></th>\n    </tr>\n  </thead>\n  <tbody>\n    <tr>\n      <th>2.37</th>\n      <td>66.0</td>\n      <td>66.0</td>\n      <td>66.0</td>\n      <td>66.0</td>\n      <td>66.0</td>\n      <td>66.0</td>\n      <td>66.0</td>\n      <td>NaN</td>\n      <td>NaN</td>\n    </tr>\n    <tr>\n      <th>3.50</th>\n      <td>69.0</td>\n      <td>67.0</td>\n      <td>66.0</td>\n      <td>67.0</td>\n      <td>69.0</td>\n      <td>69.0</td>\n      <td>69.0</td>\n      <td>NaN</td>\n      <td>NaN</td>\n    </tr>\n    <tr>\n      <th>12.51</th>\n      <td>135.0</td>\n      <td>136.0</td>\n      <td>136.0</td>\n      <td>136.0</td>\n      <td>136.0</td>\n      <td>136.0</td>\n      <td>136.0</td>\n      <td>NaN</td>\n      <td>NaN</td>\n    </tr>\n  </tbody>\n</table>\n</div>"
     },
     "execution_count": 249,
     "metadata": {},
     "output_type": "execute_result"
    }
   ],
   "source": [
    "# очистка от контактов, которых нет у AT1\n",
    "table(hyd_aci,total).dropna(subset=AT14+AT16)"
   ],
   "metadata": {
    "collapsed": false,
    "pycharm": {
     "name": "#%%\n"
    }
   }
  },
  {
   "cell_type": "code",
   "execution_count": 250,
   "outputs": [
    {
     "data": {
      "text/plain": "gpcr         4YAY   4ZUD   6DO1   6OS0   6OS1   6OS2   6TKO   6U1N  6UP7\nb_factor_x                                                              \n2.37         66.0   66.0   66.0   66.0   66.0   66.0   66.0    NaN   NaN\n3.50         69.0   67.0   66.0   67.0   69.0   69.0   69.0    NaN   NaN\n4.38        135.0  285.0    NaN    NaN    NaN    NaN  285.0    NaN   NaN\n6.30         67.0   67.0    NaN    NaN    NaN    NaN    NaN    NaN  71.0\n12.51       135.0  136.0  136.0  136.0  136.0  136.0  136.0    NaN   NaN\n34.52       286.0    NaN  247.0  248.0  249.0  249.0    NaN  249.0   NaN\n34.54       285.0    NaN   65.0   65.0   65.0   65.0   63.0    NaN   NaN",
      "text/html": "<div>\n<style scoped>\n    .dataframe tbody tr th:only-of-type {\n        vertical-align: middle;\n    }\n\n    .dataframe tbody tr th {\n        vertical-align: top;\n    }\n\n    .dataframe thead th {\n        text-align: right;\n    }\n</style>\n<table border=\"1\" class=\"dataframe\">\n  <thead>\n    <tr style=\"text-align: right;\">\n      <th>gpcr</th>\n      <th>4YAY</th>\n      <th>4ZUD</th>\n      <th>6DO1</th>\n      <th>6OS0</th>\n      <th>6OS1</th>\n      <th>6OS2</th>\n      <th>6TKO</th>\n      <th>6U1N</th>\n      <th>6UP7</th>\n    </tr>\n    <tr>\n      <th>b_factor_x</th>\n      <th></th>\n      <th></th>\n      <th></th>\n      <th></th>\n      <th></th>\n      <th></th>\n      <th></th>\n      <th></th>\n      <th></th>\n    </tr>\n  </thead>\n  <tbody>\n    <tr>\n      <th>2.37</th>\n      <td>66.0</td>\n      <td>66.0</td>\n      <td>66.0</td>\n      <td>66.0</td>\n      <td>66.0</td>\n      <td>66.0</td>\n      <td>66.0</td>\n      <td>NaN</td>\n      <td>NaN</td>\n    </tr>\n    <tr>\n      <th>3.50</th>\n      <td>69.0</td>\n      <td>67.0</td>\n      <td>66.0</td>\n      <td>67.0</td>\n      <td>69.0</td>\n      <td>69.0</td>\n      <td>69.0</td>\n      <td>NaN</td>\n      <td>NaN</td>\n    </tr>\n    <tr>\n      <th>4.38</th>\n      <td>135.0</td>\n      <td>285.0</td>\n      <td>NaN</td>\n      <td>NaN</td>\n      <td>NaN</td>\n      <td>NaN</td>\n      <td>285.0</td>\n      <td>NaN</td>\n      <td>NaN</td>\n    </tr>\n    <tr>\n      <th>6.30</th>\n      <td>67.0</td>\n      <td>67.0</td>\n      <td>NaN</td>\n      <td>NaN</td>\n      <td>NaN</td>\n      <td>NaN</td>\n      <td>NaN</td>\n      <td>NaN</td>\n      <td>71.0</td>\n    </tr>\n    <tr>\n      <th>12.51</th>\n      <td>135.0</td>\n      <td>136.0</td>\n      <td>136.0</td>\n      <td>136.0</td>\n      <td>136.0</td>\n      <td>136.0</td>\n      <td>136.0</td>\n      <td>NaN</td>\n      <td>NaN</td>\n    </tr>\n    <tr>\n      <th>34.52</th>\n      <td>286.0</td>\n      <td>NaN</td>\n      <td>247.0</td>\n      <td>248.0</td>\n      <td>249.0</td>\n      <td>249.0</td>\n      <td>NaN</td>\n      <td>249.0</td>\n      <td>NaN</td>\n    </tr>\n    <tr>\n      <th>34.54</th>\n      <td>285.0</td>\n      <td>NaN</td>\n      <td>65.0</td>\n      <td>65.0</td>\n      <td>65.0</td>\n      <td>65.0</td>\n      <td>63.0</td>\n      <td>NaN</td>\n      <td>NaN</td>\n    </tr>\n  </tbody>\n</table>\n</div>"
     },
     "execution_count": 250,
     "metadata": {},
     "output_type": "execute_result"
    }
   ],
   "source": [
    "# очистка от непересекающихся контактов\n",
    "table(hyd_aci,total).dropna(subset=AT14+AT16,how='all').dropna(subset=list(set(arr)-set(['6PWC'])),how='all')"
   ],
   "metadata": {
    "collapsed": false,
    "pycharm": {
     "name": "#%%\n"
    }
   }
  },
  {
   "cell_type": "code",
   "execution_count": 251,
   "outputs": [
    {
     "data": {
      "text/plain": "gpcr         4YAY  4ZUD  6DO1  6OS0  6OS1  6OS2\nb_factor_x                                     \n3.50         70.0  70.0   NaN  70.0  70.0  70.0\n6.30         67.0  68.0   NaN   NaN   NaN   NaN\n6.31         68.0  68.0   NaN   NaN   NaN   NaN\n6.32         68.0  68.0   NaN   NaN   NaN   NaN\n6.33         69.0  69.0   NaN   NaN   NaN   NaN\n6.34         71.0  71.0   NaN   NaN   NaN   NaN\n6.35         71.0  71.0   NaN   NaN   NaN   NaN\n6.36         70.0  70.0   NaN   NaN   NaN   NaN\n7.56          NaN   NaN   NaN  69.0   NaN   NaN\n8.48          NaN   NaN   NaN   NaN   NaN  70.0\n34.53       246.0   NaN   NaN   NaN   NaN   NaN\n34.54       285.0   NaN  65.0  65.0  65.0  65.0\n34.55       285.0   NaN   NaN   NaN   NaN   NaN",
      "text/html": "<div>\n<style scoped>\n    .dataframe tbody tr th:only-of-type {\n        vertical-align: middle;\n    }\n\n    .dataframe tbody tr th {\n        vertical-align: top;\n    }\n\n    .dataframe thead th {\n        text-align: right;\n    }\n</style>\n<table border=\"1\" class=\"dataframe\">\n  <thead>\n    <tr style=\"text-align: right;\">\n      <th>gpcr</th>\n      <th>4YAY</th>\n      <th>4ZUD</th>\n      <th>6DO1</th>\n      <th>6OS0</th>\n      <th>6OS1</th>\n      <th>6OS2</th>\n    </tr>\n    <tr>\n      <th>b_factor_x</th>\n      <th></th>\n      <th></th>\n      <th></th>\n      <th></th>\n      <th></th>\n      <th></th>\n    </tr>\n  </thead>\n  <tbody>\n    <tr>\n      <th>3.50</th>\n      <td>70.0</td>\n      <td>70.0</td>\n      <td>NaN</td>\n      <td>70.0</td>\n      <td>70.0</td>\n      <td>70.0</td>\n    </tr>\n    <tr>\n      <th>6.30</th>\n      <td>67.0</td>\n      <td>68.0</td>\n      <td>NaN</td>\n      <td>NaN</td>\n      <td>NaN</td>\n      <td>NaN</td>\n    </tr>\n    <tr>\n      <th>6.31</th>\n      <td>68.0</td>\n      <td>68.0</td>\n      <td>NaN</td>\n      <td>NaN</td>\n      <td>NaN</td>\n      <td>NaN</td>\n    </tr>\n    <tr>\n      <th>6.32</th>\n      <td>68.0</td>\n      <td>68.0</td>\n      <td>NaN</td>\n      <td>NaN</td>\n      <td>NaN</td>\n      <td>NaN</td>\n    </tr>\n    <tr>\n      <th>6.33</th>\n      <td>69.0</td>\n      <td>69.0</td>\n      <td>NaN</td>\n      <td>NaN</td>\n      <td>NaN</td>\n      <td>NaN</td>\n    </tr>\n    <tr>\n      <th>6.34</th>\n      <td>71.0</td>\n      <td>71.0</td>\n      <td>NaN</td>\n      <td>NaN</td>\n      <td>NaN</td>\n      <td>NaN</td>\n    </tr>\n    <tr>\n      <th>6.35</th>\n      <td>71.0</td>\n      <td>71.0</td>\n      <td>NaN</td>\n      <td>NaN</td>\n      <td>NaN</td>\n      <td>NaN</td>\n    </tr>\n    <tr>\n      <th>6.36</th>\n      <td>70.0</td>\n      <td>70.0</td>\n      <td>NaN</td>\n      <td>NaN</td>\n      <td>NaN</td>\n      <td>NaN</td>\n    </tr>\n    <tr>\n      <th>7.56</th>\n      <td>NaN</td>\n      <td>NaN</td>\n      <td>NaN</td>\n      <td>69.0</td>\n      <td>NaN</td>\n      <td>NaN</td>\n    </tr>\n    <tr>\n      <th>8.48</th>\n      <td>NaN</td>\n      <td>NaN</td>\n      <td>NaN</td>\n      <td>NaN</td>\n      <td>NaN</td>\n      <td>70.0</td>\n    </tr>\n    <tr>\n      <th>34.53</th>\n      <td>246.0</td>\n      <td>NaN</td>\n      <td>NaN</td>\n      <td>NaN</td>\n      <td>NaN</td>\n      <td>NaN</td>\n    </tr>\n    <tr>\n      <th>34.54</th>\n      <td>285.0</td>\n      <td>NaN</td>\n      <td>65.0</td>\n      <td>65.0</td>\n      <td>65.0</td>\n      <td>65.0</td>\n    </tr>\n    <tr>\n      <th>34.55</th>\n      <td>285.0</td>\n      <td>NaN</td>\n      <td>NaN</td>\n      <td>NaN</td>\n      <td>NaN</td>\n      <td>NaN</td>\n    </tr>\n  </tbody>\n</table>\n</div>"
     },
     "execution_count": 251,
     "metadata": {},
     "output_type": "execute_result"
    }
   ],
   "source": [
    "# водородное отталкивание\n",
    "table(repulsion,total)"
   ],
   "metadata": {
    "collapsed": false,
    "pycharm": {
     "name": "#%%\n"
    }
   }
  },
  {
   "cell_type": "code",
   "execution_count": 252,
   "outputs": [
    {
     "data": {
      "text/plain": "gpcr        4YAY  4ZUD  6DO1  6OS0  6OS1  6OS2  6PWC  6TKO   6U1N  6UP7\nb_factor_x                                                             \n1.40         NaN   NaN   NaN   NaN   NaN   NaN   NaN  70.0    NaN   NaN\n1.43         NaN   NaN   NaN   NaN   NaN   NaN   NaN  70.0    NaN   NaN\n2.43         NaN   NaN   NaN  70.0  70.0  70.0   NaN   NaN    NaN   NaN\n2.64         NaN   NaN   NaN   NaN   NaN   NaN   NaN  70.0    NaN   NaN\n2.67         NaN   NaN   NaN   NaN   NaN   NaN   NaN  70.0    NaN   NaN\n3.23         NaN   NaN   NaN   NaN   NaN   NaN   NaN  71.0    NaN   NaN\n3.46         NaN   NaN   NaN   NaN  70.0  70.0   NaN   NaN    NaN   NaN\n3.54        68.0  68.0  68.0  68.0  70.0  68.0   NaN   NaN    NaN  68.0\n3.55         NaN   NaN   NaN   NaN  68.0   NaN   NaN   NaN    NaN   NaN\n5.61        68.0  73.0  70.0  70.0  68.0  68.0   NaN   NaN    NaN   NaN\n5.64         NaN   NaN   NaN   NaN   NaN   NaN   NaN  71.0    NaN   NaN\n5.65        68.0  68.0  68.0  68.0  68.0  68.0   NaN   NaN    NaN   NaN\n5.66         NaN   NaN   NaN   NaN   NaN   NaN   NaN  71.0    NaN   NaN\n5.67         NaN   NaN   NaN   NaN   NaN   NaN   NaN  71.0    NaN   NaN\n5.69         NaN   NaN   NaN   NaN   NaN   NaN  73.0   NaN    NaN   NaN\n5.70         NaN   NaN   NaN   NaN   NaN   NaN   NaN  71.0    NaN   NaN\n6.27         NaN   NaN   NaN   NaN   NaN   NaN   NaN  71.0    NaN   NaN\n6.28         NaN   NaN   NaN   NaN   NaN   NaN   NaN  71.0    NaN   NaN\n6.33        70.0  70.0  68.0  68.0  68.0  68.0   NaN   NaN    NaN   NaN\n6.36        70.0  70.0  70.0  68.0  68.0  68.0   NaN   NaN    NaN   NaN\n6.37        70.0  70.0  70.0  68.0  68.0  68.0   NaN   NaN    NaN   NaN\n6.40         NaN   NaN  70.0   NaN  68.0  70.0   NaN   NaN    NaN   NaN\n7.56        70.0   NaN  68.0  68.0  68.0  68.0   NaN   NaN    NaN   NaN\n34.51        NaN   NaN   NaN   NaN   NaN   NaN   NaN   NaN  129.0   NaN\n45.50        NaN   NaN   NaN   NaN   NaN   NaN   NaN  71.0    NaN   NaN",
      "text/html": "<div>\n<style scoped>\n    .dataframe tbody tr th:only-of-type {\n        vertical-align: middle;\n    }\n\n    .dataframe tbody tr th {\n        vertical-align: top;\n    }\n\n    .dataframe thead th {\n        text-align: right;\n    }\n</style>\n<table border=\"1\" class=\"dataframe\">\n  <thead>\n    <tr style=\"text-align: right;\">\n      <th>gpcr</th>\n      <th>4YAY</th>\n      <th>4ZUD</th>\n      <th>6DO1</th>\n      <th>6OS0</th>\n      <th>6OS1</th>\n      <th>6OS2</th>\n      <th>6PWC</th>\n      <th>6TKO</th>\n      <th>6U1N</th>\n      <th>6UP7</th>\n    </tr>\n    <tr>\n      <th>b_factor_x</th>\n      <th></th>\n      <th></th>\n      <th></th>\n      <th></th>\n      <th></th>\n      <th></th>\n      <th></th>\n      <th></th>\n      <th></th>\n      <th></th>\n    </tr>\n  </thead>\n  <tbody>\n    <tr>\n      <th>1.40</th>\n      <td>NaN</td>\n      <td>NaN</td>\n      <td>NaN</td>\n      <td>NaN</td>\n      <td>NaN</td>\n      <td>NaN</td>\n      <td>NaN</td>\n      <td>70.0</td>\n      <td>NaN</td>\n      <td>NaN</td>\n    </tr>\n    <tr>\n      <th>1.43</th>\n      <td>NaN</td>\n      <td>NaN</td>\n      <td>NaN</td>\n      <td>NaN</td>\n      <td>NaN</td>\n      <td>NaN</td>\n      <td>NaN</td>\n      <td>70.0</td>\n      <td>NaN</td>\n      <td>NaN</td>\n    </tr>\n    <tr>\n      <th>2.43</th>\n      <td>NaN</td>\n      <td>NaN</td>\n      <td>NaN</td>\n      <td>70.0</td>\n      <td>70.0</td>\n      <td>70.0</td>\n      <td>NaN</td>\n      <td>NaN</td>\n      <td>NaN</td>\n      <td>NaN</td>\n    </tr>\n    <tr>\n      <th>2.64</th>\n      <td>NaN</td>\n      <td>NaN</td>\n      <td>NaN</td>\n      <td>NaN</td>\n      <td>NaN</td>\n      <td>NaN</td>\n      <td>NaN</td>\n      <td>70.0</td>\n      <td>NaN</td>\n      <td>NaN</td>\n    </tr>\n    <tr>\n      <th>2.67</th>\n      <td>NaN</td>\n      <td>NaN</td>\n      <td>NaN</td>\n      <td>NaN</td>\n      <td>NaN</td>\n      <td>NaN</td>\n      <td>NaN</td>\n      <td>70.0</td>\n      <td>NaN</td>\n      <td>NaN</td>\n    </tr>\n    <tr>\n      <th>3.23</th>\n      <td>NaN</td>\n      <td>NaN</td>\n      <td>NaN</td>\n      <td>NaN</td>\n      <td>NaN</td>\n      <td>NaN</td>\n      <td>NaN</td>\n      <td>71.0</td>\n      <td>NaN</td>\n      <td>NaN</td>\n    </tr>\n    <tr>\n      <th>3.46</th>\n      <td>NaN</td>\n      <td>NaN</td>\n      <td>NaN</td>\n      <td>NaN</td>\n      <td>70.0</td>\n      <td>70.0</td>\n      <td>NaN</td>\n      <td>NaN</td>\n      <td>NaN</td>\n      <td>NaN</td>\n    </tr>\n    <tr>\n      <th>3.54</th>\n      <td>68.0</td>\n      <td>68.0</td>\n      <td>68.0</td>\n      <td>68.0</td>\n      <td>70.0</td>\n      <td>68.0</td>\n      <td>NaN</td>\n      <td>NaN</td>\n      <td>NaN</td>\n      <td>68.0</td>\n    </tr>\n    <tr>\n      <th>3.55</th>\n      <td>NaN</td>\n      <td>NaN</td>\n      <td>NaN</td>\n      <td>NaN</td>\n      <td>68.0</td>\n      <td>NaN</td>\n      <td>NaN</td>\n      <td>NaN</td>\n      <td>NaN</td>\n      <td>NaN</td>\n    </tr>\n    <tr>\n      <th>5.61</th>\n      <td>68.0</td>\n      <td>73.0</td>\n      <td>70.0</td>\n      <td>70.0</td>\n      <td>68.0</td>\n      <td>68.0</td>\n      <td>NaN</td>\n      <td>NaN</td>\n      <td>NaN</td>\n      <td>NaN</td>\n    </tr>\n    <tr>\n      <th>5.64</th>\n      <td>NaN</td>\n      <td>NaN</td>\n      <td>NaN</td>\n      <td>NaN</td>\n      <td>NaN</td>\n      <td>NaN</td>\n      <td>NaN</td>\n      <td>71.0</td>\n      <td>NaN</td>\n      <td>NaN</td>\n    </tr>\n    <tr>\n      <th>5.65</th>\n      <td>68.0</td>\n      <td>68.0</td>\n      <td>68.0</td>\n      <td>68.0</td>\n      <td>68.0</td>\n      <td>68.0</td>\n      <td>NaN</td>\n      <td>NaN</td>\n      <td>NaN</td>\n      <td>NaN</td>\n    </tr>\n    <tr>\n      <th>5.66</th>\n      <td>NaN</td>\n      <td>NaN</td>\n      <td>NaN</td>\n      <td>NaN</td>\n      <td>NaN</td>\n      <td>NaN</td>\n      <td>NaN</td>\n      <td>71.0</td>\n      <td>NaN</td>\n      <td>NaN</td>\n    </tr>\n    <tr>\n      <th>5.67</th>\n      <td>NaN</td>\n      <td>NaN</td>\n      <td>NaN</td>\n      <td>NaN</td>\n      <td>NaN</td>\n      <td>NaN</td>\n      <td>NaN</td>\n      <td>71.0</td>\n      <td>NaN</td>\n      <td>NaN</td>\n    </tr>\n    <tr>\n      <th>5.69</th>\n      <td>NaN</td>\n      <td>NaN</td>\n      <td>NaN</td>\n      <td>NaN</td>\n      <td>NaN</td>\n      <td>NaN</td>\n      <td>73.0</td>\n      <td>NaN</td>\n      <td>NaN</td>\n      <td>NaN</td>\n    </tr>\n    <tr>\n      <th>5.70</th>\n      <td>NaN</td>\n      <td>NaN</td>\n      <td>NaN</td>\n      <td>NaN</td>\n      <td>NaN</td>\n      <td>NaN</td>\n      <td>NaN</td>\n      <td>71.0</td>\n      <td>NaN</td>\n      <td>NaN</td>\n    </tr>\n    <tr>\n      <th>6.27</th>\n      <td>NaN</td>\n      <td>NaN</td>\n      <td>NaN</td>\n      <td>NaN</td>\n      <td>NaN</td>\n      <td>NaN</td>\n      <td>NaN</td>\n      <td>71.0</td>\n      <td>NaN</td>\n      <td>NaN</td>\n    </tr>\n    <tr>\n      <th>6.28</th>\n      <td>NaN</td>\n      <td>NaN</td>\n      <td>NaN</td>\n      <td>NaN</td>\n      <td>NaN</td>\n      <td>NaN</td>\n      <td>NaN</td>\n      <td>71.0</td>\n      <td>NaN</td>\n      <td>NaN</td>\n    </tr>\n    <tr>\n      <th>6.33</th>\n      <td>70.0</td>\n      <td>70.0</td>\n      <td>68.0</td>\n      <td>68.0</td>\n      <td>68.0</td>\n      <td>68.0</td>\n      <td>NaN</td>\n      <td>NaN</td>\n      <td>NaN</td>\n      <td>NaN</td>\n    </tr>\n    <tr>\n      <th>6.36</th>\n      <td>70.0</td>\n      <td>70.0</td>\n      <td>70.0</td>\n      <td>68.0</td>\n      <td>68.0</td>\n      <td>68.0</td>\n      <td>NaN</td>\n      <td>NaN</td>\n      <td>NaN</td>\n      <td>NaN</td>\n    </tr>\n    <tr>\n      <th>6.37</th>\n      <td>70.0</td>\n      <td>70.0</td>\n      <td>70.0</td>\n      <td>68.0</td>\n      <td>68.0</td>\n      <td>68.0</td>\n      <td>NaN</td>\n      <td>NaN</td>\n      <td>NaN</td>\n      <td>NaN</td>\n    </tr>\n    <tr>\n      <th>6.40</th>\n      <td>NaN</td>\n      <td>NaN</td>\n      <td>70.0</td>\n      <td>NaN</td>\n      <td>68.0</td>\n      <td>70.0</td>\n      <td>NaN</td>\n      <td>NaN</td>\n      <td>NaN</td>\n      <td>NaN</td>\n    </tr>\n    <tr>\n      <th>7.56</th>\n      <td>70.0</td>\n      <td>NaN</td>\n      <td>68.0</td>\n      <td>68.0</td>\n      <td>68.0</td>\n      <td>68.0</td>\n      <td>NaN</td>\n      <td>NaN</td>\n      <td>NaN</td>\n      <td>NaN</td>\n    </tr>\n    <tr>\n      <th>34.51</th>\n      <td>NaN</td>\n      <td>NaN</td>\n      <td>NaN</td>\n      <td>NaN</td>\n      <td>NaN</td>\n      <td>NaN</td>\n      <td>NaN</td>\n      <td>NaN</td>\n      <td>129.0</td>\n      <td>NaN</td>\n    </tr>\n    <tr>\n      <th>45.50</th>\n      <td>NaN</td>\n      <td>NaN</td>\n      <td>NaN</td>\n      <td>NaN</td>\n      <td>NaN</td>\n      <td>NaN</td>\n      <td>NaN</td>\n      <td>71.0</td>\n      <td>NaN</td>\n      <td>NaN</td>\n    </tr>\n  </tbody>\n</table>\n</div>"
     },
     "execution_count": 252,
     "metadata": {},
     "output_type": "execute_result"
    }
   ],
   "source": [
    "# гидрофобное притяжение\n",
    "table(hydrophob,total)"
   ],
   "metadata": {
    "collapsed": false,
    "pycharm": {
     "name": "#%%\n"
    }
   }
  },
  {
   "cell_type": "code",
   "execution_count": 253,
   "outputs": [
    {
     "data": {
      "text/plain": "gpcr        4ZUD  6OS0  6OS1  6OS2  6TKO\nb_factor_x                              \n3.50        69.0  69.0  69.0  69.0  69.0\n12.49        NaN   NaN   NaN   NaN  67.0",
      "text/html": "<div>\n<style scoped>\n    .dataframe tbody tr th:only-of-type {\n        vertical-align: middle;\n    }\n\n    .dataframe tbody tr th {\n        vertical-align: top;\n    }\n\n    .dataframe thead th {\n        text-align: right;\n    }\n</style>\n<table border=\"1\" class=\"dataframe\">\n  <thead>\n    <tr style=\"text-align: right;\">\n      <th>gpcr</th>\n      <th>4ZUD</th>\n      <th>6OS0</th>\n      <th>6OS1</th>\n      <th>6OS2</th>\n      <th>6TKO</th>\n    </tr>\n    <tr>\n      <th>b_factor_x</th>\n      <th></th>\n      <th></th>\n      <th></th>\n      <th></th>\n      <th></th>\n    </tr>\n  </thead>\n  <tbody>\n    <tr>\n      <th>3.50</th>\n      <td>69.0</td>\n      <td>69.0</td>\n      <td>69.0</td>\n      <td>69.0</td>\n      <td>69.0</td>\n    </tr>\n    <tr>\n      <th>12.49</th>\n      <td>NaN</td>\n      <td>NaN</td>\n      <td>NaN</td>\n      <td>NaN</td>\n      <td>67.0</td>\n    </tr>\n  </tbody>\n</table>\n</div>"
     },
     "execution_count": 253,
     "metadata": {},
     "output_type": "execute_result"
    }
   ],
   "source": [
    "# ионное притяжение\n",
    "table(ionic,total)"
   ],
   "metadata": {
    "collapsed": false,
    "pycharm": {
     "name": "#%%\n"
    }
   }
  }
 ],
 "metadata": {
  "kernelspec": {
   "display_name": "Python 3",
   "language": "python",
   "name": "python3"
  },
  "language_info": {
   "codemirror_mode": {
    "name": "ipython",
    "version": 2
   },
   "file_extension": ".py",
   "mimetype": "text/x-python",
   "name": "python",
   "nbconvert_exporter": "python",
   "pygments_lexer": "ipython2",
   "version": "2.7.6"
  }
 },
 "nbformat": 4,
 "nbformat_minor": 0
}
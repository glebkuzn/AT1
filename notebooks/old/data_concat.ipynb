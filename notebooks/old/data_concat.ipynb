{
 "cells": [
  {
   "cell_type": "code",
   "execution_count": null,
   "outputs": [],
   "source": [],
   "metadata": {
    "collapsed": false,
    "pycharm": {
     "name": "#%%\n"
    }
   }
  },
  {
   "cell_type": "markdown",
   "source": [
    "переименование остатков по номерам"
   ],
   "metadata": {
    "collapsed": false
   }
  },
  {
   "cell_type": "code",
   "execution_count": 23,
   "outputs": [],
   "source": [
    "Rs=atoms[atoms['chain_id']=='A'].groupby(by = 'residue_number').first().reset_index()[['residue_number','residue_name','b_factor']]"
   ],
   "metadata": {
    "collapsed": false,
    "pycharm": {
     "name": "#%%\n"
    }
   }
  },
  {
   "cell_type": "code",
   "execution_count": 24,
   "outputs": [
    {
     "data": {
      "text/plain": "    residue_number residue_name  b_factor\n0               61          PHE     58.38\n1               63          TYR     71.21\n2               64          GLY     73.83\n3               65          ARG     79.23\n4               66          GLU     86.71\n5               67          ASP     89.81\n6               68          CYS     95.50\n7               69          ASP     93.59\n8               70          VAL     97.02\n9               71          LEU     95.33\n10              73          LEU     90.31\n11              75          PHE     79.02\n12              77          LYS     68.36\n13             134          GLU     83.24\n14             136          THR     89.11\n15             241          ILE     60.15\n16             243          LEU     65.81\n17             244          PHE     71.49\n18             249          TYR     62.12\n19             285          ARG     72.40",
      "text/html": "<div>\n<style scoped>\n    .dataframe tbody tr th:only-of-type {\n        vertical-align: middle;\n    }\n\n    .dataframe tbody tr th {\n        vertical-align: top;\n    }\n\n    .dataframe thead th {\n        text-align: right;\n    }\n</style>\n<table border=\"1\" class=\"dataframe\">\n  <thead>\n    <tr style=\"text-align: right;\">\n      <th></th>\n      <th>residue_number</th>\n      <th>residue_name</th>\n      <th>b_factor</th>\n    </tr>\n  </thead>\n  <tbody>\n    <tr>\n      <th>0</th>\n      <td>61</td>\n      <td>PHE</td>\n      <td>58.38</td>\n    </tr>\n    <tr>\n      <th>1</th>\n      <td>63</td>\n      <td>TYR</td>\n      <td>71.21</td>\n    </tr>\n    <tr>\n      <th>2</th>\n      <td>64</td>\n      <td>GLY</td>\n      <td>73.83</td>\n    </tr>\n    <tr>\n      <th>3</th>\n      <td>65</td>\n      <td>ARG</td>\n      <td>79.23</td>\n    </tr>\n    <tr>\n      <th>4</th>\n      <td>66</td>\n      <td>GLU</td>\n      <td>86.71</td>\n    </tr>\n    <tr>\n      <th>5</th>\n      <td>67</td>\n      <td>ASP</td>\n      <td>89.81</td>\n    </tr>\n    <tr>\n      <th>6</th>\n      <td>68</td>\n      <td>CYS</td>\n      <td>95.50</td>\n    </tr>\n    <tr>\n      <th>7</th>\n      <td>69</td>\n      <td>ASP</td>\n      <td>93.59</td>\n    </tr>\n    <tr>\n      <th>8</th>\n      <td>70</td>\n      <td>VAL</td>\n      <td>97.02</td>\n    </tr>\n    <tr>\n      <th>9</th>\n      <td>71</td>\n      <td>LEU</td>\n      <td>95.33</td>\n    </tr>\n    <tr>\n      <th>10</th>\n      <td>73</td>\n      <td>LEU</td>\n      <td>90.31</td>\n    </tr>\n    <tr>\n      <th>11</th>\n      <td>75</td>\n      <td>PHE</td>\n      <td>79.02</td>\n    </tr>\n    <tr>\n      <th>12</th>\n      <td>77</td>\n      <td>LYS</td>\n      <td>68.36</td>\n    </tr>\n    <tr>\n      <th>13</th>\n      <td>134</td>\n      <td>GLU</td>\n      <td>83.24</td>\n    </tr>\n    <tr>\n      <th>14</th>\n      <td>136</td>\n      <td>THR</td>\n      <td>89.11</td>\n    </tr>\n    <tr>\n      <th>15</th>\n      <td>241</td>\n      <td>ILE</td>\n      <td>60.15</td>\n    </tr>\n    <tr>\n      <th>16</th>\n      <td>243</td>\n      <td>LEU</td>\n      <td>65.81</td>\n    </tr>\n    <tr>\n      <th>17</th>\n      <td>244</td>\n      <td>PHE</td>\n      <td>71.49</td>\n    </tr>\n    <tr>\n      <th>18</th>\n      <td>249</td>\n      <td>TYR</td>\n      <td>62.12</td>\n    </tr>\n    <tr>\n      <th>19</th>\n      <td>285</td>\n      <td>ARG</td>\n      <td>72.40</td>\n    </tr>\n  </tbody>\n</table>\n</div>"
     },
     "execution_count": 24,
     "metadata": {},
     "output_type": "execute_result"
    }
   ],
   "source": [
    "Rs"
   ],
   "metadata": {
    "collapsed": false,
    "pycharm": {
     "name": "#%%\n"
    }
   }
  },
  {
   "cell_type": "code",
   "execution_count": 25,
   "outputs": [],
   "source": [
    "As=atoms[atoms['chain_id']=='B'].groupby(by = 'residue_number').first().reset_index()[['residue_number','residue_name','b_factor']]"
   ],
   "metadata": {
    "collapsed": false,
    "pycharm": {
     "name": "#%%\n"
    }
   }
  },
  {
   "cell_type": "code",
   "execution_count": 26,
   "outputs": [
    {
     "data": {
      "text/plain": "Empty DataFrame\nColumns: [residue_number_a, residue_name_a, b_factor_a]\nIndex: []",
      "text/html": "<div>\n<style scoped>\n    .dataframe tbody tr th:only-of-type {\n        vertical-align: middle;\n    }\n\n    .dataframe tbody tr th {\n        vertical-align: top;\n    }\n\n    .dataframe thead th {\n        text-align: right;\n    }\n</style>\n<table border=\"1\" class=\"dataframe\">\n  <thead>\n    <tr style=\"text-align: right;\">\n      <th></th>\n      <th>residue_number_a</th>\n      <th>residue_name_a</th>\n      <th>b_factor_a</th>\n    </tr>\n  </thead>\n  <tbody>\n  </tbody>\n</table>\n</div>"
     },
     "execution_count": 26,
     "metadata": {},
     "output_type": "execute_result"
    }
   ],
   "source": [
    "As.add_suffix(\"_a\")"
   ],
   "metadata": {
    "collapsed": false,
    "pycharm": {
     "name": "#%%\n"
    }
   }
  },
  {
   "cell_type": "code",
   "execution_count": 27,
   "outputs": [],
   "source": [
    "outf = out[out['Sum of Value']<6]"
   ],
   "metadata": {
    "collapsed": false,
    "pycharm": {
     "name": "#%%\n"
    }
   }
  },
  {
   "cell_type": "code",
   "execution_count": 28,
   "outputs": [
    {
     "data": {
      "text/plain": "    index Column  Sum of Value\n74     14      3      5.591224",
      "text/html": "<div>\n<style scoped>\n    .dataframe tbody tr th:only-of-type {\n        vertical-align: middle;\n    }\n\n    .dataframe tbody tr th {\n        vertical-align: top;\n    }\n\n    .dataframe thead th {\n        text-align: right;\n    }\n</style>\n<table border=\"1\" class=\"dataframe\">\n  <thead>\n    <tr style=\"text-align: right;\">\n      <th></th>\n      <th>index</th>\n      <th>Column</th>\n      <th>Sum of Value</th>\n    </tr>\n  </thead>\n  <tbody>\n    <tr>\n      <th>74</th>\n      <td>14</td>\n      <td>3</td>\n      <td>5.591224</td>\n    </tr>\n  </tbody>\n</table>\n</div>"
     },
     "execution_count": 28,
     "metadata": {},
     "output_type": "execute_result"
    }
   ],
   "source": [
    "outf"
   ],
   "metadata": {
    "collapsed": false,
    "pycharm": {
     "name": "#%%\n"
    }
   }
  },
  {
   "cell_type": "code",
   "execution_count": 29,
   "outputs": [
    {
     "data": {
      "text/plain": "Empty DataFrame\nColumns: [index, Column, Sum of Value, residue_number_r, residue_name_r, b_factor_r, index_a, residue_number_a, residue_name_a, b_factor_a]\nIndex: []",
      "text/html": "<div>\n<style scoped>\n    .dataframe tbody tr th:only-of-type {\n        vertical-align: middle;\n    }\n\n    .dataframe tbody tr th {\n        vertical-align: top;\n    }\n\n    .dataframe thead th {\n        text-align: right;\n    }\n</style>\n<table border=\"1\" class=\"dataframe\">\n  <thead>\n    <tr style=\"text-align: right;\">\n      <th></th>\n      <th>index</th>\n      <th>Column</th>\n      <th>Sum of Value</th>\n      <th>residue_number_r</th>\n      <th>residue_name_r</th>\n      <th>b_factor_r</th>\n      <th>index_a</th>\n      <th>residue_number_a</th>\n      <th>residue_name_a</th>\n      <th>b_factor_a</th>\n    </tr>\n  </thead>\n  <tbody>\n  </tbody>\n</table>\n</div>"
     },
     "execution_count": 29,
     "metadata": {},
     "output_type": "execute_result"
    }
   ],
   "source": [
    "outf.merge(Rs.add_suffix(\"_r\").reset_index(),on='index').merge(As.reset_index().add_suffix(\"_a\"),left_on='Column',right_on='index_a')"
   ],
   "metadata": {
    "collapsed": false,
    "pycharm": {
     "name": "#%%\n"
    }
   }
  },
  {
   "cell_type": "code",
   "execution_count": 29,
   "metadata": {
    "collapsed": true
   },
   "outputs": [],
   "source": []
  }
 ],
 "metadata": {
  "kernelspec": {
   "display_name": "Python 3",
   "language": "python",
   "name": "python3"
  },
  "language_info": {
   "codemirror_mode": {
    "name": "ipython",
    "version": 2
   },
   "file_extension": ".py",
   "mimetype": "text/x-python",
   "name": "python",
   "nbconvert_exporter": "python",
   "pygments_lexer": "ipython2",
   "version": "2.7.6"
  }
 },
 "nbformat": 4,
 "nbformat_minor": 0
}
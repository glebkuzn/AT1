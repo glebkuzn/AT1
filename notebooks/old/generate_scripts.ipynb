{
 "cells": [
  {
   "cell_type": "code",
   "execution_count": 1,
   "outputs": [],
   "source": [
    "import pandas as pd\n",
    "import numpy as np"
   ],
   "metadata": {
    "collapsed": false,
    "pycharm": {
     "name": "#%%\n"
    }
   }
  },
  {
   "cell_type": "markdown",
   "source": [
    "Список необходимых конструкций"
   ],
   "metadata": {
    "collapsed": false,
    "pycharm": {
     "name": "#%% md\n"
    }
   }
  },
  {
   "cell_type": "code",
   "execution_count": 3,
   "metadata": {
    "collapsed": true
   },
   "outputs": [],
   "source": [
    "AT14 = ['4YAY','4ZUD']\n",
    "AT16 = ['6DO1','6OS0','6OS1','6OS2']\n",
    "arr = ['6TKO','6U1N','6UP7','6PWC']"
   ]
  },
  {
   "cell_type": "code",
   "execution_count": 4,
   "outputs": [],
   "source": [
    "arr_res = (list(range(282,288))+\n",
    "           list(range(130,138))+\n",
    "           list(range(244,251))+\n",
    "           list(range(59,79))+\n",
    "           list(range(152,159))+\n",
    "           list(range(90,95))+\n",
    "           list(range(307,316))+\n",
    "           list(range(117,123))\n",
    "\n",
    "           )"
   ],
   "metadata": {
    "collapsed": false,
    "pycharm": {
     "name": "#%%\n"
    }
   }
  },
  {
   "cell_type": "code",
   "execution_count": 5,
   "outputs": [
    {
     "data": {
      "text/plain": "68"
     },
     "execution_count": 5,
     "metadata": {},
     "output_type": "execute_result"
    }
   ],
   "source": [
    "len(arr_res)"
   ],
   "metadata": {
    "collapsed": false,
    "pycharm": {
     "name": "#%%\n"
    }
   }
  },
  {
   "cell_type": "code",
   "execution_count": 6,
   "outputs": [],
   "source": [
    "dict = {\n",
    "\"6UP7\":\"C\",\n",
    "\"6U1N\":\"D\",\n",
    "\"6PWC\":\"E\",\n",
    "\"6TKO\":\"F\",\n",
    "}"
   ],
   "metadata": {
    "collapsed": false,
    "pycharm": {
     "name": "#%%\n"
    }
   }
  },
  {
   "cell_type": "code",
   "execution_count": 7,
   "outputs": [
    {
     "data": {
      "text/plain": "'C'"
     },
     "execution_count": 7,
     "metadata": {},
     "output_type": "execute_result"
    }
   ],
   "source": [
    "dict[\"6UP7\"]"
   ],
   "metadata": {
    "collapsed": false,
    "pycharm": {
     "name": "#%%\n"
    }
   }
  },
  {
   "cell_type": "markdown",
   "source": [
    "поиск связей"
   ],
   "metadata": {
    "collapsed": false,
    "pycharm": {
     "name": "#%% md\n"
    }
   }
  },
  {
   "cell_type": "code",
   "execution_count": null,
   "outputs": [],
   "source": [
    "# for AT1 in [4,6]:\n",
    "#     for arr_i in arr:\n",
    "#         script = f'''\n",
    "#     reinitialize\n",
    "#     preset.publication(selection='all')\n",
    "#     set label_size, 20\n",
    "#     load ../../pdb/BW/arr/{arr_i}.pdb\n",
    "#     load ../../pdb/BW/only_arrs.pdb\n",
    "#     load ../../pdb/BW/AT1/{AT1}.pdb\n",
    "#\n",
    "#     util.cbak only_arrs\n",
    "#     util.cbc ! only_arrs\n",
    "#\n",
    "#     align {arr_i}, only_arrs\n",
    "#     align {AT1}, {arr_i}\n",
    "#     remove {arr_i}\n",
    "#     remove only_arrs and ! chain {dict[arr_i]}\n",
    "# '''\n",
    "#\n",
    "#         for i in arr_res:\n",
    "#             to_add = f'''\n",
    "#     select '{i}', resi {i} and only_arrs\n",
    "#     distance {i}_polar, {i}, {AT1}, 5, mode=2\n",
    "#     # distance {i}_contact, {i}, {AT1}, 3, mode=0\n",
    "#     select {i}_round, byres {i} around {AT1} and ! only_arrs\n",
    "#     show sticks, {i}_round\n",
    "#     label n. CA & {i}_round, resi+resn+\"-%1.2f\" %b\n",
    "#     select {i}_orig, byres {i}_round around {arr_i} and only_arrs\n",
    "#     label n. N & {i}_orig, resi+resn\n",
    "#     show sticks, {i}_orig\n",
    "#     deselect\n",
    "#     orient {i} + {i}_round\n",
    "#     viewport 1024,768\n",
    "#     bg_color white\n",
    "#     ray\n",
    "#     set label_size, 20\n",
    "#     png ../../images/{arr_i}/{AT1}/{i}.png\n",
    "#     '''\n",
    "#             script+=to_add\n",
    "#         with open(f'../scripts/make_images/{arr_i}+{AT1}_generated.pml', 'w') as f:\n",
    "#             f.write(script)"
   ],
   "metadata": {
    "collapsed": false,
    "pycharm": {
     "name": "#%%\n"
    }
   }
  },
  {
   "cell_type": "code",
   "execution_count": 15,
   "outputs": [],
   "source": [
    "for AT1 in AT14+AT16:\n",
    "    for arr_i in arr:\n",
    "        script = f'''\n",
    "    reinitialize\n",
    "    util.cbak\n",
    "    preset.publication(selection='all')\n",
    "    load ../../pdb/BW/arr/{arr_i}.pdb\n",
    "    load ../../pdb/BW/only_arrs.pdb\n",
    "    load ../../pdb/BW/AT1/{AT1}_GPCRDB.pdb\n",
    "\n",
    "    align {arr_i}, only_arrs\n",
    "    align {AT1}_GPCRDB, {arr_i}\n",
    "    remove {arr_i}\n",
    "    remove only_arrs and ! chain {dict[arr_i]}\n",
    "'''\n",
    "\n",
    "        for i in arr_res:\n",
    "            to_add = f'''\n",
    "    select '{i}', resi {i} and only_arrs\n",
    "    distance {i}_polar, {i}, {AT1}_GPCRDB, 4, mode=2\n",
    "\n",
    "    select {i}_round, byres {i} around 4 and ! only_arrs\n",
    "    show sticks, {i}_round\n",
    "    label n. CA & {i}_round, resi+resn+\"-%1.2f\" %b\n",
    "\n",
    "    select {i}_orig, byres {i}_round around 4 and only_arrs\n",
    "    label n. N & {i}_orig, resi+resn\n",
    "    show sticks, {i}_orig\n",
    "    '''\n",
    "            script+=to_add\n",
    "        end=f'''\n",
    "    deselect\n",
    "    orient {AT1}_GPCRDB + only_arrs\n",
    "    viewport 1024,768\n",
    "    bg_color white\n",
    "    ray\n",
    "    set label_size, 20\n",
    "    png ../../images/presentation/{arr_i}_{AT1}.png\n",
    "    '''\n",
    "        script+=end\n",
    "        with open(f'../scripts/make_presentation/{arr_i}+{AT1}.pml', 'w') as f:\n",
    "            f.write(script)"
   ],
   "metadata": {
    "collapsed": false,
    "pycharm": {
     "name": "#%%\n"
    }
   }
  },
  {
   "cell_type": "code",
   "execution_count": 33,
   "outputs": [],
   "source": [
    "for AT1 in AT14+AT16:\n",
    "    for arr_i in arr:\n",
    "        script = f'''\n",
    "    reinitialize\n",
    "    load ../../pdb/BW/only_arrs.pdb\n",
    "    util.cbak all\n",
    "    preset.publication(selection='all')\n",
    "    load ../../pdb/BW/arr/{arr_i}.pdb\n",
    "    load ../../pdb/BW/AT1/{AT1}_GPCRDB.pdb\n",
    "    orient only_arrs\n",
    "\n",
    "    align {arr_i}, only_arrs\n",
    "    align {AT1}_GPCRDB, {arr_i}\n",
    "    remove {arr_i}\n",
    "    remove only_arrs and ! chain {dict[arr_i]}\n",
    "'''\n",
    "\n",
    "        for i in arr_res:\n",
    "            to_add = f'''\n",
    "    select '{i}', resi {i} and only_arrs\n",
    "    # distance {i}_polar, {i}, {AT1}_GPCRDB, 3, mode=2\n",
    "\n",
    "    select {i}_round, byres {i} around 3 and ! only_arrs\n",
    "    show sticks, {i}_round\n",
    "    # label n. CA & {i}_round, resi+resn+\"-%1.2f\" %b\n",
    "\n",
    "    select {i}_orig, byres {i}_round around 3 and only_arrs\n",
    "    # label n. N & {i}_orig, resi+resn\n",
    "    show spheres, {i}_orig\n",
    "    '''\n",
    "            script+=to_add\n",
    "        end=f'''\n",
    "    deselect\n",
    "\n",
    "    zoom {AT1}_GPCRDB + only_arrs\n",
    "    rotate [1,1,1], 90, all\n",
    "    rotate [0,1,1], 45, all\n",
    "    rotate [0,1,0], -90, all\n",
    "    viewport 768,768\n",
    "    bg_color white\n",
    "    ray\n",
    "    set label_size, 20\n",
    "    png ../../images/presentation_general/{arr_i}_{AT1}.png\n",
    "    '''\n",
    "        script+=end\n",
    "        with open(f'../scripts/make_presentation_general/{arr_i}+{AT1}.pml', 'w') as f:\n",
    "            f.write(script)"
   ],
   "metadata": {
    "collapsed": false,
    "pycharm": {
     "name": "#%%\n"
    }
   }
  },
  {
   "cell_type": "code",
   "execution_count": 74,
   "outputs": [],
   "source": [
    "i='arr_acids'\n",
    "for AT1 in AT14+AT16:\n",
    "    for arr_i in arr:\n",
    "        script = f'''\n",
    "    reinitialize\n",
    "    load ../../pdb/BW/only_arrs.pdb\n",
    "    orient only_arrs\n",
    "    load ../../pdb/BW/arr/{arr_i}.pdb\n",
    "    load ../../pdb/BW/AT1/{AT1}_GPCRDB.pdb\n",
    "    preset.publication(selection='all')\n",
    "    util.cbak {AT1}_GPCRDB & n. c+ca\n",
    "    util.cbac only_arrs & n. c+ca\n",
    "    label first {AT1}_GPCRDB, '{AT1}'\n",
    "\n",
    "    align {arr_i}, only_arrs\n",
    "    align {AT1}_GPCRDB, {arr_i}\n",
    "    remove {arr_i}\n",
    "    remove only_arrs and ! chain {dict[arr_i]}\n",
    "\n",
    "    select {i}, only_arrs\n",
    "    label first {i}, '{arr_i}'\n",
    "\n",
    "    select {i}_round, byres {i} around 3.5 and ! only_arrs\n",
    "    show sticks, {i}_round\n",
    "    # label n. CA & {i}_round, resi+resn+\"-%1.2f\" %b\n",
    "\n",
    "    select {i}_orig, byres {i}_round around 3.5 and only_arrs\n",
    "    # label n. N & {i}_orig, resi+resn\n",
    "    show spheres, {i}_orig\n",
    "\n",
    "    deselect\n",
    "\n",
    "    zoom {AT1}_GPCRDB + only_arrs\n",
    "    set label_size, 30\n",
    "    set label_font_id, 7\n",
    "\n",
    "    rotate [1,1,1], 90, all\n",
    "    rotate [0,1,1], 45, all\n",
    "    rotate [0,1,0], -90, all\n",
    "    rotate [0,0,1], -90, all\n",
    "    bg_color white\n",
    "    viewport 800,800\n",
    "    ray\n",
    "    png ../../images/presentation_general/{AT1}_{arr_i}_1.png\n",
    "    rotate [0,1,0], 180, all\n",
    "    ray\n",
    "    png ../../images/presentation_general/{AT1}_{arr_i}_2.png\n",
    "    bg_color white\n",
    "    '''\n",
    "        with open(f'../scripts/make_presentation_general/{arr_i}+{AT1}.pml', 'w') as f:\n",
    "            f.write(script)"
   ],
   "metadata": {
    "collapsed": false,
    "pycharm": {
     "name": "#%%\n"
    }
   }
  },
  {
   "cell_type": "code",
   "execution_count": 3,
   "outputs": [],
   "source": [],
   "metadata": {
    "collapsed": false,
    "pycharm": {
     "name": "#%%\n"
    }
   }
  },
  {
   "cell_type": "code",
   "execution_count": 5,
   "outputs": [],
   "source": [],
   "metadata": {
    "collapsed": false,
    "pycharm": {
     "name": "#%%\n"
    }
   }
  },
  {
   "cell_type": "code",
   "execution_count": 8,
   "outputs": [],
   "source": [],
   "metadata": {
    "collapsed": false,
    "pycharm": {
     "name": "#%%\n"
    }
   }
  },
  {
   "cell_type": "markdown",
   "source": [
    "Создание скриптов для загрузки сырых pdb"
   ],
   "metadata": {
    "collapsed": false,
    "pycharm": {
     "name": "#%% md\n"
    }
   }
  },
  {
   "cell_type": "code",
   "execution_count": 3,
   "outputs": [],
   "source": [
    "# for i in AT14:\n",
    "#     with open(f'../scripts/get_AT1/{i}.pml', 'w') as f:\n",
    "#         f.write(f'''\n",
    "# reinitialize\n",
    "#\n",
    "# fetch {i}\n",
    "# select gpcr, {i} and resi 0:400\n",
    "# remove ! gpcr\n",
    "#\n",
    "# save ../../pdb/raw/AT1/{i}.pdb\n",
    "# reinitialize\n",
    "#     ''')"
   ],
   "metadata": {
    "collapsed": false,
    "pycharm": {
     "name": "#%%\n"
    }
   }
  },
  {
   "cell_type": "code",
   "execution_count": null,
   "outputs": [],
   "source": [
    "# for i in AT16:\n",
    "#     with open(f'../scripts/get_AT1/{i}.pml', 'w') as f:\n",
    "#         f.write(f'''\n",
    "# reinitialize\n",
    "#\n",
    "# fetch {i}\n",
    "# remove ! chain A\n",
    "# select gpcr, {i} and resi 0:1400\n",
    "# remove ! gpcr\n",
    "#\n",
    "# save ../../pdb/raw/AT1/{i}.pdb\n",
    "# reinitialize\n",
    "#     ''')"
   ],
   "metadata": {
    "collapsed": false,
    "pycharm": {
     "name": "#%%\n"
    }
   }
  },
  {
   "cell_type": "code",
   "execution_count": 9,
   "outputs": [],
   "source": [
    "# for i in arr:\n",
    "#     with open(f'../scripts/get_str_with_arr/{i}.pml', 'w') as f:\n",
    "#         f.write(f'''\n",
    "# fetch {i}\n",
    "# remove solvent\n",
    "#\n",
    "# save ../../pdb/raw/arr/{i}.pdb\n",
    "# reinitialize\n",
    "#     ''')"
   ],
   "metadata": {
    "collapsed": false,
    "pycharm": {
     "name": "#%%\n"
    }
   }
  },
  {
   "cell_type": "code",
   "execution_count": null,
   "outputs": [],
   "source": [],
   "metadata": {
    "collapsed": false,
    "pycharm": {
     "name": "#%%\n"
    }
   }
  },
  {
   "cell_type": "code",
   "execution_count": 20,
   "outputs": [],
   "source": [
    "filtered_without_arr_path = '../pdb/0_filtered/without_arr'\n",
    "filtered_arr_path = '../pdb/0_filtered/arr'\n",
    "filtered_AT1_path = '../pdb/0_filtered/AT1'\n",
    "\n",
    "BW_without_arr_path = '../pdb/1_BW/without_arr'\n",
    "BW_arr_path = '../pdb/1_BW/arr'"
   ],
   "metadata": {
    "collapsed": false,
    "pycharm": {
     "name": "#%%\n"
    }
   }
  },
  {
   "cell_type": "code",
   "execution_count": 21,
   "outputs": [],
   "source": [
    "! mkdir -p {BW_without_arr_path}\n",
    "! mkdir -p {BW_arr_path}\n",
    "! mkdir -p {filtered_without_arr_path}\n",
    "! mkdir -p {filtered_arr_path}\n",
    "! mkdir -p {filtered_AT1_path}"
   ],
   "metadata": {
    "collapsed": false,
    "pycharm": {
     "name": "#%%\n"
    }
   }
  },
  {
   "cell_type": "code",
   "execution_count": 8,
   "outputs": [],
   "source": [
    "# сшивка пронумерованной BW arr структуры(без arr) с arr\n",
    "\n",
    "for i in arr:\n",
    "    with open(f'../scripts/align_arr/{i}.pml', 'w') as f:\n",
    "        f.write(f'''\n",
    "reinitialize\n",
    "load ../{BW_without_arr_path}/{i}_GPCRDB.pdb, BW\n",
    "load ../{filtered_arr_path}/{i}.pdb, arr\n",
    "align BW, arr\n",
    "remove arr and chain R\n",
    "\n",
    "save ../../pdb/BW/arr/{i}.pdb\n",
    "    ''')"
   ],
   "metadata": {
    "collapsed": false,
    "pycharm": {
     "name": "#%%\n"
    }
   }
  },
  {
   "cell_type": "markdown",
   "source": [
    "Определение расстояний между аррестином и gpcr"
   ],
   "metadata": {
    "collapsed": false,
    "pycharm": {
     "name": "#%% md\n"
    }
   }
  },
  {
   "cell_type": "code",
   "execution_count": 5,
   "outputs": [],
   "source": [
    "# for i in arr:\n",
    "#     if(i == '6TKO'):\n",
    "#         chain = 'A'\n",
    "#         dist = 3.5\n",
    "#     elif(i == '6UP7'):\n",
    "#         chain = 'R'\n",
    "#         dist = 3.5\n",
    "#     else:\n",
    "#         chain = 'R'\n",
    "#         dist = 5\n",
    "#     with open(f'../scripts/get_nearest_res_4YAY/{i}.pml', 'w') as f:\n",
    "#         f.write(f'''\n",
    "# reinitialize\n",
    "#\n",
    "# load ../../pdb/BW/arr/{i}.pdb\n",
    "# util.cbac('! chain {chain}')\n",
    "# select act_site_arr, byres chain {chain} around {dist}\n",
    "# show sticks, act_site_arr\n",
    "# select act_site_gpcr, byres ! chain {chain} around {dist}\n",
    "# show sticks, act_site_gpcr\n",
    "# distance pol_cont, act_site_arr, act_site_gpcr, {dist} , mode=2\n",
    "# iterate act_site_gpcr and n. CA, print(chain, resi+resn+\" %1.2f\" %b)\n",
    "# iterate act_site_arr and n. N, print(chain, resi+resn)\n",
    "#\n",
    "# load ../../pdb/BW/AT1/4YAY_GPCRDB.pdb\n",
    "# color yellow, 4YAY_GPCRDB\n",
    "# align {i}, 4YAY_GPCRDB\n",
    "#\n",
    "# select pos,(resn arg+lys+his)\n",
    "# show sticks, (pos and !name c+n+o)\n",
    "# color marine,pos\n",
    "# disable pos\n",
    "# select neg,(resn glu+asp)\n",
    "# show sticks, (neg and !name c+n+o)\n",
    "# color red,neg\n",
    "# disable neg\n",
    "#     ''')"
   ],
   "metadata": {
    "collapsed": false,
    "pycharm": {
     "name": "#%%\n"
    }
   }
  },
  {
   "cell_type": "code",
   "execution_count": null,
   "outputs": [],
   "source": [
    "# # сравнение конформации аррестинов\n",
    "# for i in arr:\n",
    "#     with open(f'../scripts/get_only_arr/{i}.pml', 'w') as f:\n",
    "#         f.write(f'''\n",
    "# reinitialize\n",
    "#\n",
    "# load ../../pdb/BW/arr/{i}.pdb\n",
    "# util.cbac('! chain {chain}')\n",
    "# select act_site_arr, byres chain {chain} around {dist}\n",
    "# show sticks, act_site_arr\n",
    "# select act_site_gpcr, byres ! chain {chain} around {dist}\n",
    "# show sticks, act_site_gpcr\n",
    "# distance pol_cont, act_site_arr, act_site_gpcr, {dist} , mode=2\n",
    "# iterate act_site_gpcr and n. CA, print(chain, resi+resn+\" %1.2f\" %b)\n",
    "# iterate act_site_arr and n. N, print(chain, resi+resn)\n",
    "#\n",
    "# load ../../pdb/BW/AT1/4YAY_GPCRDB.pdb\n",
    "# color yellow, 4YAY_GPCRDB\n",
    "# align {i}, 4YAY_GPCRDB\n",
    "#\n",
    "# select pos,(resn arg+lys+his)\n",
    "# show sticks, (pos and !name c+n+o)\n",
    "# color marine,pos\n",
    "# disable pos\n",
    "# select neg,(resn glu+asp)\n",
    "# show sticks, (neg and !name c+n+o)\n",
    "# color red,neg\n",
    "# disable neg\n",
    "#     ''')"
   ],
   "metadata": {
    "collapsed": false,
    "pycharm": {
     "name": "#%%\n"
    }
   }
  }
 ],
 "metadata": {
  "kernelspec": {
   "display_name": "Python 3",
   "language": "python",
   "name": "python3"
  },
  "language_info": {
   "codemirror_mode": {
    "name": "ipython",
    "version": 2
   },
   "file_extension": ".py",
   "mimetype": "text/x-python",
   "name": "python",
   "nbconvert_exporter": "python",
   "pygments_lexer": "ipython2",
   "version": "2.7.6"
  }
 },
 "nbformat": 4,
 "nbformat_minor": 0
}
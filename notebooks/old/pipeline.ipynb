{
 "cells": [
  {
   "cell_type": "code",
   "execution_count": 67,
   "outputs": [],
   "source": [
    "from biopandas.pdb import PandasPdb\n",
    "import pandas as pd\n",
    "import numpy"
   ],
   "metadata": {
    "collapsed": false,
    "pycharm": {
     "name": "#%%\n"
    }
   }
  },
  {
   "cell_type": "code",
   "execution_count": 72,
   "outputs": [],
   "source": [
    "hyd_aci = pd.read_csv('/home/kestr/AT1/data/hydrophobic_acids.csv')"
   ],
   "metadata": {
    "collapsed": false,
    "pycharm": {
     "name": "#%%\n"
    }
   }
  },
  {
   "cell_type": "code",
   "execution_count": 69,
   "outputs": [],
   "source": [
    "ppdb=PandasPdb().read_pdb('/home/kestr/AT1/pdb/raw/arr/6TKO.pdb')"
   ],
   "metadata": {
    "collapsed": false,
    "pycharm": {
     "name": "#%%\n"
    }
   }
  },
  {
   "cell_type": "code",
   "execution_count": 70,
   "outputs": [],
   "source": [
    "atoms = ppdb.df['ATOM']"
   ],
   "metadata": {
    "collapsed": false,
    "pycharm": {
     "name": "#%%\n"
    }
   }
  },
  {
   "cell_type": "code",
   "execution_count": 82,
   "outputs": [],
   "source": [
    "atoms['chain_id']=atoms['chain_id'].replace({'A':'R'}).replace({'B':'A'})"
   ],
   "metadata": {
    "collapsed": false,
    "pycharm": {
     "name": "#%%\n"
    }
   }
  },
  {
   "cell_type": "code",
   "execution_count": 88,
   "outputs": [],
   "source": [
    "hydrogen_acids = ['ALA','ILE','LEU','MET','PHE','TRP','TYR','VAL']\n",
    "positive_acids = ['ARG','HIS','LYS']"
   ],
   "metadata": {
    "collapsed": false,
    "pycharm": {
     "name": "#%%\n"
    }
   }
  },
  {
   "cell_type": "code",
   "execution_count": 90,
   "outputs": [
    {
     "data": {
      "text/plain": "    gpcr   arr  Cluster ID chain  res residue_name chain_id  residue_number\n0   6TKO  6TKO           5     A   70          VAL        A              70\n1   6TKO  6TKO           5     R   49          ALA        R              49\n2   6TKO  6TKO           5     R   52          VAL        R              52\n3   6TKO  6TKO           5     R  101          LEU        R             101\n4   6TKO  6TKO           5     R  104          ARG        R             104\n5   6TKO  6TKO          12     R  112          PHE        R             112\n6   6TKO  6TKO          12     R  199          CYS        R             199\n7   6TKO  6TKO          12     R  233          GLU        R             233\n8   6TKO  6TKO          12     R  235          LYS        R             235\n9   6TKO  6TKO          12     R  236          GLU        R             236\n10  6TKO  6TKO          12     R  239          ARG        R             239\n11  6TKO  6TKO          12     R  282          ALA        R             282\n12  6TKO  6TKO          12     R  283          MET        R             283\n13  6TKO  6TKO          12     A   71          LEU        A              71\n14  6TKO  6TKO          12     A   73          LEU        A              73",
      "text/html": "<div>\n<style scoped>\n    .dataframe tbody tr th:only-of-type {\n        vertical-align: middle;\n    }\n\n    .dataframe tbody tr th {\n        vertical-align: top;\n    }\n\n    .dataframe thead th {\n        text-align: right;\n    }\n</style>\n<table border=\"1\" class=\"dataframe\">\n  <thead>\n    <tr style=\"text-align: right;\">\n      <th></th>\n      <th>gpcr</th>\n      <th>arr</th>\n      <th>Cluster ID</th>\n      <th>chain</th>\n      <th>res</th>\n      <th>residue_name</th>\n      <th>chain_id</th>\n      <th>residue_number</th>\n    </tr>\n  </thead>\n  <tbody>\n    <tr>\n      <th>0</th>\n      <td>6TKO</td>\n      <td>6TKO</td>\n      <td>5</td>\n      <td>A</td>\n      <td>70</td>\n      <td>VAL</td>\n      <td>A</td>\n      <td>70</td>\n    </tr>\n    <tr>\n      <th>1</th>\n      <td>6TKO</td>\n      <td>6TKO</td>\n      <td>5</td>\n      <td>R</td>\n      <td>49</td>\n      <td>ALA</td>\n      <td>R</td>\n      <td>49</td>\n    </tr>\n    <tr>\n      <th>2</th>\n      <td>6TKO</td>\n      <td>6TKO</td>\n      <td>5</td>\n      <td>R</td>\n      <td>52</td>\n      <td>VAL</td>\n      <td>R</td>\n      <td>52</td>\n    </tr>\n    <tr>\n      <th>3</th>\n      <td>6TKO</td>\n      <td>6TKO</td>\n      <td>5</td>\n      <td>R</td>\n      <td>101</td>\n      <td>LEU</td>\n      <td>R</td>\n      <td>101</td>\n    </tr>\n    <tr>\n      <th>4</th>\n      <td>6TKO</td>\n      <td>6TKO</td>\n      <td>5</td>\n      <td>R</td>\n      <td>104</td>\n      <td>ARG</td>\n      <td>R</td>\n      <td>104</td>\n    </tr>\n    <tr>\n      <th>5</th>\n      <td>6TKO</td>\n      <td>6TKO</td>\n      <td>12</td>\n      <td>R</td>\n      <td>112</td>\n      <td>PHE</td>\n      <td>R</td>\n      <td>112</td>\n    </tr>\n    <tr>\n      <th>6</th>\n      <td>6TKO</td>\n      <td>6TKO</td>\n      <td>12</td>\n      <td>R</td>\n      <td>199</td>\n      <td>CYS</td>\n      <td>R</td>\n      <td>199</td>\n    </tr>\n    <tr>\n      <th>7</th>\n      <td>6TKO</td>\n      <td>6TKO</td>\n      <td>12</td>\n      <td>R</td>\n      <td>233</td>\n      <td>GLU</td>\n      <td>R</td>\n      <td>233</td>\n    </tr>\n    <tr>\n      <th>8</th>\n      <td>6TKO</td>\n      <td>6TKO</td>\n      <td>12</td>\n      <td>R</td>\n      <td>235</td>\n      <td>LYS</td>\n      <td>R</td>\n      <td>235</td>\n    </tr>\n    <tr>\n      <th>9</th>\n      <td>6TKO</td>\n      <td>6TKO</td>\n      <td>12</td>\n      <td>R</td>\n      <td>236</td>\n      <td>GLU</td>\n      <td>R</td>\n      <td>236</td>\n    </tr>\n    <tr>\n      <th>10</th>\n      <td>6TKO</td>\n      <td>6TKO</td>\n      <td>12</td>\n      <td>R</td>\n      <td>239</td>\n      <td>ARG</td>\n      <td>R</td>\n      <td>239</td>\n    </tr>\n    <tr>\n      <th>11</th>\n      <td>6TKO</td>\n      <td>6TKO</td>\n      <td>12</td>\n      <td>R</td>\n      <td>282</td>\n      <td>ALA</td>\n      <td>R</td>\n      <td>282</td>\n    </tr>\n    <tr>\n      <th>12</th>\n      <td>6TKO</td>\n      <td>6TKO</td>\n      <td>12</td>\n      <td>R</td>\n      <td>283</td>\n      <td>MET</td>\n      <td>R</td>\n      <td>283</td>\n    </tr>\n    <tr>\n      <th>13</th>\n      <td>6TKO</td>\n      <td>6TKO</td>\n      <td>12</td>\n      <td>A</td>\n      <td>71</td>\n      <td>LEU</td>\n      <td>A</td>\n      <td>71</td>\n    </tr>\n    <tr>\n      <th>14</th>\n      <td>6TKO</td>\n      <td>6TKO</td>\n      <td>12</td>\n      <td>A</td>\n      <td>73</td>\n      <td>LEU</td>\n      <td>A</td>\n      <td>73</td>\n    </tr>\n  </tbody>\n</table>\n</div>"
     },
     "execution_count": 90,
     "metadata": {},
     "output_type": "execute_result"
    }
   ],
   "source": [
    "hyd_aci.merge(atoms[['residue_name','chain_id','residue_number']].drop_duplicates(),left_on=['chain','res'],right_on=['chain_id','residue_number'])"
   ],
   "metadata": {
    "collapsed": false,
    "pycharm": {
     "name": "#%%\n"
    }
   }
  },
  {
   "cell_type": "code",
   "execution_count": 89,
   "outputs": [
    {
     "data": {
      "text/plain": "0      True\n1      True\n2      True\n3      True\n4      True\n5      True\n6     False\n7     False\n8      True\n9     False\n10     True\n11     True\n12     True\n13     True\n14     True\nName: residue_name, dtype: bool"
     },
     "execution_count": 89,
     "metadata": {},
     "output_type": "execute_result"
    }
   ],
   "source": [
    "hyd_aci.merge(atoms[['residue_name','chain_id','residue_number']].drop_duplicates(),left_on=['chain','res'],right_on=['chain_id','residue_number'])['residue_name'].isin(hydrogen_acids+positive_acids)"
   ],
   "metadata": {
    "collapsed": false,
    "pycharm": {
     "name": "#%%\n"
    }
   }
  },
  {
   "cell_type": "code",
   "execution_count": 78,
   "outputs": [
    {
     "data": {
      "text/plain": "    gpcr   arr  Cluster ID chain  res\n0   6TKO  6TKO           5     A   70\n1   6TKO  6TKO           5     R   49\n2   6TKO  6TKO           5     R   52\n3   6TKO  6TKO           5     R  101\n4   6TKO  6TKO           5     R  104\n5   6TKO  6TKO          12     R  112\n6   6TKO  6TKO          12     R  199\n7   6TKO  6TKO          12     R  233\n8   6TKO  6TKO          12     R  235\n9   6TKO  6TKO          12     R  236\n10  6TKO  6TKO          12     R  239\n11  6TKO  6TKO          12     R  282\n12  6TKO  6TKO          12     R  283\n13  6TKO  6TKO          12     A   71\n14  6TKO  6TKO          12     A   73",
      "text/html": "<div>\n<style scoped>\n    .dataframe tbody tr th:only-of-type {\n        vertical-align: middle;\n    }\n\n    .dataframe tbody tr th {\n        vertical-align: top;\n    }\n\n    .dataframe thead th {\n        text-align: right;\n    }\n</style>\n<table border=\"1\" class=\"dataframe\">\n  <thead>\n    <tr style=\"text-align: right;\">\n      <th></th>\n      <th>gpcr</th>\n      <th>arr</th>\n      <th>Cluster ID</th>\n      <th>chain</th>\n      <th>res</th>\n    </tr>\n  </thead>\n  <tbody>\n    <tr>\n      <th>0</th>\n      <td>6TKO</td>\n      <td>6TKO</td>\n      <td>5</td>\n      <td>A</td>\n      <td>70</td>\n    </tr>\n    <tr>\n      <th>1</th>\n      <td>6TKO</td>\n      <td>6TKO</td>\n      <td>5</td>\n      <td>R</td>\n      <td>49</td>\n    </tr>\n    <tr>\n      <th>2</th>\n      <td>6TKO</td>\n      <td>6TKO</td>\n      <td>5</td>\n      <td>R</td>\n      <td>52</td>\n    </tr>\n    <tr>\n      <th>3</th>\n      <td>6TKO</td>\n      <td>6TKO</td>\n      <td>5</td>\n      <td>R</td>\n      <td>101</td>\n    </tr>\n    <tr>\n      <th>4</th>\n      <td>6TKO</td>\n      <td>6TKO</td>\n      <td>5</td>\n      <td>R</td>\n      <td>104</td>\n    </tr>\n    <tr>\n      <th>5</th>\n      <td>6TKO</td>\n      <td>6TKO</td>\n      <td>12</td>\n      <td>R</td>\n      <td>112</td>\n    </tr>\n    <tr>\n      <th>6</th>\n      <td>6TKO</td>\n      <td>6TKO</td>\n      <td>12</td>\n      <td>R</td>\n      <td>199</td>\n    </tr>\n    <tr>\n      <th>7</th>\n      <td>6TKO</td>\n      <td>6TKO</td>\n      <td>12</td>\n      <td>R</td>\n      <td>233</td>\n    </tr>\n    <tr>\n      <th>8</th>\n      <td>6TKO</td>\n      <td>6TKO</td>\n      <td>12</td>\n      <td>R</td>\n      <td>235</td>\n    </tr>\n    <tr>\n      <th>9</th>\n      <td>6TKO</td>\n      <td>6TKO</td>\n      <td>12</td>\n      <td>R</td>\n      <td>236</td>\n    </tr>\n    <tr>\n      <th>10</th>\n      <td>6TKO</td>\n      <td>6TKO</td>\n      <td>12</td>\n      <td>R</td>\n      <td>239</td>\n    </tr>\n    <tr>\n      <th>11</th>\n      <td>6TKO</td>\n      <td>6TKO</td>\n      <td>12</td>\n      <td>R</td>\n      <td>282</td>\n    </tr>\n    <tr>\n      <th>12</th>\n      <td>6TKO</td>\n      <td>6TKO</td>\n      <td>12</td>\n      <td>R</td>\n      <td>283</td>\n    </tr>\n    <tr>\n      <th>13</th>\n      <td>6TKO</td>\n      <td>6TKO</td>\n      <td>12</td>\n      <td>A</td>\n      <td>71</td>\n    </tr>\n    <tr>\n      <th>14</th>\n      <td>6TKO</td>\n      <td>6TKO</td>\n      <td>12</td>\n      <td>A</td>\n      <td>73</td>\n    </tr>\n  </tbody>\n</table>\n</div>"
     },
     "execution_count": 78,
     "metadata": {},
     "output_type": "execute_result"
    }
   ],
   "source": [
    "hyd_aci"
   ],
   "metadata": {
    "collapsed": false,
    "pycharm": {
     "name": "#%%\n"
    }
   }
  },
  {
   "cell_type": "code",
   "execution_count": null,
   "outputs": [],
   "source": [],
   "metadata": {
    "collapsed": false,
    "pycharm": {
     "name": "#%%\n"
    }
   }
  },
  {
   "cell_type": "code",
   "execution_count": null,
   "outputs": [],
   "source": [],
   "metadata": {
    "collapsed": false,
    "pycharm": {
     "name": "#%%\n"
    }
   }
  },
  {
   "cell_type": "code",
   "execution_count": null,
   "outputs": [],
   "source": [],
   "metadata": {
    "collapsed": false,
    "pycharm": {
     "name": "#%%\n"
    }
   }
  },
  {
   "cell_type": "code",
   "execution_count": null,
   "outputs": [],
   "source": [
    "def calc_residue_dist(residue_one, residue_two) :\n",
    "    \"\"\"Returns the C-alpha distance between two residues\"\"\"\n",
    "    diff_vector  = residue_one[\"CA\"].coord - residue_two[\"CA\"].coord\n",
    "    return numpy.sqrt(numpy.sum(diff_vector * diff_vector))\n",
    "\n",
    "def calc_dist_matrix(chain_one, chain_two) :\n",
    "    \"\"\"Returns a matrix of C-alpha distances between two chains\"\"\"\n",
    "    answer = numpy.zeros((len(chain_one), len(chain_two)), numpy.float)\n",
    "    for row, residue_one in enumerate(chain_one) :\n",
    "        for col, residue_two in enumerate(chain_two) :\n",
    "            answer[row, col] = calc_residue_dist(residue_one, residue_two)\n",
    "    return answer"
   ],
   "metadata": {
    "collapsed": false,
    "pycharm": {
     "name": "#%%\n"
    }
   }
  },
  {
   "cell_type": "code",
   "execution_count": 57,
   "outputs": [],
   "source": [
    "Ns=atoms[atoms['chain_id']=='R'].groupby(by = 'residue_number').first().reset_index()"
   ],
   "metadata": {
    "collapsed": false,
    "pycharm": {
     "name": "#%%\n"
    }
   }
  },
  {
   "cell_type": "code",
   "execution_count": 59,
   "outputs": [
    {
     "data": {
      "text/plain": "     residue_number residue_name  b_factor\n0                49          ALA    194.09\n1                50          PRO    216.15\n2                51          SER    221.08\n3                52          SER    233.55\n4                53          GLU    228.07\n..              ...          ...       ...\n307             379          LEU    345.34\n308             380          ALA    352.12\n309             381          CYS    346.76\n310             382          LEU    362.65\n311             383          CYS    388.58\n\n[312 rows x 3 columns]",
      "text/html": "<div>\n<style scoped>\n    .dataframe tbody tr th:only-of-type {\n        vertical-align: middle;\n    }\n\n    .dataframe tbody tr th {\n        vertical-align: top;\n    }\n\n    .dataframe thead th {\n        text-align: right;\n    }\n</style>\n<table border=\"1\" class=\"dataframe\">\n  <thead>\n    <tr style=\"text-align: right;\">\n      <th></th>\n      <th>residue_number</th>\n      <th>residue_name</th>\n      <th>b_factor</th>\n    </tr>\n  </thead>\n  <tbody>\n    <tr>\n      <th>0</th>\n      <td>49</td>\n      <td>ALA</td>\n      <td>194.09</td>\n    </tr>\n    <tr>\n      <th>1</th>\n      <td>50</td>\n      <td>PRO</td>\n      <td>216.15</td>\n    </tr>\n    <tr>\n      <th>2</th>\n      <td>51</td>\n      <td>SER</td>\n      <td>221.08</td>\n    </tr>\n    <tr>\n      <th>3</th>\n      <td>52</td>\n      <td>SER</td>\n      <td>233.55</td>\n    </tr>\n    <tr>\n      <th>4</th>\n      <td>53</td>\n      <td>GLU</td>\n      <td>228.07</td>\n    </tr>\n    <tr>\n      <th>...</th>\n      <td>...</td>\n      <td>...</td>\n      <td>...</td>\n    </tr>\n    <tr>\n      <th>307</th>\n      <td>379</td>\n      <td>LEU</td>\n      <td>345.34</td>\n    </tr>\n    <tr>\n      <th>308</th>\n      <td>380</td>\n      <td>ALA</td>\n      <td>352.12</td>\n    </tr>\n    <tr>\n      <th>309</th>\n      <td>381</td>\n      <td>CYS</td>\n      <td>346.76</td>\n    </tr>\n    <tr>\n      <th>310</th>\n      <td>382</td>\n      <td>LEU</td>\n      <td>362.65</td>\n    </tr>\n    <tr>\n      <th>311</th>\n      <td>383</td>\n      <td>CYS</td>\n      <td>388.58</td>\n    </tr>\n  </tbody>\n</table>\n<p>312 rows × 3 columns</p>\n</div>"
     },
     "execution_count": 59,
     "metadata": {},
     "output_type": "execute_result"
    }
   ],
   "source": [
    "Ns[['residue_number','residue_name','b_factor']]"
   ],
   "metadata": {
    "collapsed": false,
    "pycharm": {
     "name": "#%%\n"
    }
   }
  },
  {
   "cell_type": "code",
   "execution_count": 60,
   "outputs": [
    {
     "data": {
      "text/plain": "     residue_number residue_name  b_factor\n0                 7          ARG    131.23\n1                 8          VAL    168.39\n2                 9          PHE    157.73\n3                10          LYS    166.85\n4                11          LYS    191.01\n..              ...          ...       ...\n345             352          MET    189.55\n346             353          HIS    143.60\n347             354          PRO    119.21\n348             355          LYS     93.44\n349             356          PRO     90.62\n\n[350 rows x 3 columns]",
      "text/html": "<div>\n<style scoped>\n    .dataframe tbody tr th:only-of-type {\n        vertical-align: middle;\n    }\n\n    .dataframe tbody tr th {\n        vertical-align: top;\n    }\n\n    .dataframe thead th {\n        text-align: right;\n    }\n</style>\n<table border=\"1\" class=\"dataframe\">\n  <thead>\n    <tr style=\"text-align: right;\">\n      <th></th>\n      <th>residue_number</th>\n      <th>residue_name</th>\n      <th>b_factor</th>\n    </tr>\n  </thead>\n  <tbody>\n    <tr>\n      <th>0</th>\n      <td>7</td>\n      <td>ARG</td>\n      <td>131.23</td>\n    </tr>\n    <tr>\n      <th>1</th>\n      <td>8</td>\n      <td>VAL</td>\n      <td>168.39</td>\n    </tr>\n    <tr>\n      <th>2</th>\n      <td>9</td>\n      <td>PHE</td>\n      <td>157.73</td>\n    </tr>\n    <tr>\n      <th>3</th>\n      <td>10</td>\n      <td>LYS</td>\n      <td>166.85</td>\n    </tr>\n    <tr>\n      <th>4</th>\n      <td>11</td>\n      <td>LYS</td>\n      <td>191.01</td>\n    </tr>\n    <tr>\n      <th>...</th>\n      <td>...</td>\n      <td>...</td>\n      <td>...</td>\n    </tr>\n    <tr>\n      <th>345</th>\n      <td>352</td>\n      <td>MET</td>\n      <td>189.55</td>\n    </tr>\n    <tr>\n      <th>346</th>\n      <td>353</td>\n      <td>HIS</td>\n      <td>143.60</td>\n    </tr>\n    <tr>\n      <th>347</th>\n      <td>354</td>\n      <td>PRO</td>\n      <td>119.21</td>\n    </tr>\n    <tr>\n      <th>348</th>\n      <td>355</td>\n      <td>LYS</td>\n      <td>93.44</td>\n    </tr>\n    <tr>\n      <th>349</th>\n      <td>356</td>\n      <td>PRO</td>\n      <td>90.62</td>\n    </tr>\n  </tbody>\n</table>\n<p>350 rows × 3 columns</p>\n</div>"
     },
     "execution_count": 60,
     "metadata": {},
     "output_type": "execute_result"
    }
   ],
   "source": [
    "atoms[atoms['chain_id']=='A'].groupby(by = 'residue_number').first().reset_index()[['residue_number','residue_name','b_factor']]"
   ],
   "metadata": {
    "collapsed": false,
    "pycharm": {
     "name": "#%%\n"
    }
   }
  }
 ],
 "metadata": {
  "kernelspec": {
   "display_name": "Python 3",
   "language": "python",
   "name": "python3"
  },
  "language_info": {
   "codemirror_mode": {
    "name": "ipython",
    "version": 2
   },
   "file_extension": ".py",
   "mimetype": "text/x-python",
   "name": "python",
   "nbconvert_exporter": "python",
   "pygments_lexer": "ipython2",
   "version": "2.7.6"
  }
 },
 "nbformat": 4,
 "nbformat_minor": 0
}
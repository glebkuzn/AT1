{
 "cells": [
  {
   "cell_type": "code",
   "execution_count": 1,
   "outputs": [],
   "source": [
    "import pandas as pd\n",
    "import numpy as np"
   ],
   "metadata": {
    "collapsed": false,
    "pycharm": {
     "name": "#%%\n"
    }
   }
  },
  {
   "cell_type": "markdown",
   "source": [
    "Список необходимых конструкций"
   ],
   "metadata": {
    "collapsed": false,
    "pycharm": {
     "name": "#%% md\n"
    }
   }
  },
  {
   "cell_type": "code",
   "execution_count": 2,
   "metadata": {
    "collapsed": true
   },
   "outputs": [],
   "source": [
    "AT1 = ['4YAY','4ZUD','6DO1','6OS0','6OS1','6OS2']\n",
    "arr = ['6TKO','6U1N','6UP7','6PWC']"
   ]
  },
  {
   "cell_type": "markdown",
   "source": [
    "Создание скриптов для загрузки сырых pdb"
   ],
   "metadata": {
    "collapsed": false,
    "pycharm": {
     "name": "#%% md\n"
    }
   }
  },
  {
   "cell_type": "code",
   "execution_count": 8,
   "outputs": [],
   "source": [
    "for i in AT1:\n",
    "    with open(f'../scripts/get_AT1/{i}.pml', 'w') as f:\n",
    "        f.write(f'''\n",
    "fetch {i}\n",
    "remove solvent\n",
    "remove {i} and resi 1000:1200\n",
    "\n",
    "save ../../pdb/raw/AT1/{i}.pdb\n",
    "reinitialize\n",
    "    ''')"
   ],
   "metadata": {
    "collapsed": false,
    "pycharm": {
     "name": "#%%\n"
    }
   }
  },
  {
   "cell_type": "code",
   "execution_count": 9,
   "outputs": [],
   "source": [
    "for i in arr:\n",
    "    with open(f'../scripts/get_str_with_arr/{i}.pml', 'w') as f:\n",
    "        f.write(f'''\n",
    "fetch {i}\n",
    "remove solvent\n",
    "\n",
    "save ../../pdb/raw/arr/{i}.pdb\n",
    "reinitialize\n",
    "    ''')"
   ],
   "metadata": {
    "collapsed": false,
    "pycharm": {
     "name": "#%%\n"
    }
   }
  },
  {
   "cell_type": "code",
   "execution_count": null,
   "outputs": [],
   "source": [],
   "metadata": {
    "collapsed": false,
    "pycharm": {
     "name": "#%%\n"
    }
   }
  }
 ],
 "metadata": {
  "kernelspec": {
   "display_name": "Python 3",
   "language": "python",
   "name": "python3"
  },
  "language_info": {
   "codemirror_mode": {
    "name": "ipython",
    "version": 2
   },
   "file_extension": ".py",
   "mimetype": "text/x-python",
   "name": "python",
   "nbconvert_exporter": "python",
   "pygments_lexer": "ipython2",
   "version": "2.7.6"
  }
 },
 "nbformat": 4,
 "nbformat_minor": 0
}
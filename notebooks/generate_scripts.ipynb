{
 "cells": [
  {
   "cell_type": "code",
   "execution_count": 1,
   "outputs": [],
   "source": [
    "import pandas as pd\n",
    "import numpy as np"
   ],
   "metadata": {
    "collapsed": false,
    "pycharm": {
     "name": "#%%\n"
    }
   }
  },
  {
   "cell_type": "markdown",
   "source": [
    "Список необходимых конструкций"
   ],
   "metadata": {
    "collapsed": false,
    "pycharm": {
     "name": "#%% md\n"
    }
   }
  },
  {
   "cell_type": "code",
   "execution_count": 2,
   "metadata": {
    "collapsed": true
   },
   "outputs": [],
   "source": [
    "AT14 = ['4YAY','4ZUD']\n",
    "AT16 = ['6DO1','6OS0','6OS1','6OS2']\n",
    "arr = ['6TKO','6U1N','6UP7','6PWC'] #"
   ]
  },
  {
   "cell_type": "markdown",
   "source": [
    "Создание скриптов для загрузки сырых pdb"
   ],
   "metadata": {
    "collapsed": false,
    "pycharm": {
     "name": "#%% md\n"
    }
   }
  },
  {
   "cell_type": "code",
   "execution_count": 3,
   "outputs": [],
   "source": [
    "# for i in AT14:\n",
    "#     with open(f'../scripts/get_AT1/{i}.pml', 'w') as f:\n",
    "#         f.write(f'''\n",
    "# reinitialize\n",
    "#\n",
    "# fetch {i}\n",
    "# select gpcr, {i} and resi 0:400\n",
    "# remove ! gpcr\n",
    "#\n",
    "# save ../../pdb/raw/AT1/{i}.pdb\n",
    "# reinitialize\n",
    "#     ''')"
   ],
   "metadata": {
    "collapsed": false,
    "pycharm": {
     "name": "#%%\n"
    }
   }
  },
  {
   "cell_type": "code",
   "execution_count": null,
   "outputs": [],
   "source": [
    "# for i in AT16:\n",
    "#     with open(f'../scripts/get_AT1/{i}.pml', 'w') as f:\n",
    "#         f.write(f'''\n",
    "# reinitialize\n",
    "#\n",
    "# fetch {i}\n",
    "# remove ! chain A\n",
    "# select gpcr, {i} and resi 0:1400\n",
    "# remove ! gpcr\n",
    "#\n",
    "# save ../../pdb/raw/AT1/{i}.pdb\n",
    "# reinitialize\n",
    "#     ''')"
   ],
   "metadata": {
    "collapsed": false,
    "pycharm": {
     "name": "#%%\n"
    }
   }
  },
  {
   "cell_type": "code",
   "execution_count": 9,
   "outputs": [],
   "source": [
    "# for i in arr:\n",
    "#     with open(f'../scripts/get_str_with_arr/{i}.pml', 'w') as f:\n",
    "#         f.write(f'''\n",
    "# fetch {i}\n",
    "# remove solvent\n",
    "#\n",
    "# save ../../pdb/raw/arr/{i}.pdb\n",
    "# reinitialize\n",
    "#     ''')"
   ],
   "metadata": {
    "collapsed": false,
    "pycharm": {
     "name": "#%%\n"
    }
   }
  },
  {
   "cell_type": "markdown",
   "source": [
    "сшивка пронумерованной структуры с аррестином"
   ],
   "metadata": {
    "collapsed": false,
    "pycharm": {
     "name": "#%% md\n"
    }
   }
  },
  {
   "cell_type": "code",
   "execution_count": 6,
   "outputs": [],
   "source": [
    "# for i in arr:\n",
    "#     with open(f'../scripts/align_arr/{i}.pml', 'w') as f:\n",
    "#         f.write(f'''\n",
    "# load ../../pdb/BW/without_arr/{i}_GPCRDB.pdb, BW\n",
    "# load ../../pdb/raw/arr/{i}.pdb, arr\n",
    "# align BW, arr\n",
    "#\n",
    "# save ../../pdb/BW/arr/{i}.pdb\n",
    "# reinitialize\n",
    "#     ''')"
   ],
   "metadata": {
    "collapsed": false,
    "pycharm": {
     "name": "#%%\n"
    }
   }
  },
  {
   "cell_type": "markdown",
   "source": [
    "Определение расстояний между аррестином и gpcr"
   ],
   "metadata": {
    "collapsed": false,
    "pycharm": {
     "name": "#%% md\n"
    }
   }
  },
  {
   "cell_type": "code",
   "execution_count": 5,
   "outputs": [],
   "source": [
    "for i in arr:\n",
    "    if(i == '6TKO'):\n",
    "        chain = 'A'\n",
    "        dist = 3.5\n",
    "    elif(i == '6UP7'):\n",
    "        chain = 'R'\n",
    "        dist = 3.5\n",
    "    else:\n",
    "        chain = 'R'\n",
    "        dist = 5\n",
    "    with open(f'../scripts/get_nearest_res_4YAY/{i}.pml', 'w') as f:\n",
    "        f.write(f'''\n",
    "reinitialize\n",
    "\n",
    "load ../../pdb/BW/arr/{i}.pdb\n",
    "util.cbac('! chain {chain}')\n",
    "select act_site_arr, byres chain {chain} around {dist}\n",
    "show sticks, act_site_arr\n",
    "select act_site_gpcr, byres ! chain {chain} around {dist}\n",
    "show sticks, act_site_gpcr\n",
    "distance pol_cont, act_site_arr, act_site_gpcr, {dist} , mode=2\n",
    "iterate act_site_gpcr and n. CA, print(chain, resi+resn+\" %1.2f\" %b)\n",
    "iterate act_site_arr and n. N, print(chain, resi+resn)\n",
    "\n",
    "load ../../pdb/BW/AT1/4YAY_GPCRDB.pdb\n",
    "color yellow, 4YAY_GPCRDB\n",
    "align {i}, 4YAY_GPCRDB\n",
    "\n",
    "select pos,(resn arg+lys+his)\n",
    "show sticks, (pos and !name c+n+o)\n",
    "color marine,pos\n",
    "disable pos\n",
    "select neg,(resn glu+asp)\n",
    "show sticks, (neg and !name c+n+o)\n",
    "color red,neg\n",
    "disable neg\n",
    "    ''')"
   ],
   "metadata": {
    "collapsed": false,
    "pycharm": {
     "name": "#%%\n"
    }
   }
  },
  {
   "cell_type": "code",
   "execution_count": null,
   "outputs": [],
   "source": [
    "# сравнение конформации аррестинов\n",
    "for i in arr:\n",
    "    with open(f'../scripts/get_only_arr/{i}.pml', 'w') as f:\n",
    "        f.write(f'''\n",
    "reinitialize\n",
    "\n",
    "load ../../pdb/BW/arr/{i}.pdb\n",
    "util.cbac('! chain {chain}')\n",
    "select act_site_arr, byres chain {chain} around {dist}\n",
    "show sticks, act_site_arr\n",
    "select act_site_gpcr, byres ! chain {chain} around {dist}\n",
    "show sticks, act_site_gpcr\n",
    "distance pol_cont, act_site_arr, act_site_gpcr, {dist} , mode=2\n",
    "iterate act_site_gpcr and n. CA, print(chain, resi+resn+\" %1.2f\" %b)\n",
    "iterate act_site_arr and n. N, print(chain, resi+resn)\n",
    "\n",
    "load ../../pdb/BW/AT1/4YAY_GPCRDB.pdb\n",
    "color yellow, 4YAY_GPCRDB\n",
    "align {i}, 4YAY_GPCRDB\n",
    "\n",
    "select pos,(resn arg+lys+his)\n",
    "show sticks, (pos and !name c+n+o)\n",
    "color marine,pos\n",
    "disable pos\n",
    "select neg,(resn glu+asp)\n",
    "show sticks, (neg and !name c+n+o)\n",
    "color red,neg\n",
    "disable neg\n",
    "    ''')"
   ],
   "metadata": {
    "collapsed": false,
    "pycharm": {
     "name": "#%%\n"
    }
   }
  }
 ],
 "metadata": {
  "kernelspec": {
   "display_name": "Python 3",
   "language": "python",
   "name": "python3"
  },
  "language_info": {
   "codemirror_mode": {
    "name": "ipython",
    "version": 2
   },
   "file_extension": ".py",
   "mimetype": "text/x-python",
   "name": "python",
   "nbconvert_exporter": "python",
   "pygments_lexer": "ipython2",
   "version": "2.7.6"
  }
 },
 "nbformat": 4,
 "nbformat_minor": 0
}
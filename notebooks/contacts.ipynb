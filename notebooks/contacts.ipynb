{
 "cells": [
  {
   "cell_type": "code",
   "execution_count": 1,
   "metadata": {
    "collapsed": true
   },
   "outputs": [],
   "source": [
    "import pandas as pd"
   ]
  },
  {
   "cell_type": "code",
   "execution_count": 2,
   "outputs": [],
   "source": [
    "hyd_aci = pd.read_csv('/home/kestr/AT1/data/hydrophobic_acids.csv')"
   ],
   "metadata": {
    "collapsed": false,
    "pycharm": {
     "name": "#%%\n"
    }
   }
  },
  {
   "cell_type": "code",
   "execution_count": 3,
   "outputs": [
    {
     "data": {
      "text/plain": "    gpcr   arr  Cluster ID chain  res\n0   6TKO  6TKO           5     A   70\n1   6TKO  6TKO           5     R   49\n2   6TKO  6TKO           5     R   52\n3   6TKO  6TKO           5     R  101\n4   6TKO  6TKO           5     R  104\n5   6TKO  6TKO          12     R  112\n6   6TKO  6TKO          12     R  199\n7   6TKO  6TKO          12     R  233\n8   6TKO  6TKO          12     R  235\n9   6TKO  6TKO          12     R  236\n10  6TKO  6TKO          12     R  239\n11  6TKO  6TKO          12     R  282\n12  6TKO  6TKO          12     R  283\n13  6TKO  6TKO          12     A   71\n14  6TKO  6TKO          12     A   73",
      "text/html": "<div>\n<style scoped>\n    .dataframe tbody tr th:only-of-type {\n        vertical-align: middle;\n    }\n\n    .dataframe tbody tr th {\n        vertical-align: top;\n    }\n\n    .dataframe thead th {\n        text-align: right;\n    }\n</style>\n<table border=\"1\" class=\"dataframe\">\n  <thead>\n    <tr style=\"text-align: right;\">\n      <th></th>\n      <th>gpcr</th>\n      <th>arr</th>\n      <th>Cluster ID</th>\n      <th>chain</th>\n      <th>res</th>\n    </tr>\n  </thead>\n  <tbody>\n    <tr>\n      <th>0</th>\n      <td>6TKO</td>\n      <td>6TKO</td>\n      <td>5</td>\n      <td>A</td>\n      <td>70</td>\n    </tr>\n    <tr>\n      <th>1</th>\n      <td>6TKO</td>\n      <td>6TKO</td>\n      <td>5</td>\n      <td>R</td>\n      <td>49</td>\n    </tr>\n    <tr>\n      <th>2</th>\n      <td>6TKO</td>\n      <td>6TKO</td>\n      <td>5</td>\n      <td>R</td>\n      <td>52</td>\n    </tr>\n    <tr>\n      <th>3</th>\n      <td>6TKO</td>\n      <td>6TKO</td>\n      <td>5</td>\n      <td>R</td>\n      <td>101</td>\n    </tr>\n    <tr>\n      <th>4</th>\n      <td>6TKO</td>\n      <td>6TKO</td>\n      <td>5</td>\n      <td>R</td>\n      <td>104</td>\n    </tr>\n    <tr>\n      <th>5</th>\n      <td>6TKO</td>\n      <td>6TKO</td>\n      <td>12</td>\n      <td>R</td>\n      <td>112</td>\n    </tr>\n    <tr>\n      <th>6</th>\n      <td>6TKO</td>\n      <td>6TKO</td>\n      <td>12</td>\n      <td>R</td>\n      <td>199</td>\n    </tr>\n    <tr>\n      <th>7</th>\n      <td>6TKO</td>\n      <td>6TKO</td>\n      <td>12</td>\n      <td>R</td>\n      <td>233</td>\n    </tr>\n    <tr>\n      <th>8</th>\n      <td>6TKO</td>\n      <td>6TKO</td>\n      <td>12</td>\n      <td>R</td>\n      <td>235</td>\n    </tr>\n    <tr>\n      <th>9</th>\n      <td>6TKO</td>\n      <td>6TKO</td>\n      <td>12</td>\n      <td>R</td>\n      <td>236</td>\n    </tr>\n    <tr>\n      <th>10</th>\n      <td>6TKO</td>\n      <td>6TKO</td>\n      <td>12</td>\n      <td>R</td>\n      <td>239</td>\n    </tr>\n    <tr>\n      <th>11</th>\n      <td>6TKO</td>\n      <td>6TKO</td>\n      <td>12</td>\n      <td>R</td>\n      <td>282</td>\n    </tr>\n    <tr>\n      <th>12</th>\n      <td>6TKO</td>\n      <td>6TKO</td>\n      <td>12</td>\n      <td>R</td>\n      <td>283</td>\n    </tr>\n    <tr>\n      <th>13</th>\n      <td>6TKO</td>\n      <td>6TKO</td>\n      <td>12</td>\n      <td>A</td>\n      <td>71</td>\n    </tr>\n    <tr>\n      <th>14</th>\n      <td>6TKO</td>\n      <td>6TKO</td>\n      <td>12</td>\n      <td>A</td>\n      <td>73</td>\n    </tr>\n  </tbody>\n</table>\n</div>"
     },
     "execution_count": 3,
     "metadata": {},
     "output_type": "execute_result"
    }
   ],
   "source": [
    "hyd_aci"
   ],
   "metadata": {
    "collapsed": false,
    "pycharm": {
     "name": "#%%\n"
    }
   }
  }
 ],
 "metadata": {
  "kernelspec": {
   "display_name": "Python 3",
   "language": "python",
   "name": "python3"
  },
  "language_info": {
   "codemirror_mode": {
    "name": "ipython",
    "version": 2
   },
   "file_extension": ".py",
   "mimetype": "text/x-python",
   "name": "python",
   "nbconvert_exporter": "python",
   "pygments_lexer": "ipython2",
   "version": "2.7.6"
  }
 },
 "nbformat": 4,
 "nbformat_minor": 0
}
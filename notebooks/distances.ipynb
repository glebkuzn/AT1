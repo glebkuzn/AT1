{
 "cells": [
  {
   "cell_type": "code",
   "execution_count": 6,
   "metadata": {
    "collapsed": true
   },
   "outputs": [],
   "source": [
    "import Bio.PDB\n",
    "import numpy\n",
    "import pandas as pd"
   ]
  },
  {
   "cell_type": "code",
   "execution_count": 304,
   "outputs": [],
   "source": [
    "AT14 = ['4YAY','4ZUD']\n",
    "AT16 = ['6DO1','6OS0','6OS1','6OS2']\n",
    "arr = ['6TKO','6U1N','6UP7','6PWC']"
   ],
   "metadata": {
    "collapsed": false,
    "pycharm": {
     "name": "#%%\n"
    }
   }
  },
  {
   "cell_type": "code",
   "execution_count": 312,
   "outputs": [],
   "source": [
    "min_dist = 2.18\n",
    "max_dist = 3.51\n",
    "atoms = ['N','O','S','SE']\n"
   ],
   "metadata": {
    "collapsed": false,
    "pycharm": {
     "name": "#%%\n"
    }
   }
  },
  {
   "cell_type": "code",
   "execution_count": 313,
   "outputs": [],
   "source": [
    "def calc_atom_dist(atom1, atom2) :\n",
    "    diff_vector  = atom1.coord - atom2.coord\n",
    "    return numpy.sqrt(numpy.sum(diff_vector * diff_vector))\n",
    "\n",
    "def calc_dist_matrix(chain1, chain2) :\n",
    "    num = 0\n",
    "    out = pd.DataFrame()\n",
    "    for res1 in chain1 :\n",
    "        for atom1 in res1:\n",
    "            if atom1.element in atoms:\n",
    "                for res2 in chain2 :\n",
    "                    for atom2 in res2:\n",
    "                        if atom2.element in atoms:\n",
    "\n",
    "                            dist = calc_atom_dist(atom1, atom2)\n",
    "                            if((dist<max_dist) & (dist>min_dist)):\n",
    "                                part = pd.DataFrame(\n",
    "                                    [[\n",
    "                                chain1.id, num, res1.id[1], atom1.name, dist\n",
    "                                ],\n",
    "                                    [\n",
    "                                        chain2.id,num, res2.id[1], atom2.name, dist\n",
    "                                    ]\n",
    "                                    ],\n",
    "                                    columns=['chain','Cluster_ID', 'res', 'atom', 'dist']\n",
    "                                )\n",
    "                                out=pd.concat([out,part])\n",
    "                                num += 1\n",
    "    return out"
   ],
   "metadata": {
    "collapsed": false,
    "pycharm": {
     "name": "#%%\n"
    }
   }
  },
  {
   "cell_type": "code",
   "execution_count": 307,
   "outputs": [],
   "source": [
    "def get_contacts(pdb_code):\n",
    "    pdb_filename = f\"/home/kestr/AT1/pdb/2_aligned/arr/{pdb_code}.pdb\"\n",
    "    structure = Bio.PDB.PDBParser().get_structure(pdb_code, pdb_filename)\n",
    "    model = structure[0]\n",
    "    out = calc_dist_matrix(model[\"A\"], model[\"R\"])\n",
    "    out['gpcr']=pdb_code\n",
    "    out['arr']=pdb_code\n",
    "    return out"
   ],
   "metadata": {
    "collapsed": false,
    "pycharm": {
     "name": "#%%\n"
    }
   }
  },
  {
   "cell_type": "code",
   "execution_count": 308,
   "outputs": [],
   "source": [
    "def get_contacts2(pdb_code1,pdb_code2):\n",
    "    pdb_filename = f\"/home/kestr/AT1/pdb/2_aligned/cutted_arr/{pdb_code1}_{pdb_code2}.pdb\"\n",
    "    structure = Bio.PDB.PDBParser().get_structure(pdb_code, pdb_filename)\n",
    "    model = structure[0]\n",
    "    out = calc_dist_matrix(model[\"A\"], model[\"R\"])\n",
    "    out['gpcr']=pdb_code1\n",
    "    out['arr']=pdb_code2\n",
    "    return out"
   ],
   "metadata": {
    "collapsed": false,
    "pycharm": {
     "name": "#%%\n"
    }
   }
  },
  {
   "cell_type": "code",
   "execution_count": 314,
   "outputs": [
    {
     "name": "stderr",
     "output_type": "stream",
     "text": [
      "/home/kestr/AT1/.venv/lib/python3.9/site-packages/Bio/PDB/PDBParser.py:395: PDBConstructionWarning: Ignoring unrecognized record 'CRYST1' at line 239\n",
      "  warnings.warn(\n",
      "/home/kestr/AT1/.venv/lib/python3.9/site-packages/Bio/PDB/PDBParser.py:395: PDBConstructionWarning: Ignoring unrecognized record 'END' at line 415\n",
      "  warnings.warn(\n",
      "/home/kestr/AT1/.venv/lib/python3.9/site-packages/Bio/PDB/PDBParser.py:395: PDBConstructionWarning: Ignoring unrecognized record 'CRYST1' at line 28\n",
      "  warnings.warn(\n",
      "/home/kestr/AT1/.venv/lib/python3.9/site-packages/Bio/PDB/PDBParser.py:395: PDBConstructionWarning: Ignoring unrecognized record 'END' at line 52\n",
      "  warnings.warn(\n",
      "/home/kestr/AT1/.venv/lib/python3.9/site-packages/Bio/PDB/PDBParser.py:395: PDBConstructionWarning: Ignoring unrecognized record 'CRYST1' at line 101\n",
      "  warnings.warn(\n",
      "/home/kestr/AT1/.venv/lib/python3.9/site-packages/Bio/PDB/PDBParser.py:395: PDBConstructionWarning: Ignoring unrecognized record 'END' at line 250\n",
      "  warnings.warn(\n",
      "/home/kestr/AT1/.venv/lib/python3.9/site-packages/Bio/PDB/PDBParser.py:395: PDBConstructionWarning: Ignoring unrecognized record 'CRYST1' at line 7\n",
      "  warnings.warn(\n",
      "/home/kestr/AT1/.venv/lib/python3.9/site-packages/Bio/PDB/PDBParser.py:395: PDBConstructionWarning: Ignoring unrecognized record 'END' at line 14\n",
      "  warnings.warn(\n"
     ]
    },
    {
     "data": {
      "text/plain": "  chain  Cluster_ID    res atom      dist  gpcr   arr\n0     A         0.0   63.0    O  2.872244  6TKO  6TKO\n1     R         0.0  150.0  NE2  2.872244  6TKO  6TKO\n0     A         1.0   65.0   NE  2.694740  6TKO  6TKO\n1     R         1.0  150.0  OE1  2.694740  6TKO  6TKO\n0     A         2.0   66.0  OE2  3.405899  6TKO  6TKO\n1     R         2.0   74.0  OG1  3.405899  6TKO  6TKO\n0     A         3.0   66.0  OE2  3.486514  6TKO  6TKO\n1     R         3.0   76.0    N  3.486514  6TKO  6TKO\n0     A         4.0   66.0  OE2  2.721560  6TKO  6TKO\n1     R         4.0   76.0  OG1  2.721560  6TKO  6TKO\n0     A         5.0   67.0  OD1  3.442826  6TKO  6TKO\n1     R         5.0   71.0  NH2  3.442826  6TKO  6TKO\n0     A         6.0   67.0  OD2  2.732877  6TKO  6TKO\n1     R         6.0   71.0  NH2  2.732877  6TKO  6TKO\n0     A         7.0   69.0  OD2  3.012188  6TKO  6TKO\n1     R         7.0  139.0  NH2  3.012188  6TKO  6TKO\n0     A         8.0   77.0   NZ  2.754261  6TKO  6TKO\n1     R         8.0  237.0    O  2.754261  6TKO  6TKO\n0     A         9.0  134.0    O  2.761616  6TKO  6TKO\n1     R         9.0  155.0   NE  2.761616  6TKO  6TKO\n0     A        10.0  134.0    O  3.508091  6TKO  6TKO\n1     R        10.0  155.0  NH2  3.508091  6TKO  6TKO\n0     A        11.0  136.0  OG1  3.407252  6TKO  6TKO\n1     R        11.0   73.0    O  3.407252  6TKO  6TKO\n0     A        12.0  136.0  OG1  3.378209  6TKO  6TKO\n1     R        12.0  155.0  NH2  3.378209  6TKO  6TKO\n0     A        13.0  285.0   NE  2.956151  6TKO  6TKO\n1     R        13.0  154.0  OG1  2.956151  6TKO  6TKO\n0     A        14.0  285.0  NH1  2.552572  6TKO  6TKO\n1     R        14.0  150.0    O  2.552572  6TKO  6TKO\n0     A         0.0  249.0   OH  3.335496  6U1N  6U1N\n1     R         0.0  130.0    N  3.335496  6U1N  6U1N\n0     A         0.0   65.0  NH2  3.092087  6UP7  6UP7\n1     R         0.0   98.0  NE2  3.092087  6UP7  6UP7\n0     A         1.0   65.0  NH2  3.038953  6UP7  6UP7\n1     R         1.0   98.0  OE1  3.038953  6UP7  6UP7\n0     A         2.0   71.0    O  3.145870  6UP7  6UP7\n1     R         2.0  297.0    O  3.145870  6UP7  6UP7\n0     A         3.0   71.0    O  3.417974  6UP7  6UP7\n1     R         3.0  298.0    N  3.417974  6UP7  6UP7\n0     A         4.0   76.0    O  3.116464  6UP7  6UP7\n1     R         4.0  287.0    N  3.116464  6UP7  6UP7\n0     A         5.0  285.0    O  2.863107  6UP7  6UP7\n1     R         5.0   95.0    O  2.863107  6UP7  6UP7\n0     A         6.0  285.0  NH1  3.141638  6UP7  6UP7\n1     R         6.0  370.0  ND2  3.141638  6UP7  6UP7",
      "text/html": "<div>\n<style scoped>\n    .dataframe tbody tr th:only-of-type {\n        vertical-align: middle;\n    }\n\n    .dataframe tbody tr th {\n        vertical-align: top;\n    }\n\n    .dataframe thead th {\n        text-align: right;\n    }\n</style>\n<table border=\"1\" class=\"dataframe\">\n  <thead>\n    <tr style=\"text-align: right;\">\n      <th></th>\n      <th>chain</th>\n      <th>Cluster_ID</th>\n      <th>res</th>\n      <th>atom</th>\n      <th>dist</th>\n      <th>gpcr</th>\n      <th>arr</th>\n    </tr>\n  </thead>\n  <tbody>\n    <tr>\n      <th>0</th>\n      <td>A</td>\n      <td>0.0</td>\n      <td>63.0</td>\n      <td>O</td>\n      <td>2.872244</td>\n      <td>6TKO</td>\n      <td>6TKO</td>\n    </tr>\n    <tr>\n      <th>1</th>\n      <td>R</td>\n      <td>0.0</td>\n      <td>150.0</td>\n      <td>NE2</td>\n      <td>2.872244</td>\n      <td>6TKO</td>\n      <td>6TKO</td>\n    </tr>\n    <tr>\n      <th>0</th>\n      <td>A</td>\n      <td>1.0</td>\n      <td>65.0</td>\n      <td>NE</td>\n      <td>2.694740</td>\n      <td>6TKO</td>\n      <td>6TKO</td>\n    </tr>\n    <tr>\n      <th>1</th>\n      <td>R</td>\n      <td>1.0</td>\n      <td>150.0</td>\n      <td>OE1</td>\n      <td>2.694740</td>\n      <td>6TKO</td>\n      <td>6TKO</td>\n    </tr>\n    <tr>\n      <th>0</th>\n      <td>A</td>\n      <td>2.0</td>\n      <td>66.0</td>\n      <td>OE2</td>\n      <td>3.405899</td>\n      <td>6TKO</td>\n      <td>6TKO</td>\n    </tr>\n    <tr>\n      <th>1</th>\n      <td>R</td>\n      <td>2.0</td>\n      <td>74.0</td>\n      <td>OG1</td>\n      <td>3.405899</td>\n      <td>6TKO</td>\n      <td>6TKO</td>\n    </tr>\n    <tr>\n      <th>0</th>\n      <td>A</td>\n      <td>3.0</td>\n      <td>66.0</td>\n      <td>OE2</td>\n      <td>3.486514</td>\n      <td>6TKO</td>\n      <td>6TKO</td>\n    </tr>\n    <tr>\n      <th>1</th>\n      <td>R</td>\n      <td>3.0</td>\n      <td>76.0</td>\n      <td>N</td>\n      <td>3.486514</td>\n      <td>6TKO</td>\n      <td>6TKO</td>\n    </tr>\n    <tr>\n      <th>0</th>\n      <td>A</td>\n      <td>4.0</td>\n      <td>66.0</td>\n      <td>OE2</td>\n      <td>2.721560</td>\n      <td>6TKO</td>\n      <td>6TKO</td>\n    </tr>\n    <tr>\n      <th>1</th>\n      <td>R</td>\n      <td>4.0</td>\n      <td>76.0</td>\n      <td>OG1</td>\n      <td>2.721560</td>\n      <td>6TKO</td>\n      <td>6TKO</td>\n    </tr>\n    <tr>\n      <th>0</th>\n      <td>A</td>\n      <td>5.0</td>\n      <td>67.0</td>\n      <td>OD1</td>\n      <td>3.442826</td>\n      <td>6TKO</td>\n      <td>6TKO</td>\n    </tr>\n    <tr>\n      <th>1</th>\n      <td>R</td>\n      <td>5.0</td>\n      <td>71.0</td>\n      <td>NH2</td>\n      <td>3.442826</td>\n      <td>6TKO</td>\n      <td>6TKO</td>\n    </tr>\n    <tr>\n      <th>0</th>\n      <td>A</td>\n      <td>6.0</td>\n      <td>67.0</td>\n      <td>OD2</td>\n      <td>2.732877</td>\n      <td>6TKO</td>\n      <td>6TKO</td>\n    </tr>\n    <tr>\n      <th>1</th>\n      <td>R</td>\n      <td>6.0</td>\n      <td>71.0</td>\n      <td>NH2</td>\n      <td>2.732877</td>\n      <td>6TKO</td>\n      <td>6TKO</td>\n    </tr>\n    <tr>\n      <th>0</th>\n      <td>A</td>\n      <td>7.0</td>\n      <td>69.0</td>\n      <td>OD2</td>\n      <td>3.012188</td>\n      <td>6TKO</td>\n      <td>6TKO</td>\n    </tr>\n    <tr>\n      <th>1</th>\n      <td>R</td>\n      <td>7.0</td>\n      <td>139.0</td>\n      <td>NH2</td>\n      <td>3.012188</td>\n      <td>6TKO</td>\n      <td>6TKO</td>\n    </tr>\n    <tr>\n      <th>0</th>\n      <td>A</td>\n      <td>8.0</td>\n      <td>77.0</td>\n      <td>NZ</td>\n      <td>2.754261</td>\n      <td>6TKO</td>\n      <td>6TKO</td>\n    </tr>\n    <tr>\n      <th>1</th>\n      <td>R</td>\n      <td>8.0</td>\n      <td>237.0</td>\n      <td>O</td>\n      <td>2.754261</td>\n      <td>6TKO</td>\n      <td>6TKO</td>\n    </tr>\n    <tr>\n      <th>0</th>\n      <td>A</td>\n      <td>9.0</td>\n      <td>134.0</td>\n      <td>O</td>\n      <td>2.761616</td>\n      <td>6TKO</td>\n      <td>6TKO</td>\n    </tr>\n    <tr>\n      <th>1</th>\n      <td>R</td>\n      <td>9.0</td>\n      <td>155.0</td>\n      <td>NE</td>\n      <td>2.761616</td>\n      <td>6TKO</td>\n      <td>6TKO</td>\n    </tr>\n    <tr>\n      <th>0</th>\n      <td>A</td>\n      <td>10.0</td>\n      <td>134.0</td>\n      <td>O</td>\n      <td>3.508091</td>\n      <td>6TKO</td>\n      <td>6TKO</td>\n    </tr>\n    <tr>\n      <th>1</th>\n      <td>R</td>\n      <td>10.0</td>\n      <td>155.0</td>\n      <td>NH2</td>\n      <td>3.508091</td>\n      <td>6TKO</td>\n      <td>6TKO</td>\n    </tr>\n    <tr>\n      <th>0</th>\n      <td>A</td>\n      <td>11.0</td>\n      <td>136.0</td>\n      <td>OG1</td>\n      <td>3.407252</td>\n      <td>6TKO</td>\n      <td>6TKO</td>\n    </tr>\n    <tr>\n      <th>1</th>\n      <td>R</td>\n      <td>11.0</td>\n      <td>73.0</td>\n      <td>O</td>\n      <td>3.407252</td>\n      <td>6TKO</td>\n      <td>6TKO</td>\n    </tr>\n    <tr>\n      <th>0</th>\n      <td>A</td>\n      <td>12.0</td>\n      <td>136.0</td>\n      <td>OG1</td>\n      <td>3.378209</td>\n      <td>6TKO</td>\n      <td>6TKO</td>\n    </tr>\n    <tr>\n      <th>1</th>\n      <td>R</td>\n      <td>12.0</td>\n      <td>155.0</td>\n      <td>NH2</td>\n      <td>3.378209</td>\n      <td>6TKO</td>\n      <td>6TKO</td>\n    </tr>\n    <tr>\n      <th>0</th>\n      <td>A</td>\n      <td>13.0</td>\n      <td>285.0</td>\n      <td>NE</td>\n      <td>2.956151</td>\n      <td>6TKO</td>\n      <td>6TKO</td>\n    </tr>\n    <tr>\n      <th>1</th>\n      <td>R</td>\n      <td>13.0</td>\n      <td>154.0</td>\n      <td>OG1</td>\n      <td>2.956151</td>\n      <td>6TKO</td>\n      <td>6TKO</td>\n    </tr>\n    <tr>\n      <th>0</th>\n      <td>A</td>\n      <td>14.0</td>\n      <td>285.0</td>\n      <td>NH1</td>\n      <td>2.552572</td>\n      <td>6TKO</td>\n      <td>6TKO</td>\n    </tr>\n    <tr>\n      <th>1</th>\n      <td>R</td>\n      <td>14.0</td>\n      <td>150.0</td>\n      <td>O</td>\n      <td>2.552572</td>\n      <td>6TKO</td>\n      <td>6TKO</td>\n    </tr>\n    <tr>\n      <th>0</th>\n      <td>A</td>\n      <td>0.0</td>\n      <td>249.0</td>\n      <td>OH</td>\n      <td>3.335496</td>\n      <td>6U1N</td>\n      <td>6U1N</td>\n    </tr>\n    <tr>\n      <th>1</th>\n      <td>R</td>\n      <td>0.0</td>\n      <td>130.0</td>\n      <td>N</td>\n      <td>3.335496</td>\n      <td>6U1N</td>\n      <td>6U1N</td>\n    </tr>\n    <tr>\n      <th>0</th>\n      <td>A</td>\n      <td>0.0</td>\n      <td>65.0</td>\n      <td>NH2</td>\n      <td>3.092087</td>\n      <td>6UP7</td>\n      <td>6UP7</td>\n    </tr>\n    <tr>\n      <th>1</th>\n      <td>R</td>\n      <td>0.0</td>\n      <td>98.0</td>\n      <td>NE2</td>\n      <td>3.092087</td>\n      <td>6UP7</td>\n      <td>6UP7</td>\n    </tr>\n    <tr>\n      <th>0</th>\n      <td>A</td>\n      <td>1.0</td>\n      <td>65.0</td>\n      <td>NH2</td>\n      <td>3.038953</td>\n      <td>6UP7</td>\n      <td>6UP7</td>\n    </tr>\n    <tr>\n      <th>1</th>\n      <td>R</td>\n      <td>1.0</td>\n      <td>98.0</td>\n      <td>OE1</td>\n      <td>3.038953</td>\n      <td>6UP7</td>\n      <td>6UP7</td>\n    </tr>\n    <tr>\n      <th>0</th>\n      <td>A</td>\n      <td>2.0</td>\n      <td>71.0</td>\n      <td>O</td>\n      <td>3.145870</td>\n      <td>6UP7</td>\n      <td>6UP7</td>\n    </tr>\n    <tr>\n      <th>1</th>\n      <td>R</td>\n      <td>2.0</td>\n      <td>297.0</td>\n      <td>O</td>\n      <td>3.145870</td>\n      <td>6UP7</td>\n      <td>6UP7</td>\n    </tr>\n    <tr>\n      <th>0</th>\n      <td>A</td>\n      <td>3.0</td>\n      <td>71.0</td>\n      <td>O</td>\n      <td>3.417974</td>\n      <td>6UP7</td>\n      <td>6UP7</td>\n    </tr>\n    <tr>\n      <th>1</th>\n      <td>R</td>\n      <td>3.0</td>\n      <td>298.0</td>\n      <td>N</td>\n      <td>3.417974</td>\n      <td>6UP7</td>\n      <td>6UP7</td>\n    </tr>\n    <tr>\n      <th>0</th>\n      <td>A</td>\n      <td>4.0</td>\n      <td>76.0</td>\n      <td>O</td>\n      <td>3.116464</td>\n      <td>6UP7</td>\n      <td>6UP7</td>\n    </tr>\n    <tr>\n      <th>1</th>\n      <td>R</td>\n      <td>4.0</td>\n      <td>287.0</td>\n      <td>N</td>\n      <td>3.116464</td>\n      <td>6UP7</td>\n      <td>6UP7</td>\n    </tr>\n    <tr>\n      <th>0</th>\n      <td>A</td>\n      <td>5.0</td>\n      <td>285.0</td>\n      <td>O</td>\n      <td>2.863107</td>\n      <td>6UP7</td>\n      <td>6UP7</td>\n    </tr>\n    <tr>\n      <th>1</th>\n      <td>R</td>\n      <td>5.0</td>\n      <td>95.0</td>\n      <td>O</td>\n      <td>2.863107</td>\n      <td>6UP7</td>\n      <td>6UP7</td>\n    </tr>\n    <tr>\n      <th>0</th>\n      <td>A</td>\n      <td>6.0</td>\n      <td>285.0</td>\n      <td>NH1</td>\n      <td>3.141638</td>\n      <td>6UP7</td>\n      <td>6UP7</td>\n    </tr>\n    <tr>\n      <th>1</th>\n      <td>R</td>\n      <td>6.0</td>\n      <td>370.0</td>\n      <td>ND2</td>\n      <td>3.141638</td>\n      <td>6UP7</td>\n      <td>6UP7</td>\n    </tr>\n  </tbody>\n</table>\n</div>"
     },
     "execution_count": 314,
     "metadata": {},
     "output_type": "execute_result"
    }
   ],
   "source": [
    "total = pd.DataFrame()\n",
    "for pdb_code in arr:\n",
    "    total = pd.concat([total,get_contacts(pdb_code)])\n",
    "total"
   ],
   "metadata": {
    "collapsed": false,
    "pycharm": {
     "name": "#%%\n"
    }
   }
  },
  {
   "cell_type": "code",
   "execution_count": 315,
   "outputs": [
    {
     "name": "stderr",
     "output_type": "stream",
     "text": [
      "/home/kestr/AT1/.venv/lib/python3.9/site-packages/Bio/PDB/PDBParser.py:395: PDBConstructionWarning: Ignoring unrecognized record 'END' at line 457\n",
      "  warnings.warn(\n",
      "/home/kestr/AT1/.venv/lib/python3.9/site-packages/Bio/PDB/PDBParser.py:395: PDBConstructionWarning: Ignoring unrecognized record 'END' at line 216\n",
      "  warnings.warn(\n",
      "/home/kestr/AT1/.venv/lib/python3.9/site-packages/Bio/PDB/PDBParser.py:395: PDBConstructionWarning: Ignoring unrecognized record 'END' at line 279\n",
      "  warnings.warn(\n",
      "/home/kestr/AT1/.venv/lib/python3.9/site-packages/Bio/PDB/PDBParser.py:395: PDBConstructionWarning: Ignoring unrecognized record 'END' at line 104\n",
      "  warnings.warn(\n",
      "/home/kestr/AT1/.venv/lib/python3.9/site-packages/Bio/PDB/PDBParser.py:395: PDBConstructionWarning: Ignoring unrecognized record 'END' at line 283\n",
      "  warnings.warn(\n",
      "/home/kestr/AT1/.venv/lib/python3.9/site-packages/Bio/PDB/PDBParser.py:395: PDBConstructionWarning: Ignoring unrecognized record 'END' at line 168\n",
      "  warnings.warn(\n",
      "/home/kestr/AT1/.venv/lib/python3.9/site-packages/Bio/PDB/PDBParser.py:395: PDBConstructionWarning: Ignoring unrecognized record 'END' at line 143\n",
      "  warnings.warn(\n",
      "/home/kestr/AT1/.venv/lib/python3.9/site-packages/Bio/PDB/PDBParser.py:395: PDBConstructionWarning: Ignoring unrecognized record 'END' at line 59\n",
      "  warnings.warn(\n",
      "/home/kestr/AT1/.venv/lib/python3.9/site-packages/Bio/PDB/PDBParser.py:395: PDBConstructionWarning: Ignoring unrecognized record 'END' at line 442\n",
      "  warnings.warn(\n",
      "/home/kestr/AT1/.venv/lib/python3.9/site-packages/Bio/PDB/PDBParser.py:395: PDBConstructionWarning: Ignoring unrecognized record 'END' at line 181\n",
      "  warnings.warn(\n",
      "/home/kestr/AT1/.venv/lib/python3.9/site-packages/Bio/PDB/PDBParser.py:395: PDBConstructionWarning: Ignoring unrecognized record 'END' at line 211\n",
      "  warnings.warn(\n",
      "/home/kestr/AT1/.venv/lib/python3.9/site-packages/Bio/PDB/PDBParser.py:395: PDBConstructionWarning: Ignoring unrecognized record 'END' at line 47\n",
      "  warnings.warn(\n",
      "/home/kestr/AT1/.venv/lib/python3.9/site-packages/Bio/PDB/PDBParser.py:395: PDBConstructionWarning: Ignoring unrecognized record 'END' at line 451\n",
      "  warnings.warn(\n",
      "/home/kestr/AT1/.venv/lib/python3.9/site-packages/Bio/PDB/PDBParser.py:395: PDBConstructionWarning: Ignoring unrecognized record 'END' at line 217\n",
      "  warnings.warn(\n",
      "/home/kestr/AT1/.venv/lib/python3.9/site-packages/Bio/PDB/PDBParser.py:395: PDBConstructionWarning: Ignoring unrecognized record 'END' at line 203\n",
      "  warnings.warn(\n",
      "/home/kestr/AT1/.venv/lib/python3.9/site-packages/Bio/PDB/PDBParser.py:395: PDBConstructionWarning: Ignoring unrecognized record 'END' at line 57\n",
      "  warnings.warn(\n",
      "/home/kestr/AT1/.venv/lib/python3.9/site-packages/Bio/PDB/PDBParser.py:395: PDBConstructionWarning: Ignoring unrecognized record 'END' at line 486\n",
      "  warnings.warn(\n",
      "/home/kestr/AT1/.venv/lib/python3.9/site-packages/Bio/PDB/PDBParser.py:395: PDBConstructionWarning: Ignoring unrecognized record 'END' at line 212\n",
      "  warnings.warn(\n",
      "/home/kestr/AT1/.venv/lib/python3.9/site-packages/Bio/PDB/PDBParser.py:395: PDBConstructionWarning: Ignoring unrecognized record 'END' at line 189\n",
      "  warnings.warn(\n",
      "/home/kestr/AT1/.venv/lib/python3.9/site-packages/Bio/PDB/PDBParser.py:395: PDBConstructionWarning: Ignoring unrecognized record 'END' at line 41\n",
      "  warnings.warn(\n",
      "/home/kestr/AT1/.venv/lib/python3.9/site-packages/Bio/PDB/PDBParser.py:395: PDBConstructionWarning: Ignoring unrecognized record 'END' at line 475\n",
      "  warnings.warn(\n",
      "/home/kestr/AT1/.venv/lib/python3.9/site-packages/Bio/PDB/PDBParser.py:395: PDBConstructionWarning: Ignoring unrecognized record 'END' at line 206\n",
      "  warnings.warn(\n",
      "/home/kestr/AT1/.venv/lib/python3.9/site-packages/Bio/PDB/PDBParser.py:395: PDBConstructionWarning: Ignoring unrecognized record 'END' at line 239\n",
      "  warnings.warn(\n",
      "/home/kestr/AT1/.venv/lib/python3.9/site-packages/Bio/PDB/PDBParser.py:395: PDBConstructionWarning: Ignoring unrecognized record 'END' at line 51\n",
      "  warnings.warn(\n"
     ]
    }
   ],
   "source": [
    "for AT1 in AT14+AT16:\n",
    "    for arr_i in arr:\n",
    "        total = pd.concat([total,get_contacts2(AT1,arr_i)])"
   ],
   "metadata": {
    "collapsed": false,
    "pycharm": {
     "name": "#%%\n"
    }
   }
  },
  {
   "cell_type": "code",
   "execution_count": 321,
   "outputs": [],
   "source": [
    "total[['Cluster_ID','res']]=total[['Cluster_ID','res']].astype('int')"
   ],
   "metadata": {
    "collapsed": false,
    "pycharm": {
     "name": "#%%\n"
    }
   }
  },
  {
   "cell_type": "code",
   "execution_count": 323,
   "outputs": [],
   "source": [
    "total.to_csv('/home/kestr/AT1/data/hydro_contacts.csv', index=False)"
   ],
   "metadata": {
    "collapsed": false,
    "pycharm": {
     "name": "#%%\n"
    }
   }
  }
 ],
 "metadata": {
  "kernelspec": {
   "display_name": "Python 3",
   "language": "python",
   "name": "python3"
  },
  "language_info": {
   "codemirror_mode": {
    "name": "ipython",
    "version": 2
   },
   "file_extension": ".py",
   "mimetype": "text/x-python",
   "name": "python",
   "nbconvert_exporter": "python",
   "pygments_lexer": "ipython2",
   "version": "2.7.6"
  }
 },
 "nbformat": 4,
 "nbformat_minor": 0
}
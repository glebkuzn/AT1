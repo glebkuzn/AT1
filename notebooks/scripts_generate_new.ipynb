{
 "cells": [
  {
   "cell_type": "code",
   "execution_count": 1,
   "metadata": {
    "collapsed": true
   },
   "outputs": [],
   "source": [
    "AT14 = ['4YAY','4ZUD']\n",
    "AT16 = ['6DO1','6OS0','6OS1','6OS2']\n",
    "arr = ['6TKO','6U1N','6UP7','6PWC']"
   ]
  },
  {
   "cell_type": "code",
   "execution_count": 2,
   "outputs": [],
   "source": [
    "AT1=AT14+AT16"
   ],
   "metadata": {
    "collapsed": false,
    "pycharm": {
     "name": "#%%\n"
    }
   }
  },
  {
   "cell_type": "code",
   "execution_count": 3,
   "outputs": [],
   "source": [
    "filtered_without_arr_path = '../pdb/0_filtered/without_arr'\n",
    "filtered_arr_path = '../pdb/0_filtered/arr'\n",
    "filtered_AT1_path = '../pdb/0_filtered/AT1'\n",
    "\n",
    "BW_without_arr_path = '../pdb/1_BW/without_arr'\n",
    "BW_arr_path = '../pdb/1_BW/arr'"
   ],
   "metadata": {
    "collapsed": false,
    "pycharm": {
     "name": "#%%\n"
    }
   }
  },
  {
   "cell_type": "code",
   "execution_count": 4,
   "outputs": [],
   "source": [
    "! mkdir -p {BW_without_arr_path}\n",
    "! mkdir -p {BW_arr_path}\n",
    "! mkdir -p {filtered_without_arr_path}\n",
    "! mkdir -p {filtered_arr_path}\n",
    "! mkdir -p {filtered_AT1_path}"
   ],
   "metadata": {
    "collapsed": false,
    "pycharm": {
     "name": "#%%\n"
    }
   }
  },
  {
   "cell_type": "code",
   "execution_count": 7,
   "outputs": [],
   "source": [
    "# сшивка пронумерованной BW arr структуры(без arr) с arr\n",
    "\n",
    "for i in arr:\n",
    "    with open(f'../scripts/1_BW_arr/{i}.pml', 'w') as f:\n",
    "        f.write(f'''\n",
    "reinitialize\n",
    "load ../{BW_without_arr_path}/{i}_GPCRDB.pdb, BW\n",
    "load ../{filtered_arr_path}/{i}.pdb, arr\n",
    "align BW, arr\n",
    "remove arr and chain R\n",
    "\n",
    "save ../{BW_arr_path}/{i}.pdb\n",
    "    ''')"
   ],
   "metadata": {
    "collapsed": false,
    "pycharm": {
     "name": "#%%\n"
    }
   }
  },
  {
   "cell_type": "code",
   "execution_count": null,
   "outputs": [],
   "source": [],
   "metadata": {
    "collapsed": false,
    "pycharm": {
     "name": "#%%\n"
    }
   }
  }
 ],
 "metadata": {
  "kernelspec": {
   "display_name": "Python 3",
   "language": "python",
   "name": "python3"
  },
  "language_info": {
   "codemirror_mode": {
    "name": "ipython",
    "version": 2
   },
   "file_extension": ".py",
   "mimetype": "text/x-python",
   "name": "python",
   "nbconvert_exporter": "python",
   "pygments_lexer": "ipython2",
   "version": "2.7.6"
  }
 },
 "nbformat": 4,
 "nbformat_minor": 0
}
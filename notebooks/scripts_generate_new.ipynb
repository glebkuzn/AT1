{
 "cells": [
  {
   "cell_type": "code",
   "execution_count": 5,
   "metadata": {
    "collapsed": true
   },
   "outputs": [],
   "source": [
    "AT14 = ['4YAY','4ZUD']\n",
    "AT16 = ['6DO1','6OS0','6OS1','6OS2']\n",
    "arr = ['6TKO','6U1N','6UP7','6PWC']"
   ]
  },
  {
   "cell_type": "code",
   "execution_count": 8,
   "outputs": [],
   "source": [
    "filtered_without_arr_path = '../pdb/0_filtered/without_arr'\n",
    "filtered_arr_path = '../pdb/0_filtered/arr'\n",
    "filtered_AT1_path = '../pdb/0_filtered/AT1'\n",
    "\n",
    "BW_without_arr_path = '../pdb/1_BW/without_arr'\n",
    "BW_arr_path = '../pdb/1_BW/arr'\n",
    "BW_AT1_path = '../pdb/1_BW/AT1'\n",
    "\n",
    "aligned_AT1_path = '../pdb/2_aligned/AT1'\n",
    "aligned_arr_path = '../pdb/2_aligned/arr'\n",
    "aligned_cutted_arr_path = '../pdb/2_aligned/cutted_arr'"
   ],
   "metadata": {
    "collapsed": false,
    "pycharm": {
     "name": "#%%\n"
    }
   }
  },
  {
   "cell_type": "code",
   "execution_count": 9,
   "outputs": [],
   "source": [
    "# ! mkdir -p {BW_without_arr_path}\n",
    "# ! mkdir -p {BW_arr_path}\n",
    "# ! mkdir -p {filtered_without_arr_path}\n",
    "# ! mkdir -p {filtered_arr_path}\n",
    "# ! mkdir -p {filtered_AT1_path}\n",
    "# ! mkdir -p {aligned_AT1_path}\n",
    "# ! mkdir -p {aligned_arr_path}\n",
    "# ! mkdir -p {aligned_cutted_arr_path}"
   ],
   "metadata": {
    "collapsed": false,
    "pycharm": {
     "name": "#%%\n"
    }
   }
  },
  {
   "cell_type": "code",
   "execution_count": 22,
   "outputs": [],
   "source": [
    "# сшивка пронумерованной BW arr структуры(без arr) с arr\n",
    "\n",
    "for i in arr:\n",
    "    with open(f'../scripts/1_BW_arr/{i}.pml', 'w') as f:\n",
    "        f.write(f'''\n",
    "reinitialize\n",
    "load ../{BW_without_arr_path}/{i}_GPCRDB.pdb, BW\n",
    "load ../{filtered_arr_path}/{i}.pdb, arr\n",
    "align BW, arr\n",
    "remove arr and chain R\n",
    "\n",
    "save ../{BW_arr_path}/{i}.pdb\n",
    "\n",
    "select round, byres arr around 4 and BW\n",
    "select orig, byres round around 4 and arr\n",
    "save ../{aligned_arr_path}/{i}.pdb, (round or orig)\n",
    "    ''')"
   ],
   "metadata": {
    "collapsed": false,
    "pycharm": {
     "name": "#%%\n"
    }
   }
  },
  {
   "cell_type": "code",
   "execution_count": 23,
   "outputs": [],
   "source": [
    "# сшивка пронумерованной BW AT1 структуры(без arr) с arr\n",
    "for AT1 in AT14+AT16:\n",
    "    for arr_i in arr:\n",
    "        script = f'''\n",
    "    reinitialize\n",
    "    load ../{BW_arr_path}/{arr_i}.pdb, arr\n",
    "    load ../{BW_AT1_path}/{AT1}_GPCRDB.pdb, AT1\n",
    "    align AT1, arr\n",
    "    remove arr and chain R\n",
    "    alter chain T, chain=\"R\"\n",
    "\n",
    "    save ../{aligned_AT1_path}/{AT1}_{arr_i}.pdb\n",
    "\n",
    "    select round, byres arr around 4 and AT1\n",
    "    select orig, byres round around 4 and arr\n",
    "    save ../{aligned_cutted_arr_path}/{AT1}_{arr_i}.pdb, (round or orig)\n",
    "    '''\n",
    "        with open(f'../scripts/2_align/{AT1}_{arr_i}.pml', 'w') as f:\n",
    "            f.write(script)"
   ],
   "metadata": {
    "collapsed": false,
    "pycharm": {
     "name": "#%%\n"
    }
   }
  }
 ],
 "metadata": {
  "kernelspec": {
   "display_name": "Python 3",
   "language": "python",
   "name": "python3"
  },
  "language_info": {
   "codemirror_mode": {
    "name": "ipython",
    "version": 2
   },
   "file_extension": ".py",
   "mimetype": "text/x-python",
   "name": "python",
   "nbconvert_exporter": "python",
   "pygments_lexer": "ipython2",
   "version": "2.7.6"
  }
 },
 "nbformat": 4,
 "nbformat_minor": 0
}
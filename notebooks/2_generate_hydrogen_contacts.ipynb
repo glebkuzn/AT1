{
 "cells": [
  {
   "cell_type": "code",
   "execution_count": 324,
   "metadata": {
    "collapsed": true
   },
   "outputs": [],
   "source": [
    "import Bio.PDB\n",
    "import numpy\n",
    "import pandas as pd"
   ]
  },
  {
   "cell_type": "code",
   "execution_count": 325,
   "outputs": [],
   "source": [
    "AT14 = ['4YAY','4ZUD']\n",
    "AT16 = ['6DO1','6OS0','6OS1','6OS2']\n",
    "arr = ['6TKO','6U1N','6UP7','6PWC']"
   ],
   "metadata": {
    "collapsed": false,
    "pycharm": {
     "name": "#%%\n"
    }
   }
  },
  {
   "cell_type": "code",
   "execution_count": 326,
   "outputs": [],
   "source": [
    "# min_dist = 2.18\n",
    "# max_dist = 3.51\n",
    "min_dist = 0\n",
    "max_dist = 2\n",
    "atoms = ['N','O','S','SE']"
   ],
   "metadata": {
    "collapsed": false,
    "pycharm": {
     "name": "#%%\n"
    }
   }
  },
  {
   "cell_type": "code",
   "execution_count": 327,
   "outputs": [],
   "source": [
    "def calc_atom_dist(atom1, atom2) :\n",
    "    diff_vector  = atom1.coord - atom2.coord\n",
    "    return numpy.sqrt(numpy.sum(diff_vector * diff_vector))\n",
    "\n",
    "def calc_dist_matrix(chain1, chain2) :\n",
    "    num = 0\n",
    "    out = pd.DataFrame()\n",
    "    for res1 in chain1 :\n",
    "        for atom1 in res1:\n",
    "            if atom1.element in atoms:\n",
    "                for res2 in chain2 :\n",
    "                    for atom2 in res2:\n",
    "                        if atom2.element in atoms:\n",
    "                            dist = calc_atom_dist(atom1, atom2)\n",
    "                            if((dist<max_dist) & (dist>min_dist)):\n",
    "                                part = pd.DataFrame([\n",
    "                                    [\n",
    "                                        chain1.id, num, res1.id[1], atom1.name, dist\n",
    "                                    ],\n",
    "                                    [\n",
    "                                        chain2.id, num, res2.id[1], atom2.name, dist\n",
    "                                    ]\n",
    "                                    ],\n",
    "                                    columns=[\n",
    "                                        'chain','Cluster_ID', 'res', 'atom', 'dist'\n",
    "                                    ]\n",
    "                                )\n",
    "                                out=pd.concat([out,part])\n",
    "                                num += 1\n",
    "    return out"
   ],
   "metadata": {
    "collapsed": false,
    "pycharm": {
     "name": "#%%\n"
    }
   }
  },
  {
   "cell_type": "code",
   "execution_count": 328,
   "outputs": [],
   "source": [
    "def get_contacts(pdb_code):\n",
    "    pdb_filename = f\"/home/kestr/AT1/pdb/2_aligned/arr/{pdb_code}.pdb\"\n",
    "    structure = Bio.PDB.PDBParser().get_structure(pdb_code, pdb_filename)\n",
    "    model = structure[0]\n",
    "    out = calc_dist_matrix(model[\"A\"], model[\"R\"])\n",
    "    out['gpcr']=pdb_code\n",
    "    out['arr']=pdb_code\n",
    "    return out"
   ],
   "metadata": {
    "collapsed": false,
    "pycharm": {
     "name": "#%%\n"
    }
   }
  },
  {
   "cell_type": "code",
   "execution_count": 329,
   "outputs": [],
   "source": [
    "def get_contacts2(pdb_code1,pdb_code2):\n",
    "    pdb_filename = f\"/home/kestr/AT1/pdb/2_aligned/cutted_arr/{pdb_code1}_{pdb_code2}.pdb\"\n",
    "    structure = Bio.PDB.PDBParser().get_structure(pdb_code, pdb_filename)\n",
    "    model = structure[0]\n",
    "    out = calc_dist_matrix(model[\"A\"], model[\"R\"])\n",
    "    out['gpcr']=pdb_code1\n",
    "    out['arr']=pdb_code2\n",
    "    return out"
   ],
   "metadata": {
    "collapsed": false,
    "pycharm": {
     "name": "#%%\n"
    }
   }
  },
  {
   "cell_type": "code",
   "execution_count": 330,
   "outputs": [
    {
     "name": "stderr",
     "output_type": "stream",
     "text": [
      "/home/kestr/AT1/.venv/lib/python3.9/site-packages/Bio/PDB/PDBParser.py:395: PDBConstructionWarning: Ignoring unrecognized record 'CRYST1' at line 239\n",
      "  warnings.warn(\n",
      "/home/kestr/AT1/.venv/lib/python3.9/site-packages/Bio/PDB/PDBParser.py:395: PDBConstructionWarning: Ignoring unrecognized record 'END' at line 415\n",
      "  warnings.warn(\n",
      "/home/kestr/AT1/.venv/lib/python3.9/site-packages/Bio/PDB/PDBParser.py:395: PDBConstructionWarning: Ignoring unrecognized record 'CRYST1' at line 28\n",
      "  warnings.warn(\n",
      "/home/kestr/AT1/.venv/lib/python3.9/site-packages/Bio/PDB/PDBParser.py:395: PDBConstructionWarning: Ignoring unrecognized record 'END' at line 52\n",
      "  warnings.warn(\n",
      "/home/kestr/AT1/.venv/lib/python3.9/site-packages/Bio/PDB/PDBParser.py:395: PDBConstructionWarning: Ignoring unrecognized record 'CRYST1' at line 101\n",
      "  warnings.warn(\n",
      "/home/kestr/AT1/.venv/lib/python3.9/site-packages/Bio/PDB/PDBParser.py:395: PDBConstructionWarning: Ignoring unrecognized record 'END' at line 250\n",
      "  warnings.warn(\n",
      "/home/kestr/AT1/.venv/lib/python3.9/site-packages/Bio/PDB/PDBParser.py:395: PDBConstructionWarning: Ignoring unrecognized record 'CRYST1' at line 7\n",
      "  warnings.warn(\n",
      "/home/kestr/AT1/.venv/lib/python3.9/site-packages/Bio/PDB/PDBParser.py:395: PDBConstructionWarning: Ignoring unrecognized record 'END' at line 14\n",
      "  warnings.warn(\n"
     ]
    }
   ],
   "source": [
    "total = pd.DataFrame()\n",
    "for pdb_code in arr:\n",
    "    total = pd.concat([total,get_contacts(pdb_code)])"
   ],
   "metadata": {
    "collapsed": false,
    "pycharm": {
     "name": "#%%\n"
    }
   }
  },
  {
   "cell_type": "code",
   "execution_count": 331,
   "outputs": [
    {
     "name": "stderr",
     "output_type": "stream",
     "text": [
      "/home/kestr/AT1/.venv/lib/python3.9/site-packages/Bio/PDB/PDBParser.py:395: PDBConstructionWarning: Ignoring unrecognized record 'END' at line 457\n",
      "  warnings.warn(\n",
      "/home/kestr/AT1/.venv/lib/python3.9/site-packages/Bio/PDB/PDBParser.py:395: PDBConstructionWarning: Ignoring unrecognized record 'END' at line 216\n",
      "  warnings.warn(\n",
      "/home/kestr/AT1/.venv/lib/python3.9/site-packages/Bio/PDB/PDBParser.py:395: PDBConstructionWarning: Ignoring unrecognized record 'END' at line 279\n",
      "  warnings.warn(\n",
      "/home/kestr/AT1/.venv/lib/python3.9/site-packages/Bio/PDB/PDBParser.py:395: PDBConstructionWarning: Ignoring unrecognized record 'END' at line 104\n",
      "  warnings.warn(\n",
      "/home/kestr/AT1/.venv/lib/python3.9/site-packages/Bio/PDB/PDBParser.py:395: PDBConstructionWarning: Ignoring unrecognized record 'END' at line 283\n",
      "  warnings.warn(\n",
      "/home/kestr/AT1/.venv/lib/python3.9/site-packages/Bio/PDB/PDBParser.py:395: PDBConstructionWarning: Ignoring unrecognized record 'END' at line 168\n",
      "  warnings.warn(\n",
      "/home/kestr/AT1/.venv/lib/python3.9/site-packages/Bio/PDB/PDBParser.py:395: PDBConstructionWarning: Ignoring unrecognized record 'END' at line 143\n",
      "  warnings.warn(\n",
      "/home/kestr/AT1/.venv/lib/python3.9/site-packages/Bio/PDB/PDBParser.py:395: PDBConstructionWarning: Ignoring unrecognized record 'END' at line 59\n",
      "  warnings.warn(\n",
      "/home/kestr/AT1/.venv/lib/python3.9/site-packages/Bio/PDB/PDBParser.py:395: PDBConstructionWarning: Ignoring unrecognized record 'END' at line 442\n",
      "  warnings.warn(\n",
      "/home/kestr/AT1/.venv/lib/python3.9/site-packages/Bio/PDB/PDBParser.py:395: PDBConstructionWarning: Ignoring unrecognized record 'END' at line 181\n",
      "  warnings.warn(\n",
      "/home/kestr/AT1/.venv/lib/python3.9/site-packages/Bio/PDB/PDBParser.py:395: PDBConstructionWarning: Ignoring unrecognized record 'END' at line 211\n",
      "  warnings.warn(\n",
      "/home/kestr/AT1/.venv/lib/python3.9/site-packages/Bio/PDB/PDBParser.py:395: PDBConstructionWarning: Ignoring unrecognized record 'END' at line 47\n",
      "  warnings.warn(\n",
      "/home/kestr/AT1/.venv/lib/python3.9/site-packages/Bio/PDB/PDBParser.py:395: PDBConstructionWarning: Ignoring unrecognized record 'END' at line 451\n",
      "  warnings.warn(\n",
      "/home/kestr/AT1/.venv/lib/python3.9/site-packages/Bio/PDB/PDBParser.py:395: PDBConstructionWarning: Ignoring unrecognized record 'END' at line 217\n",
      "  warnings.warn(\n",
      "/home/kestr/AT1/.venv/lib/python3.9/site-packages/Bio/PDB/PDBParser.py:395: PDBConstructionWarning: Ignoring unrecognized record 'END' at line 203\n",
      "  warnings.warn(\n",
      "/home/kestr/AT1/.venv/lib/python3.9/site-packages/Bio/PDB/PDBParser.py:395: PDBConstructionWarning: Ignoring unrecognized record 'END' at line 57\n",
      "  warnings.warn(\n",
      "/home/kestr/AT1/.venv/lib/python3.9/site-packages/Bio/PDB/PDBParser.py:395: PDBConstructionWarning: Ignoring unrecognized record 'END' at line 486\n",
      "  warnings.warn(\n",
      "/home/kestr/AT1/.venv/lib/python3.9/site-packages/Bio/PDB/PDBParser.py:395: PDBConstructionWarning: Ignoring unrecognized record 'END' at line 212\n",
      "  warnings.warn(\n",
      "/home/kestr/AT1/.venv/lib/python3.9/site-packages/Bio/PDB/PDBParser.py:395: PDBConstructionWarning: Ignoring unrecognized record 'END' at line 189\n",
      "  warnings.warn(\n",
      "/home/kestr/AT1/.venv/lib/python3.9/site-packages/Bio/PDB/PDBParser.py:395: PDBConstructionWarning: Ignoring unrecognized record 'END' at line 41\n",
      "  warnings.warn(\n",
      "/home/kestr/AT1/.venv/lib/python3.9/site-packages/Bio/PDB/PDBParser.py:395: PDBConstructionWarning: Ignoring unrecognized record 'END' at line 475\n",
      "  warnings.warn(\n",
      "/home/kestr/AT1/.venv/lib/python3.9/site-packages/Bio/PDB/PDBParser.py:395: PDBConstructionWarning: Ignoring unrecognized record 'END' at line 206\n",
      "  warnings.warn(\n",
      "/home/kestr/AT1/.venv/lib/python3.9/site-packages/Bio/PDB/PDBParser.py:395: PDBConstructionWarning: Ignoring unrecognized record 'END' at line 239\n",
      "  warnings.warn(\n",
      "/home/kestr/AT1/.venv/lib/python3.9/site-packages/Bio/PDB/PDBParser.py:395: PDBConstructionWarning: Ignoring unrecognized record 'END' at line 51\n",
      "  warnings.warn(\n"
     ]
    }
   ],
   "source": [
    "for AT1 in AT14+AT16:\n",
    "    for arr_i in arr:\n",
    "        total = pd.concat([total,get_contacts2(AT1,arr_i)])"
   ],
   "metadata": {
    "collapsed": false,
    "pycharm": {
     "name": "#%%\n"
    }
   }
  },
  {
   "cell_type": "code",
   "execution_count": 332,
   "outputs": [],
   "source": [
    "total[['Cluster_ID','res']]=total[['Cluster_ID','res']].astype('int')"
   ],
   "metadata": {
    "collapsed": false,
    "pycharm": {
     "name": "#%%\n"
    }
   }
  },
  {
   "cell_type": "code",
   "execution_count": 333,
   "outputs": [
    {
     "data": {
      "text/plain": "    gpcr   arr chain  Cluster_ID   res atom      dist\n0   4YAY  6TKO     A           0    68   SG  1.502253\n1   4YAY  6TKO     R           0   237  OD2  1.502253\n0   4YAY  6TKO     A           1    69    N  1.772130\n1   4YAY  6TKO     R           1   235    N  1.772130\n0   4YAY  6TKO     A           2    69    O  0.512528\n..   ...   ...   ...         ...   ...  ...       ...\n1   6OS2  6U1N     R           0   126  NH1  1.852042\n0   6OS2  6UP7     A           0    65  NH1  0.719886\n1   6OS2  6UP7     R           0   137  NH1  0.719886\n0   6OS2  6PWC     A           0    70    O  0.947536\n1   6OS2  6PWC     R           0  1307   NZ  0.947536\n\n[152 rows x 7 columns]",
      "text/html": "<div>\n<style scoped>\n    .dataframe tbody tr th:only-of-type {\n        vertical-align: middle;\n    }\n\n    .dataframe tbody tr th {\n        vertical-align: top;\n    }\n\n    .dataframe thead th {\n        text-align: right;\n    }\n</style>\n<table border=\"1\" class=\"dataframe\">\n  <thead>\n    <tr style=\"text-align: right;\">\n      <th></th>\n      <th>gpcr</th>\n      <th>arr</th>\n      <th>chain</th>\n      <th>Cluster_ID</th>\n      <th>res</th>\n      <th>atom</th>\n      <th>dist</th>\n    </tr>\n  </thead>\n  <tbody>\n    <tr>\n      <th>0</th>\n      <td>4YAY</td>\n      <td>6TKO</td>\n      <td>A</td>\n      <td>0</td>\n      <td>68</td>\n      <td>SG</td>\n      <td>1.502253</td>\n    </tr>\n    <tr>\n      <th>1</th>\n      <td>4YAY</td>\n      <td>6TKO</td>\n      <td>R</td>\n      <td>0</td>\n      <td>237</td>\n      <td>OD2</td>\n      <td>1.502253</td>\n    </tr>\n    <tr>\n      <th>0</th>\n      <td>4YAY</td>\n      <td>6TKO</td>\n      <td>A</td>\n      <td>1</td>\n      <td>69</td>\n      <td>N</td>\n      <td>1.772130</td>\n    </tr>\n    <tr>\n      <th>1</th>\n      <td>4YAY</td>\n      <td>6TKO</td>\n      <td>R</td>\n      <td>1</td>\n      <td>235</td>\n      <td>N</td>\n      <td>1.772130</td>\n    </tr>\n    <tr>\n      <th>0</th>\n      <td>4YAY</td>\n      <td>6TKO</td>\n      <td>A</td>\n      <td>2</td>\n      <td>69</td>\n      <td>O</td>\n      <td>0.512528</td>\n    </tr>\n    <tr>\n      <th>...</th>\n      <td>...</td>\n      <td>...</td>\n      <td>...</td>\n      <td>...</td>\n      <td>...</td>\n      <td>...</td>\n      <td>...</td>\n    </tr>\n    <tr>\n      <th>1</th>\n      <td>6OS2</td>\n      <td>6U1N</td>\n      <td>R</td>\n      <td>0</td>\n      <td>126</td>\n      <td>NH1</td>\n      <td>1.852042</td>\n    </tr>\n    <tr>\n      <th>0</th>\n      <td>6OS2</td>\n      <td>6UP7</td>\n      <td>A</td>\n      <td>0</td>\n      <td>65</td>\n      <td>NH1</td>\n      <td>0.719886</td>\n    </tr>\n    <tr>\n      <th>1</th>\n      <td>6OS2</td>\n      <td>6UP7</td>\n      <td>R</td>\n      <td>0</td>\n      <td>137</td>\n      <td>NH1</td>\n      <td>0.719886</td>\n    </tr>\n    <tr>\n      <th>0</th>\n      <td>6OS2</td>\n      <td>6PWC</td>\n      <td>A</td>\n      <td>0</td>\n      <td>70</td>\n      <td>O</td>\n      <td>0.947536</td>\n    </tr>\n    <tr>\n      <th>1</th>\n      <td>6OS2</td>\n      <td>6PWC</td>\n      <td>R</td>\n      <td>0</td>\n      <td>1307</td>\n      <td>NZ</td>\n      <td>0.947536</td>\n    </tr>\n  </tbody>\n</table>\n<p>152 rows × 7 columns</p>\n</div>"
     },
     "execution_count": 333,
     "metadata": {},
     "output_type": "execute_result"
    }
   ],
   "source": [
    "total"
   ],
   "metadata": {
    "collapsed": false,
    "pycharm": {
     "name": "#%%\n"
    }
   }
  },
  {
   "cell_type": "code",
   "execution_count": 334,
   "outputs": [],
   "source": [
    "total.to_csv('/home/kestr/AT1/data/hydrogen_contacts.csv', index=False)"
   ],
   "metadata": {
    "collapsed": false,
    "pycharm": {
     "name": "#%%\n"
    }
   }
  },
  {
   "cell_type": "code",
   "execution_count": 335,
   "outputs": [],
   "source": [
    "# total.to_csv('/home/kestr/AT1/data/charge_repulsion.csv', index=False)"
   ],
   "metadata": {
    "collapsed": false,
    "pycharm": {
     "name": "#%%\n"
    }
   }
  }
 ],
 "metadata": {
  "kernelspec": {
   "display_name": "Python 3",
   "language": "python",
   "name": "python3"
  },
  "language_info": {
   "codemirror_mode": {
    "name": "ipython",
    "version": 2
   },
   "file_extension": ".py",
   "mimetype": "text/x-python",
   "name": "python",
   "nbconvert_exporter": "python",
   "pygments_lexer": "ipython2",
   "version": "2.7.6"
  }
 },
 "nbformat": 4,
 "nbformat_minor": 0
}
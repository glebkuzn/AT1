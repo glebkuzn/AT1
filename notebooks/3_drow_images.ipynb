{
 "cells": [
  {
   "cell_type": "code",
   "execution_count": 1,
   "metadata": {
    "collapsed": true
   },
   "outputs": [],
   "source": [
    "import pandas as pd\n",
    "import numpy as np"
   ]
  },
  {
   "cell_type": "code",
   "execution_count": 29,
   "outputs": [],
   "source": [
    "AT1 = ['4YAY','4ZUD','6DO1','6OS0','6OS1','6OS2']\n",
    "arr = ['6TKO','6U1N','6UP7','6PWC']"
   ],
   "metadata": {
    "collapsed": false,
    "pycharm": {
     "name": "#%%\n"
    }
   }
  },
  {
   "cell_type": "code",
   "execution_count": 2,
   "outputs": [],
   "source": [
    "hyd_aci = pd.read_csv('/home/kestr/AT1/data/hydrogen_contacts.csv')\n",
    "repulsion = pd.read_csv('/home/kestr/AT1/data/charge_repulsion.csv')\n",
    "other_contacts = pd.read_csv('/home/kestr/AT1/data/contacts_ion_and_hydrophobic.csv')\n",
    "total = pd.read_csv('/home/kestr/AT1/data/model_res_dict.csv')\n",
    "aligned_cutted_arr_path = '../pdb/2_aligned/cutted_arr'"
   ],
   "metadata": {
    "collapsed": false,
    "pycharm": {
     "name": "#%%\n"
    }
   }
  },
  {
   "cell_type": "code",
   "execution_count": 6,
   "outputs": [
    {
     "name": "stderr",
     "output_type": "stream",
     "text": [
      "/tmp/ipykernel_174062/511699616.py:2: SettingWithCopyWarning: \n",
      "A value is trying to be set on a copy of a slice from a DataFrame.\n",
      "Try using .loc[row_indexer,col_indexer] = value instead\n",
      "\n",
      "See the caveats in the documentation: https://pandas.pydata.org/pandas-docs/stable/user_guide/indexing.html#returning-a-view-versus-a-copy\n",
      "  hyd_aci['type'] = 'HY'\n"
     ]
    }
   ],
   "source": [
    "hyd_aci=hyd_aci[['gpcr','arr','chain','Cluster_ID','res']]\n",
    "hyd_aci['type'] = 'HY'\n",
    "repulsion=repulsion[['gpcr','arr','chain','Cluster_ID','res']]\n",
    "repulsion['type'] = 'RE'\n",
    "contacts = pd.concat([other_contacts, hyd_aci, repulsion])\n",
    "contacts_R = contacts[contacts.chain == 'R']\n",
    "contacts_A = contacts[contacts.chain == 'A']\n",
    "contacts_A = contacts_A.merge(total,left_on=['arr','chain','res'],right_on=['pdb_code','chain_id','residue_number'])\n",
    "contacts_R = contacts_R.merge(total,left_on=['gpcr','chain','res'],right_on=['pdb_code','chain_id','residue_number'])"
   ],
   "metadata": {
    "collapsed": false,
    "pycharm": {
     "name": "#%%\n"
    }
   }
  },
  {
   "cell_type": "code",
   "execution_count": 57,
   "outputs": [
    {
     "name": "stderr",
     "output_type": "stream",
     "text": [
      "/tmp/ipykernel_174062/741765378.py:16: UserWarning: Boolean Series key will be reindexed to match DataFrame index.\n",
      "  con_R=contacts_R[contacts_R.gpcr==AT1_code][contacts_R.arr==arr_code]\n",
      "/tmp/ipykernel_174062/741765378.py:17: UserWarning: Boolean Series key will be reindexed to match DataFrame index.\n",
      "  con_A=contacts_A[contacts_A.gpcr==AT1_code][contacts_A.arr==arr_code]\n",
      "/tmp/ipykernel_174062/741765378.py:23: UserWarning: Boolean Series key will be reindexed to match DataFrame index.\n",
      "  arr_reses = con_A[con_A.Cluster_ID==clu][con_A.type==typec]\n"
     ]
    }
   ],
   "source": [
    "# Отрисовка кластеров контактов\n",
    "script = f'''\n",
    "    reinitialize\n",
    "    preset.publication(selection='all')\n",
    "    '''\n",
    "\n",
    "for AT1_code in AT1:\n",
    "    for arr_code in arr:\n",
    "        script += f'''\n",
    "    load ../{aligned_cutted_arr_path}/{AT1_code}_{arr_code}.pdb, {AT1_code}_{arr_code}\n",
    "    alter chain T, chain='R'\n",
    "    util.cbag(selection='chain R')\n",
    "    util.cbak(selection='chain A')\n",
    "    hide all\n",
    "    '''\n",
    "        con_R=contacts_R[contacts_R.gpcr==AT1_code][contacts_R.arr==arr_code]\n",
    "        con_A=contacts_A[contacts_A.gpcr==AT1_code][contacts_A.arr==arr_code]\n",
    "        for BW in con_R.b_factor.unique():\n",
    "            cont_R_BW = con_R[con_R.b_factor==BW]\n",
    "            for clu in cont_R_BW['Cluster_ID'].unique():\n",
    "                cont_R_BW_clu = cont_R_BW[cont_R_BW.Cluster_ID==clu]\n",
    "                for typec in cont_R_BW_clu['type'].unique():\n",
    "                    arr_reses = con_A[con_A.Cluster_ID==clu][con_A.type==typec]\n",
    "                    cont_R_BW_clu_type = cont_R_BW_clu[cont_R_BW_clu.type==typec]\n",
    "                    flag = 0\n",
    "                    for arr_res in arr_reses.res.unique():\n",
    "                        gpcr_res = (cont_R_BW_clu_type[cont_R_BW_clu_type.pdb_code == AT1_code].residue_number.iloc[0])\n",
    "                        gpcr_res_name = (cont_R_BW_clu_type[cont_R_BW_clu_type.pdb_code == AT1_code].residue_name.iloc[0])\n",
    "                        if(flag == 0):\n",
    "                            script+=f'''select init_res, {AT1_code}_{arr_code} and chain R and resi {gpcr_res}\\n'''\n",
    "                            flag = 1\n",
    "                        script+=f'''select init_res, {AT1_code}_{arr_code} and chain A and resi {arr_res} or init_res\\n'''\n",
    "                    script+=f'''\n",
    "                        show sticks, init_res\n",
    "                        h_add (ele n+o+s+se) and init_res\n",
    "                        contacts {AT1_code}_{arr_code} and chain A and init_res, {AT1_code}_{arr_code} and chain R and init_res, result=\"contacts_{AT1_code}_{arr_code}\", cutoff=3.6, bigcutoff=3.6\n",
    "                        label n. N & ! chain R and init_res, resi+resn\n",
    "                        label n. N & chain R and init_res, resi+resn+' %1.2f'%b\n",
    "                        set label_position,(0,1.5,4)\n",
    "                        show cartoon, {AT1_code}_{arr_code}\n",
    "                        set cartoon_transparency, 0.5\n",
    "                        orient init_res\n",
    "                        viewport 1024,768\n",
    "                        bg_color white\n",
    "                        set label_size, 25\n",
    "                        set label_font_id, 7\n",
    "                        move z,-1\n",
    "                        ray\n",
    "                        png ../../images/res_clusters/{typec}/{BW}_{AT1_code}_{arr_code}_{clu}.png\n",
    "                        hide all\n",
    "\n",
    "\n",
    "                        '''\n",
    "\n",
    "with open(f'../scripts/3_images/images_clu.pml', 'w') as f:\n",
    "            f.write(script)"
   ],
   "metadata": {
    "collapsed": false,
    "pycharm": {
     "name": "#%%\n"
    }
   }
  },
  {
   "cell_type": "code",
   "execution_count": 53,
   "outputs": [],
   "source": [],
   "metadata": {
    "collapsed": false,
    "pycharm": {
     "name": "#%%\n"
    }
   }
  }
 ],
 "metadata": {
  "kernelspec": {
   "display_name": "Python 3",
   "language": "python",
   "name": "python3"
  },
  "language_info": {
   "codemirror_mode": {
    "name": "ipython",
    "version": 2
   },
   "file_extension": ".py",
   "mimetype": "text/x-python",
   "name": "python",
   "nbconvert_exporter": "python",
   "pygments_lexer": "ipython2",
   "version": "2.7.6"
  }
 },
 "nbformat": 4,
 "nbformat_minor": 0
}
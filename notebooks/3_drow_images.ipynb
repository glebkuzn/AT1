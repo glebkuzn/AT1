{
 "cells": [
  {
   "cell_type": "code",
   "execution_count": 70,
   "metadata": {
    "collapsed": true
   },
   "outputs": [],
   "source": [
    "import pandas as pd\n",
    "import numpy as np"
   ]
  },
  {
   "cell_type": "code",
   "execution_count": 71,
   "outputs": [],
   "source": [
    "AT16 = ['6DO1','6OS0','6OS1','6OS2']\n",
    "AT14 = ['4YAY','4ZUD']\n",
    "AT1 = AT14 + AT16\n",
    "arr = ['6TKO','6U1N','6UP7','6PWC']"
   ],
   "metadata": {
    "collapsed": false,
    "pycharm": {
     "name": "#%%\n"
    }
   }
  },
  {
   "cell_type": "code",
   "execution_count": 72,
   "outputs": [],
   "source": [
    "hyd_aci = pd.read_csv('/home/kestr/AT1/data/hydrogen_contacts.csv')\n",
    "repulsion = pd.read_csv('/home/kestr/AT1/data/charge_repulsion.csv')\n",
    "other_contacts = pd.read_csv('/home/kestr/AT1/data/contacts_ion_and_hydrophobic.csv')\n",
    "total = pd.read_csv('/home/kestr/AT1/data/model_res_dict.csv')\n",
    "ms = pd.read_csv('/home/kestr/AT1/data/mutants_suggestions.csv')\n",
    "\n",
    "aligned_cutted_arr_path = '../pdb/2_aligned/cutted_arr'\n",
    "AT1_arr_path = '../pdb/2_aligned/AT1'\n",
    "arr_path = '../pdb/1_BW/arr'"
   ],
   "metadata": {
    "collapsed": false,
    "pycharm": {
     "name": "#%%\n"
    }
   }
  },
  {
   "cell_type": "code",
   "execution_count": 73,
   "outputs": [],
   "source": [
    "hyd_aci=hyd_aci[['gpcr','arr','chain','Cluster_ID','res']]\n",
    "hyd_aci['type'] = 'HY'\n",
    "repulsion=repulsion[['gpcr','arr','chain','Cluster_ID','res']]\n",
    "repulsion['type'] = 'RE'\n",
    "contacts = pd.concat([other_contacts, hyd_aci, repulsion])\n",
    "contacts_R = contacts[contacts.chain == 'R']\n",
    "contacts_A = contacts[contacts.chain == 'A']\n",
    "contacts_A = contacts_A.merge(total,left_on=['arr','chain','res'],right_on=['pdb_code','chain_id','residue_number'])\n",
    "contacts_R = contacts_R.merge(total,left_on=['gpcr','chain','res'],right_on=['pdb_code','chain_id','residue_number'])"
   ],
   "metadata": {
    "collapsed": false,
    "pycharm": {
     "name": "#%%\n"
    }
   }
  },
  {
   "cell_type": "code",
   "execution_count": 114,
   "outputs": [
    {
     "name": "stderr",
     "output_type": "stream",
     "text": [
      "/tmp/ipykernel_4029973/1639547522.py:16: UserWarning: Boolean Series key will be reindexed to match DataFrame index.\n",
      "  con_R=contacts_R[contacts_R.gpcr==AT1_code][contacts_R.arr==arr_code]\n",
      "/tmp/ipykernel_4029973/1639547522.py:17: UserWarning: Boolean Series key will be reindexed to match DataFrame index.\n",
      "  con_A=contacts_A[contacts_A.gpcr==AT1_code][contacts_A.arr==arr_code]\n",
      "/tmp/ipykernel_4029973/1639547522.py:23: UserWarning: Boolean Series key will be reindexed to match DataFrame index.\n",
      "  arr_reses = con_A[con_A.Cluster_ID==clu][con_A.type==typec]\n"
     ]
    }
   ],
   "source": [
    "# Отрисовка кластеров контактов  до рекомендаций Саши\n",
    "script = f'''\n",
    "    reinitialize\n",
    "    preset.publication(selection='all')\n",
    "    '''\n",
    "\n",
    "for AT1_code in AT1:\n",
    "    for arr_code in arr:\n",
    "        script += f'''\n",
    "    load ../{aligned_cutted_arr_path}/{AT1_code}_{arr_code}.pdb, {AT1_code}_{arr_code}\n",
    "    alter chain T, chain='R'\n",
    "    util.cbag(selection='chain R')\n",
    "    util.cbak(selection='chain A')\n",
    "    hide all\n",
    "    '''\n",
    "        con_R=contacts_R[contacts_R.gpcr==AT1_code][contacts_R.arr==arr_code]\n",
    "        con_A=contacts_A[contacts_A.gpcr==AT1_code][contacts_A.arr==arr_code]\n",
    "        for BW in con_R.b_factor.unique():\n",
    "            cont_R_BW = con_R[con_R.b_factor==BW]\n",
    "            for clu in cont_R_BW['Cluster_ID'].unique():\n",
    "                cont_R_BW_clu = cont_R_BW[cont_R_BW.Cluster_ID==clu]\n",
    "                for typec in cont_R_BW_clu['type'].unique():\n",
    "                    arr_reses = con_A[con_A.Cluster_ID==clu][con_A.type==typec]\n",
    "                    cont_R_BW_clu_type = cont_R_BW_clu[cont_R_BW_clu.type==typec]\n",
    "                    flag = 0\n",
    "                    for arr_res in arr_reses.res.unique():\n",
    "                        gpcr_res = (cont_R_BW_clu_type[cont_R_BW_clu_type.pdb_code == AT1_code].residue_number.iloc[0])\n",
    "                        gpcr_res_name = (cont_R_BW_clu_type[cont_R_BW_clu_type.pdb_code == AT1_code].residue_name.iloc[0])\n",
    "                        if(flag == 0):\n",
    "                            script+=f'''select init_res, {AT1_code}_{arr_code} and chain R and resi {gpcr_res}\\n'''\n",
    "                            flag = 1\n",
    "                        script+=f'''select init_res, {AT1_code}_{arr_code} and chain A and resi {arr_res} or init_res\\n'''\n",
    "                    script+=f'''\n",
    "                        show sticks, init_res\n",
    "                        h_add (ele n+o+s+se) and init_res\n",
    "                        contacts {AT1_code}_{arr_code} and chain A and init_res, {AT1_code}_{arr_code} and chain R and init_res, result=\"contacts_{AT1_code}_{arr_code}\", cutoff=3.1, bigcutoff=3.6\n",
    "                        label n. N & ! chain R and init_res, resi+resn\n",
    "                        label n. N & chain R and init_res, resi+resn+' %1.2f'%b\n",
    "                        set label_position,(0,1.5,4)\n",
    "                        show cartoon, {AT1_code}_{arr_code}\n",
    "                        set cartoon_transparency, 0.5\n",
    "                        orient init_res\n",
    "                        viewport 1024,768\n",
    "                        bg_color white\n",
    "                        set label_size, 25\n",
    "                        set label_font_id, 7\n",
    "                        move z,-3\n",
    "                        ray\n",
    "                        png ../../images/res_clusters/{typec}/{BW}_{AT1_code}_{arr_code}_{clu}.png\n",
    "                        hide all\n",
    "\n",
    "\n",
    "                        '''\n",
    "\n",
    "with open(f'../scripts/3_images/images_clu.pml', 'w') as f:\n",
    "            f.write(script)"
   ],
   "metadata": {
    "collapsed": false,
    "pycharm": {
     "name": "#%%\n"
    }
   }
  },
  {
   "cell_type": "code",
   "execution_count": 1,
   "outputs": [
    {
     "ename": "SyntaxError",
     "evalue": "f-string: empty expression not allowed (2823932505.py, line 60)",
     "output_type": "error",
     "traceback": [
      "\u001B[0;36m  Input \u001B[0;32mIn [1]\u001B[0;36m\u001B[0m\n\u001B[0;31m    '''\u001B[0m\n\u001B[0m       ^\u001B[0m\n\u001B[0;31mSyntaxError\u001B[0m\u001B[0;31m:\u001B[0m f-string: empty expression not allowed\n"
     ]
    }
   ],
   "source": [
    "# Отрисовка кластеров контактов после рекомендаций Саши\n",
    "script = f'''\n",
    "    reinitialize\n",
    "    preset.publication(selection='all')\n",
    "    '''\n",
    "\n",
    "for AT1_code in AT1:\n",
    "    for arr_code in arr:\n",
    "        script += f'''\n",
    "    load ../{aligned_cutted_arr_path}/{AT1_code}_{arr_code}.pdb, {AT1_code}_{arr_code}\n",
    "    alter chain T, chain='R'\n",
    "    util.cbag(selection='chain R')\n",
    "    util.cbak(selection='chain A')\n",
    "    util.cnc\n",
    "    '''\n",
    "        con_R=contacts_R[contacts_R.gpcr==AT1_code][contacts_R.arr==arr_code]\n",
    "        con_A=contacts_A[contacts_A.gpcr==AT1_code][contacts_A.arr==arr_code]\n",
    "        for BW in con_R.b_factor.unique():\n",
    "            cont_R_BW = con_R[con_R.b_factor==BW]\n",
    "            for clu in cont_R_BW['Cluster_ID'].unique():\n",
    "                cont_R_BW_clu = cont_R_BW[cont_R_BW.Cluster_ID==clu]\n",
    "                for typec in cont_R_BW_clu['type'].unique():\n",
    "                    arr_reses = con_A[con_A.Cluster_ID==clu][con_A.type==typec]\n",
    "                    cont_R_BW_clu_type = cont_R_BW_clu[cont_R_BW_clu.type==typec]\n",
    "                    flag = 0\n",
    "                    for arr_res in arr_reses.res.unique():\n",
    "                        gpcr_res = (cont_R_BW_clu_type[cont_R_BW_clu_type.pdb_code == AT1_code].residue_number.iloc[0])\n",
    "                        gpcr_res_name = (cont_R_BW_clu_type[cont_R_BW_clu_type.pdb_code == AT1_code].residue_name.iloc[0])\n",
    "                        if(flag == 0):\n",
    "                            script+=f'''select init_res, {AT1_code}_{arr_code} and chain R and resi {gpcr_res}\\n'''\n",
    "                            flag = 1\n",
    "                        script+=f'''select init_res, {AT1_code}_{arr_code} and chain A and resi {arr_res} or init_res\\n'''\n",
    "                    script+=f'''\n",
    "                        show sticks, init_res\n",
    "                        hide everything, (name C+N+O) and not resn PRO\n",
    "                        hide everything, (name C+O) and resn PRO\n",
    "                        contacts {AT1_code}_{arr_code} and chain A and init_res, {AT1_code}_{arr_code} and chain R and init_res, result=\"contacts_{AT1_code}_{arr_code}\", cutoff=3.1, bigcutoff=3.6\n",
    "                        label n. N & ! chain R and init_res, resi+resn\n",
    "                        label n. N & chain R and init_res, resi+resn+' %1.2f'%b\n",
    "                        set label_position,(0,1.5,4)\n",
    "                        show cartoon, {AT1_code}_{arr_code}\n",
    "                        set cartoon_transparency, 0.5\n",
    "                        orient init_res\n",
    "                        viewport 1024,768\n",
    "                        bg_color white\n",
    "                        set label_size, 25\n",
    "                        set label_font_id, 7\n",
    "                        move z,-5\n",
    "                        ray\n",
    "                        png ../../images/res_clusters/{typec}/{BW}_{AT1_code}_{arr_code}_{clu}.png\n",
    "                        hide all\n",
    "\n",
    "                        '''\n",
    "\n",
    "with open(f'../scripts/3_images/images_clu.pml', 'w') as f:\n",
    "            f.write(script)\n",
    "            # png ../../images/res_clusters/mutations_suggestions/.png"
   ],
   "metadata": {
    "collapsed": false,
    "pycharm": {
     "name": "#%%\n"
    }
   }
  },
  {
   "cell_type": "code",
   "execution_count": 75,
   "outputs": [
    {
     "name": "stderr",
     "output_type": "stream",
     "text": [
      "/tmp/ipykernel_2504299/626731503.py:9: UserWarning: Boolean Series key will be reindexed to match DataFrame index.\n",
      "  gpcr_arr_res = total[total.b_factor == ms.gpcr_orig_res_number[iter]][total.pdb_code == arr_code]['residue_number'].iloc[0]\n",
      "/tmp/ipykernel_2504299/626731503.py:26: UserWarning: Boolean Series key will be reindexed to match DataFrame index.\n",
      "  AT1_res = total[total.b_factor == ms.gpcr_orig_res_number[iter]][total.pdb_code == AT1_code]['residue_number'].iloc[0]\n"
     ]
    }
   ],
   "source": [
    "# отрисовка возможных мутаций\n",
    "for iter in range(ms.shape[0]):\n",
    "    script = f'''\n",
    "    reinitialize\n",
    "    preset.publication(selection='all')\n",
    "    '''\n",
    "    arr_code = ms.gpcr_orig_pdb[iter]\n",
    "    res_arr = ms.arr_res_number[iter]\n",
    "    gpcr_arr_res = total[total.b_factor == ms.gpcr_orig_res_number[iter]][total.pdb_code == arr_code]['residue_number'].iloc[0]\n",
    "    script += f'''\n",
    "    load ../{arr_path}/{arr_code}.pdb, {arr_code}\n",
    "    util.cbay chain A & {arr_code}\n",
    "    util.cbaw chain R & {arr_code}\n",
    "    # set cartoon_side_chain_helper, on\n",
    "    show cartoon, {arr_code}\n",
    "    select init_res, {arr_code} and chain A and (resi {res_arr})\n",
    "    select init_res, {arr_code} and chain R and resi {gpcr_arr_res} or init_res\n",
    "    '''\n",
    "    for AT1_code in AT1:\n",
    "        if(AT1_code in AT14):\n",
    "            color = 'k'\n",
    "        else:\n",
    "            color = 'c'\n",
    "        flag=1\n",
    "        try:\n",
    "            AT1_res = total[total.b_factor == ms.gpcr_orig_res_number[iter]][total.pdb_code == AT1_code]['residue_number'].iloc[0]\n",
    "        except:\n",
    "            flag = 0\n",
    "        if(flag==1):\n",
    "            script += f'''\n",
    "        load ../{aligned_cutted_arr_path}/{AT1_code}_{arr_code}.pdb, {AT1_code}_{arr_code}\n",
    "        alter chain T, chain='R'\n",
    "        remove {AT1_code}_{arr_code} and chain A\n",
    "        util.cba{color} chain R & {AT1_code}_{arr_code}\n",
    "        select init_res, {AT1_code}_{arr_code} and chain R and resi {AT1_res}  or init_res\n",
    "        '''\n",
    "    i='contact'\n",
    "    script+=f'''\n",
    "                        show sticks, init_res\n",
    "                        label n. CB & ! chain R and init_res, resi+resn\n",
    "                        label first (n. N & ! chain R and init_res), '{arr_code}'\n",
    "                        label (n. CA & chain R and init_res and {arr_code}) , resi+resn+' %1.2f'%b\n",
    "                        set label_color, grey20, (n. CA & chain R and init_res and {arr_code})\n",
    "                        label first (n. CA & chain R and init_res and ! {arr_code}) , resi+resn+' %1.2f'%b\n",
    "                        set label_color, violetpurple, first (n. CA & chain R and init_res and ! {arr_code})\n",
    "                        contacts chain R and init_res, chain A and init_res, result=\"contacts_{AT1_code}_{arr_code}\", cutoff=3.1, bigcutoff=3.6\n",
    "\n",
    "\n",
    "    # select {i}, resi {res_arr} and {arr_code} and ! chain R\n",
    "    # select {i}_round, {i} around 3.6 and {arr_code} and chain R\n",
    "    # select {i}_orig, {i}_round around 3.6 and {arr_code} and ! chain R\n",
    "    # select {i}_orig_res, byres {i}_round around 3.6\n",
    "    # label ({i}_round or {i}_orig) and ! (name C+CA+CB+CD+CZ+CG), name\n",
    "    # show lines, {i}_orig_res\n",
    "    # label (n. CA & chain R and {i}_orig_res and {arr_code}) , resi+resn+' %1.2f'%b\n",
    "    # set label_color, grey20, (n. CA & chain R and {i}_orig_res and {arr_code})\n",
    "    # label first (n. CA & chain R and {i}_orig_res and ! {arr_code}) , resi+resn+' %1.2f'%b\n",
    "    # set label_color, violetpurple, first (n. CA & chain R and {i}_orig_res and ! {arr_code})\n",
    "\n",
    "                        set label_position,(0,1.5,5)\n",
    "                        orient init_res\n",
    "                        set cartoon_transparency, 0.5\n",
    "                        viewport 1024,768\n",
    "                        bg_color white\n",
    "                        set label_size, 16\n",
    "                        set label_font_id, 7\n",
    "                        move z,-6\n",
    "    '''\n",
    "    with open(f'../scripts/4_mutations_2/{ms.gpcr_orig_res_number[iter]}_{ms.gpcr_orig_res_name[iter]}_{ms.AT1_res_name[iter]}.pml', 'w') as f:\n",
    "        f.write(script)\n",
    "        # png /home/kestr/AT1/images/mutations_suggestions/5.68_GLU_ALA.png"
   ],
   "metadata": {
    "collapsed": false,
    "pycharm": {
     "name": "#%%\n"
    }
   }
  }
 ],
 "metadata": {
  "kernelspec": {
   "display_name": "Python 3",
   "language": "python",
   "name": "python3"
  },
  "language_info": {
   "codemirror_mode": {
    "name": "ipython",
    "version": 2
   },
   "file_extension": ".py",
   "mimetype": "text/x-python",
   "name": "python",
   "nbconvert_exporter": "python",
   "pygments_lexer": "ipython2",
   "version": "2.7.6"
  }
 },
 "nbformat": 4,
 "nbformat_minor": 0
}
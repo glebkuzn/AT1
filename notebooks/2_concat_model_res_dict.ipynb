{
 "cells": [
  {
   "cell_type": "code",
   "execution_count": 1,
   "outputs": [],
   "source": [
    "import pandas as pd\n",
    "from biopandas.pdb import PandasPdb"
   ],
   "metadata": {
    "collapsed": false,
    "pycharm": {
     "name": "#%%\n"
    }
   }
  },
  {
   "cell_type": "code",
   "execution_count": 2,
   "outputs": [],
   "source": [
    "AT14 = ['4YAY','4ZUD']\n",
    "AT16 = ['6DO1','6OS0','6OS1','6OS2']\n",
    "arr = ['6TKO','6U1N','6UP7','6PWC']"
   ],
   "metadata": {
    "collapsed": false,
    "pycharm": {
     "name": "#%%\n"
    }
   }
  },
  {
   "cell_type": "code",
   "execution_count": 3,
   "metadata": {
    "collapsed": true
   },
   "outputs": [
    {
     "data": {
      "text/plain": "     b_factor residue_name  chain_id  residue_number  pdb_code\n162      6.28          PRO         3               3         3\n260     16.00          ASP         3               3         3\n327   1271.00          ILE         3               3         3\n326   1270.00          ILE         3               3         3\n315    188.00          ASN         3               3         3\n314    187.00          GLN         3               3         3\n313    186.00          SER         3               3         3\n328   1272.00          ARG         3               3         3\n259     15.00          SER         2               2         2\n256     14.00          ASN         2               2         2\n245      9.00          ASP         2               2         2\n246     10.00          GLY         2               2         2\n322    272.00          ARG         2               2         2\n321    271.00          ILE         2               2         2\n320    270.00          ILE         2               2         2\n244      8.59          LYS         2               2         2\n248     12.00          ILE         2               2         2\n255     13.00          LEU         2               2         2\n261     16.00          SER         2               2         2\n325    371.00          ARG         1               1         1\n324    370.00          ILE         1               1         1\n323    369.00          ILE         1               1         1\n319    227.00          ASP         1               1         1\n309    180.00          CYS         1               1         1\n292     45.39          ILE         1               1         1\n291     44.79          TYR         1               1         1\n290     44.18          ARG         1               1         1\n288     42.83          GLU         1               1         1\n287     42.80          VAL         1               1         1\n286     40.09          ASP         1               1         1\n285     39.92          VAL         1               1         1\n284     36.57          ALA         1               1         1\n283     35.61          TYR         1               1         1\n274     33.64          GLY         1               1         1\n273     32.03          PHE         1               1         1\n289     42.89          THR         1               1         1",
      "text/html": "<div>\n<style scoped>\n    .dataframe tbody tr th:only-of-type {\n        vertical-align: middle;\n    }\n\n    .dataframe tbody tr th {\n        vertical-align: top;\n    }\n\n    .dataframe thead th {\n        text-align: right;\n    }\n</style>\n<table border=\"1\" class=\"dataframe\">\n  <thead>\n    <tr style=\"text-align: right;\">\n      <th></th>\n      <th>b_factor</th>\n      <th>residue_name</th>\n      <th>chain_id</th>\n      <th>residue_number</th>\n      <th>pdb_code</th>\n    </tr>\n  </thead>\n  <tbody>\n    <tr>\n      <th>162</th>\n      <td>6.28</td>\n      <td>PRO</td>\n      <td>3</td>\n      <td>3</td>\n      <td>3</td>\n    </tr>\n    <tr>\n      <th>260</th>\n      <td>16.00</td>\n      <td>ASP</td>\n      <td>3</td>\n      <td>3</td>\n      <td>3</td>\n    </tr>\n    <tr>\n      <th>327</th>\n      <td>1271.00</td>\n      <td>ILE</td>\n      <td>3</td>\n      <td>3</td>\n      <td>3</td>\n    </tr>\n    <tr>\n      <th>326</th>\n      <td>1270.00</td>\n      <td>ILE</td>\n      <td>3</td>\n      <td>3</td>\n      <td>3</td>\n    </tr>\n    <tr>\n      <th>315</th>\n      <td>188.00</td>\n      <td>ASN</td>\n      <td>3</td>\n      <td>3</td>\n      <td>3</td>\n    </tr>\n    <tr>\n      <th>314</th>\n      <td>187.00</td>\n      <td>GLN</td>\n      <td>3</td>\n      <td>3</td>\n      <td>3</td>\n    </tr>\n    <tr>\n      <th>313</th>\n      <td>186.00</td>\n      <td>SER</td>\n      <td>3</td>\n      <td>3</td>\n      <td>3</td>\n    </tr>\n    <tr>\n      <th>328</th>\n      <td>1272.00</td>\n      <td>ARG</td>\n      <td>3</td>\n      <td>3</td>\n      <td>3</td>\n    </tr>\n    <tr>\n      <th>259</th>\n      <td>15.00</td>\n      <td>SER</td>\n      <td>2</td>\n      <td>2</td>\n      <td>2</td>\n    </tr>\n    <tr>\n      <th>256</th>\n      <td>14.00</td>\n      <td>ASN</td>\n      <td>2</td>\n      <td>2</td>\n      <td>2</td>\n    </tr>\n    <tr>\n      <th>245</th>\n      <td>9.00</td>\n      <td>ASP</td>\n      <td>2</td>\n      <td>2</td>\n      <td>2</td>\n    </tr>\n    <tr>\n      <th>246</th>\n      <td>10.00</td>\n      <td>GLY</td>\n      <td>2</td>\n      <td>2</td>\n      <td>2</td>\n    </tr>\n    <tr>\n      <th>322</th>\n      <td>272.00</td>\n      <td>ARG</td>\n      <td>2</td>\n      <td>2</td>\n      <td>2</td>\n    </tr>\n    <tr>\n      <th>321</th>\n      <td>271.00</td>\n      <td>ILE</td>\n      <td>2</td>\n      <td>2</td>\n      <td>2</td>\n    </tr>\n    <tr>\n      <th>320</th>\n      <td>270.00</td>\n      <td>ILE</td>\n      <td>2</td>\n      <td>2</td>\n      <td>2</td>\n    </tr>\n    <tr>\n      <th>244</th>\n      <td>8.59</td>\n      <td>LYS</td>\n      <td>2</td>\n      <td>2</td>\n      <td>2</td>\n    </tr>\n    <tr>\n      <th>248</th>\n      <td>12.00</td>\n      <td>ILE</td>\n      <td>2</td>\n      <td>2</td>\n      <td>2</td>\n    </tr>\n    <tr>\n      <th>255</th>\n      <td>13.00</td>\n      <td>LEU</td>\n      <td>2</td>\n      <td>2</td>\n      <td>2</td>\n    </tr>\n    <tr>\n      <th>261</th>\n      <td>16.00</td>\n      <td>SER</td>\n      <td>2</td>\n      <td>2</td>\n      <td>2</td>\n    </tr>\n    <tr>\n      <th>325</th>\n      <td>371.00</td>\n      <td>ARG</td>\n      <td>1</td>\n      <td>1</td>\n      <td>1</td>\n    </tr>\n    <tr>\n      <th>324</th>\n      <td>370.00</td>\n      <td>ILE</td>\n      <td>1</td>\n      <td>1</td>\n      <td>1</td>\n    </tr>\n    <tr>\n      <th>323</th>\n      <td>369.00</td>\n      <td>ILE</td>\n      <td>1</td>\n      <td>1</td>\n      <td>1</td>\n    </tr>\n    <tr>\n      <th>319</th>\n      <td>227.00</td>\n      <td>ASP</td>\n      <td>1</td>\n      <td>1</td>\n      <td>1</td>\n    </tr>\n    <tr>\n      <th>309</th>\n      <td>180.00</td>\n      <td>CYS</td>\n      <td>1</td>\n      <td>1</td>\n      <td>1</td>\n    </tr>\n    <tr>\n      <th>292</th>\n      <td>45.39</td>\n      <td>ILE</td>\n      <td>1</td>\n      <td>1</td>\n      <td>1</td>\n    </tr>\n    <tr>\n      <th>291</th>\n      <td>44.79</td>\n      <td>TYR</td>\n      <td>1</td>\n      <td>1</td>\n      <td>1</td>\n    </tr>\n    <tr>\n      <th>290</th>\n      <td>44.18</td>\n      <td>ARG</td>\n      <td>1</td>\n      <td>1</td>\n      <td>1</td>\n    </tr>\n    <tr>\n      <th>288</th>\n      <td>42.83</td>\n      <td>GLU</td>\n      <td>1</td>\n      <td>1</td>\n      <td>1</td>\n    </tr>\n    <tr>\n      <th>287</th>\n      <td>42.80</td>\n      <td>VAL</td>\n      <td>1</td>\n      <td>1</td>\n      <td>1</td>\n    </tr>\n    <tr>\n      <th>286</th>\n      <td>40.09</td>\n      <td>ASP</td>\n      <td>1</td>\n      <td>1</td>\n      <td>1</td>\n    </tr>\n    <tr>\n      <th>285</th>\n      <td>39.92</td>\n      <td>VAL</td>\n      <td>1</td>\n      <td>1</td>\n      <td>1</td>\n    </tr>\n    <tr>\n      <th>284</th>\n      <td>36.57</td>\n      <td>ALA</td>\n      <td>1</td>\n      <td>1</td>\n      <td>1</td>\n    </tr>\n    <tr>\n      <th>283</th>\n      <td>35.61</td>\n      <td>TYR</td>\n      <td>1</td>\n      <td>1</td>\n      <td>1</td>\n    </tr>\n    <tr>\n      <th>274</th>\n      <td>33.64</td>\n      <td>GLY</td>\n      <td>1</td>\n      <td>1</td>\n      <td>1</td>\n    </tr>\n    <tr>\n      <th>273</th>\n      <td>32.03</td>\n      <td>PHE</td>\n      <td>1</td>\n      <td>1</td>\n      <td>1</td>\n    </tr>\n    <tr>\n      <th>289</th>\n      <td>42.89</td>\n      <td>THR</td>\n      <td>1</td>\n      <td>1</td>\n      <td>1</td>\n    </tr>\n  </tbody>\n</table>\n</div>"
     },
     "execution_count": 3,
     "metadata": {},
     "output_type": "execute_result"
    }
   ],
   "source": [
    "total = pd.DataFrame()\n",
    "for pdb_code in AT14+AT16:\n",
    "    ppdb=PandasPdb().read_pdb(f'/home/kestr/AT1/pdb/1_BW/AT1/{pdb_code}_GPCRDB.pdb')\n",
    "    atoms = ppdb.df['ATOM']\n",
    "    part = atoms.groupby(by = ['chain_id','residue_number']).first().reset_index()[['chain_id','residue_number','residue_name','b_factor']]\n",
    "    part['pdb_code'] = pdb_code\n",
    "    total = pd.concat([total,part])\n",
    "# для общности переименуем b_factor, для тех, у кого нет BW на номер остатка\n",
    "total.loc[(total.b_factor>46) ,'b_factor']= total[total.b_factor>46]['residue_number']\n",
    "# проверка того, что по BW отличаются у разных моделей только эти остатки и остатки на краю спиралей\n",
    "intersect2 = total[total.chain_id=='T'].groupby(['b_factor','residue_name']).count().reset_index()\n",
    "intersect2[intersect2.pdb_code<4].sort_values(by = 'pdb_code', ascending=False)"
   ]
  },
  {
   "cell_type": "code",
   "execution_count": 4,
   "outputs": [
    {
     "data": {
      "text/plain": "                chain_id  residue_name  b_factor  pdb_code\nresidue_number                                            \n339                    3             3         3         3\n331                    3             3         3         3\n332                    3             3         3         3\n333                    3             3         3         3\n334                    3             3         3         3\n335                    3             3         3         3\n336                    3             3         3         3\n337                    3             3         3         3\n338                    3             3         3         3\n7                      3             3         3         3\n340                    3             3         3         3\n356                    3             3         3         3\n358                    2             2         2         2\n359                    2             2         2         2\n6                      2             2         2         2\n357                    2             2         2         2\n360                    1             1         1         1\n361                    1             1         1         1\n362                    1             1         1         1\n363                    1             1         1         1\n364                    1             1         1         1",
      "text/html": "<div>\n<style scoped>\n    .dataframe tbody tr th:only-of-type {\n        vertical-align: middle;\n    }\n\n    .dataframe tbody tr th {\n        vertical-align: top;\n    }\n\n    .dataframe thead th {\n        text-align: right;\n    }\n</style>\n<table border=\"1\" class=\"dataframe\">\n  <thead>\n    <tr style=\"text-align: right;\">\n      <th></th>\n      <th>chain_id</th>\n      <th>residue_name</th>\n      <th>b_factor</th>\n      <th>pdb_code</th>\n    </tr>\n    <tr>\n      <th>residue_number</th>\n      <th></th>\n      <th></th>\n      <th></th>\n      <th></th>\n    </tr>\n  </thead>\n  <tbody>\n    <tr>\n      <th>339</th>\n      <td>3</td>\n      <td>3</td>\n      <td>3</td>\n      <td>3</td>\n    </tr>\n    <tr>\n      <th>331</th>\n      <td>3</td>\n      <td>3</td>\n      <td>3</td>\n      <td>3</td>\n    </tr>\n    <tr>\n      <th>332</th>\n      <td>3</td>\n      <td>3</td>\n      <td>3</td>\n      <td>3</td>\n    </tr>\n    <tr>\n      <th>333</th>\n      <td>3</td>\n      <td>3</td>\n      <td>3</td>\n      <td>3</td>\n    </tr>\n    <tr>\n      <th>334</th>\n      <td>3</td>\n      <td>3</td>\n      <td>3</td>\n      <td>3</td>\n    </tr>\n    <tr>\n      <th>335</th>\n      <td>3</td>\n      <td>3</td>\n      <td>3</td>\n      <td>3</td>\n    </tr>\n    <tr>\n      <th>336</th>\n      <td>3</td>\n      <td>3</td>\n      <td>3</td>\n      <td>3</td>\n    </tr>\n    <tr>\n      <th>337</th>\n      <td>3</td>\n      <td>3</td>\n      <td>3</td>\n      <td>3</td>\n    </tr>\n    <tr>\n      <th>338</th>\n      <td>3</td>\n      <td>3</td>\n      <td>3</td>\n      <td>3</td>\n    </tr>\n    <tr>\n      <th>7</th>\n      <td>3</td>\n      <td>3</td>\n      <td>3</td>\n      <td>3</td>\n    </tr>\n    <tr>\n      <th>340</th>\n      <td>3</td>\n      <td>3</td>\n      <td>3</td>\n      <td>3</td>\n    </tr>\n    <tr>\n      <th>356</th>\n      <td>3</td>\n      <td>3</td>\n      <td>3</td>\n      <td>3</td>\n    </tr>\n    <tr>\n      <th>358</th>\n      <td>2</td>\n      <td>2</td>\n      <td>2</td>\n      <td>2</td>\n    </tr>\n    <tr>\n      <th>359</th>\n      <td>2</td>\n      <td>2</td>\n      <td>2</td>\n      <td>2</td>\n    </tr>\n    <tr>\n      <th>6</th>\n      <td>2</td>\n      <td>2</td>\n      <td>2</td>\n      <td>2</td>\n    </tr>\n    <tr>\n      <th>357</th>\n      <td>2</td>\n      <td>2</td>\n      <td>2</td>\n      <td>2</td>\n    </tr>\n    <tr>\n      <th>360</th>\n      <td>1</td>\n      <td>1</td>\n      <td>1</td>\n      <td>1</td>\n    </tr>\n    <tr>\n      <th>361</th>\n      <td>1</td>\n      <td>1</td>\n      <td>1</td>\n      <td>1</td>\n    </tr>\n    <tr>\n      <th>362</th>\n      <td>1</td>\n      <td>1</td>\n      <td>1</td>\n      <td>1</td>\n    </tr>\n    <tr>\n      <th>363</th>\n      <td>1</td>\n      <td>1</td>\n      <td>1</td>\n      <td>1</td>\n    </tr>\n    <tr>\n      <th>364</th>\n      <td>1</td>\n      <td>1</td>\n      <td>1</td>\n      <td>1</td>\n    </tr>\n  </tbody>\n</table>\n</div>"
     },
     "execution_count": 4,
     "metadata": {},
     "output_type": "execute_result"
    }
   ],
   "source": [
    "for pdb_code in arr:\n",
    "    ppdb=PandasPdb().read_pdb(f'/home/kestr/AT1/pdb/1_BW/arr/{pdb_code}.pdb')\n",
    "    atoms = ppdb.df['ATOM']\n",
    "    part = atoms.groupby(by = ['chain_id','residue_number']).first().reset_index()[['chain_id','residue_number','residue_name','b_factor']]\n",
    "    part['pdb_code'] = pdb_code\n",
    "    total = pd.concat([total,part])\n",
    "# проверка того, что у аррестинов номера отличаются только у крайних остатков\n",
    "intersect = total[total.chain_id=='A'].groupby(by='residue_number').count()\n",
    "intersect[intersect.pdb_code<4].sort_values(by = 'pdb_code', ascending=False)"
   ],
   "metadata": {
    "collapsed": false,
    "pycharm": {
     "name": "#%%\n"
    }
   }
  },
  {
   "cell_type": "code",
   "execution_count": 5,
   "outputs": [],
   "source": [
    "total['chain_id']=total['chain_id'].replace({'T':'R'})"
   ],
   "metadata": {
    "collapsed": false,
    "pycharm": {
     "name": "#%%\n"
    }
   }
  },
  {
   "cell_type": "code",
   "execution_count": 6,
   "outputs": [],
   "source": [
    "total.to_csv('/home/kestr/AT1/data/model_res_dict.csv', index=False)"
   ],
   "metadata": {
    "collapsed": false,
    "pycharm": {
     "name": "#%%\n"
    }
   }
  }
 ],
 "metadata": {
  "kernelspec": {
   "display_name": "Python 3",
   "language": "python",
   "name": "python3"
  },
  "language_info": {
   "codemirror_mode": {
    "name": "ipython",
    "version": 2
   },
   "file_extension": ".py",
   "mimetype": "text/x-python",
   "name": "python",
   "nbconvert_exporter": "python",
   "pygments_lexer": "ipython2",
   "version": "2.7.6"
  }
 },
 "nbformat": 4,
 "nbformat_minor": 0
}
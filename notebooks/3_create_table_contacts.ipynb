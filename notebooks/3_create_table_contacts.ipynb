{
 "cells": [
  {
   "cell_type": "code",
   "execution_count": 148,
   "metadata": {
    "collapsed": true
   },
   "outputs": [],
   "source": [
    "import pandas as pd\n",
    "import numpy as np"
   ]
  },
  {
   "cell_type": "code",
   "execution_count": 149,
   "outputs": [],
   "source": [
    "# выводит таблицу в таком формате: столбцы - имя gpcr, строки - BW этих gpsr(или номер остатка, для тех, у кого нет BW), а значения - минимальный номер остатка аррестина.\n",
    "def table(repulsion,total):\n",
    "    repulsion_R = (repulsion[repulsion.chain == 'R']\n",
    "                   .merge(total[total.chain_id == 'R'], left_on=['gpcr','res'],right_on=['pdb_code','residue_number'])\n",
    "                   )\n",
    "    repulsion_A = (repulsion[repulsion.chain == 'A']\n",
    "                   .merge(total[total.chain_id == 'A'], left_on=['arr','res'],right_on=['pdb_code','residue_number']))\n",
    "    merged_repulsion = repulsion_R.merge(repulsion_A,on=['gpcr','arr','Cluster_ID'])\n",
    "    return merged_repulsion.pivot_table(values='res_y',index='b_factor_x',columns='gpcr',aggfunc=np.min).astype('Int32').astype('str').replace('<NA>', '')"
   ],
   "metadata": {
    "collapsed": false,
    "pycharm": {
     "name": "#%%\n"
    }
   }
  },
  {
   "cell_type": "code",
   "execution_count": 150,
   "outputs": [],
   "source": [
    "AT14 = ['4YAY','4ZUD']\n",
    "AT16 = ['6DO1','6OS0','6OS1','6OS2']\n",
    "arr = ['6TKO','6U1N','6UP7','6PWC']"
   ],
   "metadata": {
    "collapsed": false,
    "pycharm": {
     "name": "#%%\n"
    }
   }
  },
  {
   "cell_type": "code",
   "execution_count": 151,
   "outputs": [],
   "source": [
    "hyd_aci = pd.read_csv('/home/kestr/AT1/data/hydrogen_contacts.csv')\n",
    "repulsion = pd.read_csv('/home/kestr/AT1/data/charge_repulsion.csv')\n",
    "other_contacts = pd.read_csv('/home/kestr/AT1/data/contacts_ion_and_hydrophobic.csv')\n",
    "total = pd.read_csv('/home/kestr/AT1/data/model_res_dict.csv')\n",
    "hydrophob = other_contacts[other_contacts.type=='PH'].drop(columns=['type'])\n",
    "ionic = other_contacts[other_contacts.type=='IO'].drop(columns=['type'])"
   ],
   "metadata": {
    "collapsed": false,
    "pycharm": {
     "name": "#%%\n"
    }
   }
  },
  {
   "cell_type": "code",
   "execution_count": 152,
   "outputs": [
    {
     "data": {
      "text/plain": "gpcr       4YAY 4ZUD 6DO1 6OS0 6OS1 6OS2 6TKO 6U1N 6UP7\nb_factor_x                                             \n2.36                                                 65\n2.37         66   66   66   66   66   66   66          \n2.39                                       66          \n3.50         69   67   66   67   69   69   69          \n4.38        135  285                      285          \n4.39                                      134          \n5.68                                       77          \n6.28                        76   76   76               \n6.29                                                 71\n6.30         67   67                                 71\n6.31         67   69                                   \n6.32         68   67                                   \n6.33         69   69                                   \n6.34         69   69                                   \n6.35         70   70                                   \n6.36         71                                        \n7.56                   68   68   68   68               \n8.47                             69   69               \n8.48                                  71               \n8.49                                                285\n8.52        133       134            134               \n12.49                                      67          \n12.51       135  136  136  136  136  136  136          \n34.50       249  249             63   63               \n34.51       245        63   63  243  243               \n34.52       286       247  248  249  249       249     \n34.53       130                                        \n34.54       285        65   65   65   65   63          \n34.55       132       285                              \n34.56       133                                        \n34.57       285        65   65   65   65               \n96.38                                               285\n123.62                                               76",
      "text/html": "<div>\n<style scoped>\n    .dataframe tbody tr th:only-of-type {\n        vertical-align: middle;\n    }\n\n    .dataframe tbody tr th {\n        vertical-align: top;\n    }\n\n    .dataframe thead th {\n        text-align: right;\n    }\n</style>\n<table border=\"1\" class=\"dataframe\">\n  <thead>\n    <tr style=\"text-align: right;\">\n      <th>gpcr</th>\n      <th>4YAY</th>\n      <th>4ZUD</th>\n      <th>6DO1</th>\n      <th>6OS0</th>\n      <th>6OS1</th>\n      <th>6OS2</th>\n      <th>6TKO</th>\n      <th>6U1N</th>\n      <th>6UP7</th>\n    </tr>\n    <tr>\n      <th>b_factor_x</th>\n      <th></th>\n      <th></th>\n      <th></th>\n      <th></th>\n      <th></th>\n      <th></th>\n      <th></th>\n      <th></th>\n      <th></th>\n    </tr>\n  </thead>\n  <tbody>\n    <tr>\n      <th>2.36</th>\n      <td></td>\n      <td></td>\n      <td></td>\n      <td></td>\n      <td></td>\n      <td></td>\n      <td></td>\n      <td></td>\n      <td>65</td>\n    </tr>\n    <tr>\n      <th>2.37</th>\n      <td>66</td>\n      <td>66</td>\n      <td>66</td>\n      <td>66</td>\n      <td>66</td>\n      <td>66</td>\n      <td>66</td>\n      <td></td>\n      <td></td>\n    </tr>\n    <tr>\n      <th>2.39</th>\n      <td></td>\n      <td></td>\n      <td></td>\n      <td></td>\n      <td></td>\n      <td></td>\n      <td>66</td>\n      <td></td>\n      <td></td>\n    </tr>\n    <tr>\n      <th>3.50</th>\n      <td>69</td>\n      <td>67</td>\n      <td>66</td>\n      <td>67</td>\n      <td>69</td>\n      <td>69</td>\n      <td>69</td>\n      <td></td>\n      <td></td>\n    </tr>\n    <tr>\n      <th>4.38</th>\n      <td>135</td>\n      <td>285</td>\n      <td></td>\n      <td></td>\n      <td></td>\n      <td></td>\n      <td>285</td>\n      <td></td>\n      <td></td>\n    </tr>\n    <tr>\n      <th>4.39</th>\n      <td></td>\n      <td></td>\n      <td></td>\n      <td></td>\n      <td></td>\n      <td></td>\n      <td>134</td>\n      <td></td>\n      <td></td>\n    </tr>\n    <tr>\n      <th>5.68</th>\n      <td></td>\n      <td></td>\n      <td></td>\n      <td></td>\n      <td></td>\n      <td></td>\n      <td>77</td>\n      <td></td>\n      <td></td>\n    </tr>\n    <tr>\n      <th>6.28</th>\n      <td></td>\n      <td></td>\n      <td></td>\n      <td>76</td>\n      <td>76</td>\n      <td>76</td>\n      <td></td>\n      <td></td>\n      <td></td>\n    </tr>\n    <tr>\n      <th>6.29</th>\n      <td></td>\n      <td></td>\n      <td></td>\n      <td></td>\n      <td></td>\n      <td></td>\n      <td></td>\n      <td></td>\n      <td>71</td>\n    </tr>\n    <tr>\n      <th>6.30</th>\n      <td>67</td>\n      <td>67</td>\n      <td></td>\n      <td></td>\n      <td></td>\n      <td></td>\n      <td></td>\n      <td></td>\n      <td>71</td>\n    </tr>\n    <tr>\n      <th>6.31</th>\n      <td>67</td>\n      <td>69</td>\n      <td></td>\n      <td></td>\n      <td></td>\n      <td></td>\n      <td></td>\n      <td></td>\n      <td></td>\n    </tr>\n    <tr>\n      <th>6.32</th>\n      <td>68</td>\n      <td>67</td>\n      <td></td>\n      <td></td>\n      <td></td>\n      <td></td>\n      <td></td>\n      <td></td>\n      <td></td>\n    </tr>\n    <tr>\n      <th>6.33</th>\n      <td>69</td>\n      <td>69</td>\n      <td></td>\n      <td></td>\n      <td></td>\n      <td></td>\n      <td></td>\n      <td></td>\n      <td></td>\n    </tr>\n    <tr>\n      <th>6.34</th>\n      <td>69</td>\n      <td>69</td>\n      <td></td>\n      <td></td>\n      <td></td>\n      <td></td>\n      <td></td>\n      <td></td>\n      <td></td>\n    </tr>\n    <tr>\n      <th>6.35</th>\n      <td>70</td>\n      <td>70</td>\n      <td></td>\n      <td></td>\n      <td></td>\n      <td></td>\n      <td></td>\n      <td></td>\n      <td></td>\n    </tr>\n    <tr>\n      <th>6.36</th>\n      <td>71</td>\n      <td></td>\n      <td></td>\n      <td></td>\n      <td></td>\n      <td></td>\n      <td></td>\n      <td></td>\n      <td></td>\n    </tr>\n    <tr>\n      <th>7.56</th>\n      <td></td>\n      <td></td>\n      <td>68</td>\n      <td>68</td>\n      <td>68</td>\n      <td>68</td>\n      <td></td>\n      <td></td>\n      <td></td>\n    </tr>\n    <tr>\n      <th>8.47</th>\n      <td></td>\n      <td></td>\n      <td></td>\n      <td></td>\n      <td>69</td>\n      <td>69</td>\n      <td></td>\n      <td></td>\n      <td></td>\n    </tr>\n    <tr>\n      <th>8.48</th>\n      <td></td>\n      <td></td>\n      <td></td>\n      <td></td>\n      <td></td>\n      <td>71</td>\n      <td></td>\n      <td></td>\n      <td></td>\n    </tr>\n    <tr>\n      <th>8.49</th>\n      <td></td>\n      <td></td>\n      <td></td>\n      <td></td>\n      <td></td>\n      <td></td>\n      <td></td>\n      <td></td>\n      <td>285</td>\n    </tr>\n    <tr>\n      <th>8.52</th>\n      <td>133</td>\n      <td></td>\n      <td>134</td>\n      <td></td>\n      <td></td>\n      <td>134</td>\n      <td></td>\n      <td></td>\n      <td></td>\n    </tr>\n    <tr>\n      <th>12.49</th>\n      <td></td>\n      <td></td>\n      <td></td>\n      <td></td>\n      <td></td>\n      <td></td>\n      <td>67</td>\n      <td></td>\n      <td></td>\n    </tr>\n    <tr>\n      <th>12.51</th>\n      <td>135</td>\n      <td>136</td>\n      <td>136</td>\n      <td>136</td>\n      <td>136</td>\n      <td>136</td>\n      <td>136</td>\n      <td></td>\n      <td></td>\n    </tr>\n    <tr>\n      <th>34.50</th>\n      <td>249</td>\n      <td>249</td>\n      <td></td>\n      <td></td>\n      <td>63</td>\n      <td>63</td>\n      <td></td>\n      <td></td>\n      <td></td>\n    </tr>\n    <tr>\n      <th>34.51</th>\n      <td>245</td>\n      <td></td>\n      <td>63</td>\n      <td>63</td>\n      <td>243</td>\n      <td>243</td>\n      <td></td>\n      <td></td>\n      <td></td>\n    </tr>\n    <tr>\n      <th>34.52</th>\n      <td>286</td>\n      <td></td>\n      <td>247</td>\n      <td>248</td>\n      <td>249</td>\n      <td>249</td>\n      <td></td>\n      <td>249</td>\n      <td></td>\n    </tr>\n    <tr>\n      <th>34.53</th>\n      <td>130</td>\n      <td></td>\n      <td></td>\n      <td></td>\n      <td></td>\n      <td></td>\n      <td></td>\n      <td></td>\n      <td></td>\n    </tr>\n    <tr>\n      <th>34.54</th>\n      <td>285</td>\n      <td></td>\n      <td>65</td>\n      <td>65</td>\n      <td>65</td>\n      <td>65</td>\n      <td>63</td>\n      <td></td>\n      <td></td>\n    </tr>\n    <tr>\n      <th>34.55</th>\n      <td>132</td>\n      <td></td>\n      <td>285</td>\n      <td></td>\n      <td></td>\n      <td></td>\n      <td></td>\n      <td></td>\n      <td></td>\n    </tr>\n    <tr>\n      <th>34.56</th>\n      <td>133</td>\n      <td></td>\n      <td></td>\n      <td></td>\n      <td></td>\n      <td></td>\n      <td></td>\n      <td></td>\n      <td></td>\n    </tr>\n    <tr>\n      <th>34.57</th>\n      <td>285</td>\n      <td></td>\n      <td>65</td>\n      <td>65</td>\n      <td>65</td>\n      <td>65</td>\n      <td></td>\n      <td></td>\n      <td></td>\n    </tr>\n    <tr>\n      <th>96.38</th>\n      <td></td>\n      <td></td>\n      <td></td>\n      <td></td>\n      <td></td>\n      <td></td>\n      <td></td>\n      <td></td>\n      <td>285</td>\n    </tr>\n    <tr>\n      <th>123.62</th>\n      <td></td>\n      <td></td>\n      <td></td>\n      <td></td>\n      <td></td>\n      <td></td>\n      <td></td>\n      <td></td>\n      <td>76</td>\n    </tr>\n  </tbody>\n</table>\n</div>"
     },
     "execution_count": 152,
     "metadata": {},
     "output_type": "execute_result"
    }
   ],
   "source": [
    "# водородные связи\n",
    "table(hyd_aci,total)"
   ],
   "metadata": {
    "collapsed": false,
    "pycharm": {
     "name": "#%%\n"
    }
   }
  },
  {
   "cell_type": "code",
   "execution_count": 155,
   "outputs": [
    {
     "data": {
      "text/plain": "gpcr       4YAY 4ZUD 6DO1 6OS0 6OS1 6OS2\nb_factor_x                              \n3.50         70   70        70   70   70\n6.30         67   68                    \n6.31         68   68                    \n6.32         68   68                    \n6.33         69   69                    \n6.34         71   71                    \n6.35         71   71                    \n6.36         70   70                    \n7.56                        69          \n8.48                                  70\n34.53       246                         \n34.54       285        65   65   65   65\n34.55       285                         ",
      "text/html": "<div>\n<style scoped>\n    .dataframe tbody tr th:only-of-type {\n        vertical-align: middle;\n    }\n\n    .dataframe tbody tr th {\n        vertical-align: top;\n    }\n\n    .dataframe thead th {\n        text-align: right;\n    }\n</style>\n<table border=\"1\" class=\"dataframe\">\n  <thead>\n    <tr style=\"text-align: right;\">\n      <th>gpcr</th>\n      <th>4YAY</th>\n      <th>4ZUD</th>\n      <th>6DO1</th>\n      <th>6OS0</th>\n      <th>6OS1</th>\n      <th>6OS2</th>\n    </tr>\n    <tr>\n      <th>b_factor_x</th>\n      <th></th>\n      <th></th>\n      <th></th>\n      <th></th>\n      <th></th>\n      <th></th>\n    </tr>\n  </thead>\n  <tbody>\n    <tr>\n      <th>3.50</th>\n      <td>70</td>\n      <td>70</td>\n      <td></td>\n      <td>70</td>\n      <td>70</td>\n      <td>70</td>\n    </tr>\n    <tr>\n      <th>6.30</th>\n      <td>67</td>\n      <td>68</td>\n      <td></td>\n      <td></td>\n      <td></td>\n      <td></td>\n    </tr>\n    <tr>\n      <th>6.31</th>\n      <td>68</td>\n      <td>68</td>\n      <td></td>\n      <td></td>\n      <td></td>\n      <td></td>\n    </tr>\n    <tr>\n      <th>6.32</th>\n      <td>68</td>\n      <td>68</td>\n      <td></td>\n      <td></td>\n      <td></td>\n      <td></td>\n    </tr>\n    <tr>\n      <th>6.33</th>\n      <td>69</td>\n      <td>69</td>\n      <td></td>\n      <td></td>\n      <td></td>\n      <td></td>\n    </tr>\n    <tr>\n      <th>6.34</th>\n      <td>71</td>\n      <td>71</td>\n      <td></td>\n      <td></td>\n      <td></td>\n      <td></td>\n    </tr>\n    <tr>\n      <th>6.35</th>\n      <td>71</td>\n      <td>71</td>\n      <td></td>\n      <td></td>\n      <td></td>\n      <td></td>\n    </tr>\n    <tr>\n      <th>6.36</th>\n      <td>70</td>\n      <td>70</td>\n      <td></td>\n      <td></td>\n      <td></td>\n      <td></td>\n    </tr>\n    <tr>\n      <th>7.56</th>\n      <td></td>\n      <td></td>\n      <td></td>\n      <td>69</td>\n      <td></td>\n      <td></td>\n    </tr>\n    <tr>\n      <th>8.48</th>\n      <td></td>\n      <td></td>\n      <td></td>\n      <td></td>\n      <td></td>\n      <td>70</td>\n    </tr>\n    <tr>\n      <th>34.53</th>\n      <td>246</td>\n      <td></td>\n      <td></td>\n      <td></td>\n      <td></td>\n      <td></td>\n    </tr>\n    <tr>\n      <th>34.54</th>\n      <td>285</td>\n      <td></td>\n      <td>65</td>\n      <td>65</td>\n      <td>65</td>\n      <td>65</td>\n    </tr>\n    <tr>\n      <th>34.55</th>\n      <td>285</td>\n      <td></td>\n      <td></td>\n      <td></td>\n      <td></td>\n      <td></td>\n    </tr>\n  </tbody>\n</table>\n</div>"
     },
     "execution_count": 155,
     "metadata": {},
     "output_type": "execute_result"
    }
   ],
   "source": [
    "# стерическое отталкивание\n",
    "table(repulsion,total)"
   ],
   "metadata": {
    "collapsed": false,
    "pycharm": {
     "name": "#%%\n"
    }
   }
  },
  {
   "cell_type": "code",
   "execution_count": 156,
   "outputs": [
    {
     "data": {
      "text/plain": "gpcr       4YAY 4ZUD 6DO1 6OS0 6OS1 6OS2 6PWC 6TKO 6U1N 6UP7\nb_factor_x                                                  \n1.40                                            70          \n1.43                                            70          \n2.43                        70   70   70                    \n2.64                                            70          \n2.67                                            70          \n3.23                                            71          \n3.46                             70   70                    \n3.54         68   68   68   68   70   68                  68\n3.55                             68                         \n5.61         68   73   70   70   68   68                    \n5.64                                            71          \n5.65         68   68   68   68   68   68                    \n5.66                                            71          \n5.67                                            71          \n5.69                                       73               \n5.70                                            71          \n6.27                                            71          \n6.28                                            71          \n6.33         70   70   68   68   68   68                    \n6.36         70   70   70   68   68   68                    \n6.37         70   70   70   68   68   68                    \n6.40                   70        68   70                    \n7.56         70        68   68   68   68                    \n34.51                                               129     \n45.50                                           71          ",
      "text/html": "<div>\n<style scoped>\n    .dataframe tbody tr th:only-of-type {\n        vertical-align: middle;\n    }\n\n    .dataframe tbody tr th {\n        vertical-align: top;\n    }\n\n    .dataframe thead th {\n        text-align: right;\n    }\n</style>\n<table border=\"1\" class=\"dataframe\">\n  <thead>\n    <tr style=\"text-align: right;\">\n      <th>gpcr</th>\n      <th>4YAY</th>\n      <th>4ZUD</th>\n      <th>6DO1</th>\n      <th>6OS0</th>\n      <th>6OS1</th>\n      <th>6OS2</th>\n      <th>6PWC</th>\n      <th>6TKO</th>\n      <th>6U1N</th>\n      <th>6UP7</th>\n    </tr>\n    <tr>\n      <th>b_factor_x</th>\n      <th></th>\n      <th></th>\n      <th></th>\n      <th></th>\n      <th></th>\n      <th></th>\n      <th></th>\n      <th></th>\n      <th></th>\n      <th></th>\n    </tr>\n  </thead>\n  <tbody>\n    <tr>\n      <th>1.40</th>\n      <td></td>\n      <td></td>\n      <td></td>\n      <td></td>\n      <td></td>\n      <td></td>\n      <td></td>\n      <td>70</td>\n      <td></td>\n      <td></td>\n    </tr>\n    <tr>\n      <th>1.43</th>\n      <td></td>\n      <td></td>\n      <td></td>\n      <td></td>\n      <td></td>\n      <td></td>\n      <td></td>\n      <td>70</td>\n      <td></td>\n      <td></td>\n    </tr>\n    <tr>\n      <th>2.43</th>\n      <td></td>\n      <td></td>\n      <td></td>\n      <td>70</td>\n      <td>70</td>\n      <td>70</td>\n      <td></td>\n      <td></td>\n      <td></td>\n      <td></td>\n    </tr>\n    <tr>\n      <th>2.64</th>\n      <td></td>\n      <td></td>\n      <td></td>\n      <td></td>\n      <td></td>\n      <td></td>\n      <td></td>\n      <td>70</td>\n      <td></td>\n      <td></td>\n    </tr>\n    <tr>\n      <th>2.67</th>\n      <td></td>\n      <td></td>\n      <td></td>\n      <td></td>\n      <td></td>\n      <td></td>\n      <td></td>\n      <td>70</td>\n      <td></td>\n      <td></td>\n    </tr>\n    <tr>\n      <th>3.23</th>\n      <td></td>\n      <td></td>\n      <td></td>\n      <td></td>\n      <td></td>\n      <td></td>\n      <td></td>\n      <td>71</td>\n      <td></td>\n      <td></td>\n    </tr>\n    <tr>\n      <th>3.46</th>\n      <td></td>\n      <td></td>\n      <td></td>\n      <td></td>\n      <td>70</td>\n      <td>70</td>\n      <td></td>\n      <td></td>\n      <td></td>\n      <td></td>\n    </tr>\n    <tr>\n      <th>3.54</th>\n      <td>68</td>\n      <td>68</td>\n      <td>68</td>\n      <td>68</td>\n      <td>70</td>\n      <td>68</td>\n      <td></td>\n      <td></td>\n      <td></td>\n      <td>68</td>\n    </tr>\n    <tr>\n      <th>3.55</th>\n      <td></td>\n      <td></td>\n      <td></td>\n      <td></td>\n      <td>68</td>\n      <td></td>\n      <td></td>\n      <td></td>\n      <td></td>\n      <td></td>\n    </tr>\n    <tr>\n      <th>5.61</th>\n      <td>68</td>\n      <td>73</td>\n      <td>70</td>\n      <td>70</td>\n      <td>68</td>\n      <td>68</td>\n      <td></td>\n      <td></td>\n      <td></td>\n      <td></td>\n    </tr>\n    <tr>\n      <th>5.64</th>\n      <td></td>\n      <td></td>\n      <td></td>\n      <td></td>\n      <td></td>\n      <td></td>\n      <td></td>\n      <td>71</td>\n      <td></td>\n      <td></td>\n    </tr>\n    <tr>\n      <th>5.65</th>\n      <td>68</td>\n      <td>68</td>\n      <td>68</td>\n      <td>68</td>\n      <td>68</td>\n      <td>68</td>\n      <td></td>\n      <td></td>\n      <td></td>\n      <td></td>\n    </tr>\n    <tr>\n      <th>5.66</th>\n      <td></td>\n      <td></td>\n      <td></td>\n      <td></td>\n      <td></td>\n      <td></td>\n      <td></td>\n      <td>71</td>\n      <td></td>\n      <td></td>\n    </tr>\n    <tr>\n      <th>5.67</th>\n      <td></td>\n      <td></td>\n      <td></td>\n      <td></td>\n      <td></td>\n      <td></td>\n      <td></td>\n      <td>71</td>\n      <td></td>\n      <td></td>\n    </tr>\n    <tr>\n      <th>5.69</th>\n      <td></td>\n      <td></td>\n      <td></td>\n      <td></td>\n      <td></td>\n      <td></td>\n      <td>73</td>\n      <td></td>\n      <td></td>\n      <td></td>\n    </tr>\n    <tr>\n      <th>5.70</th>\n      <td></td>\n      <td></td>\n      <td></td>\n      <td></td>\n      <td></td>\n      <td></td>\n      <td></td>\n      <td>71</td>\n      <td></td>\n      <td></td>\n    </tr>\n    <tr>\n      <th>6.27</th>\n      <td></td>\n      <td></td>\n      <td></td>\n      <td></td>\n      <td></td>\n      <td></td>\n      <td></td>\n      <td>71</td>\n      <td></td>\n      <td></td>\n    </tr>\n    <tr>\n      <th>6.28</th>\n      <td></td>\n      <td></td>\n      <td></td>\n      <td></td>\n      <td></td>\n      <td></td>\n      <td></td>\n      <td>71</td>\n      <td></td>\n      <td></td>\n    </tr>\n    <tr>\n      <th>6.33</th>\n      <td>70</td>\n      <td>70</td>\n      <td>68</td>\n      <td>68</td>\n      <td>68</td>\n      <td>68</td>\n      <td></td>\n      <td></td>\n      <td></td>\n      <td></td>\n    </tr>\n    <tr>\n      <th>6.36</th>\n      <td>70</td>\n      <td>70</td>\n      <td>70</td>\n      <td>68</td>\n      <td>68</td>\n      <td>68</td>\n      <td></td>\n      <td></td>\n      <td></td>\n      <td></td>\n    </tr>\n    <tr>\n      <th>6.37</th>\n      <td>70</td>\n      <td>70</td>\n      <td>70</td>\n      <td>68</td>\n      <td>68</td>\n      <td>68</td>\n      <td></td>\n      <td></td>\n      <td></td>\n      <td></td>\n    </tr>\n    <tr>\n      <th>6.40</th>\n      <td></td>\n      <td></td>\n      <td>70</td>\n      <td></td>\n      <td>68</td>\n      <td>70</td>\n      <td></td>\n      <td></td>\n      <td></td>\n      <td></td>\n    </tr>\n    <tr>\n      <th>7.56</th>\n      <td>70</td>\n      <td></td>\n      <td>68</td>\n      <td>68</td>\n      <td>68</td>\n      <td>68</td>\n      <td></td>\n      <td></td>\n      <td></td>\n      <td></td>\n    </tr>\n    <tr>\n      <th>34.51</th>\n      <td></td>\n      <td></td>\n      <td></td>\n      <td></td>\n      <td></td>\n      <td></td>\n      <td></td>\n      <td></td>\n      <td>129</td>\n      <td></td>\n    </tr>\n    <tr>\n      <th>45.50</th>\n      <td></td>\n      <td></td>\n      <td></td>\n      <td></td>\n      <td></td>\n      <td></td>\n      <td></td>\n      <td>71</td>\n      <td></td>\n      <td></td>\n    </tr>\n  </tbody>\n</table>\n</div>"
     },
     "execution_count": 156,
     "metadata": {},
     "output_type": "execute_result"
    }
   ],
   "source": [
    "# гидрофобное притяжение\n",
    "table(hydrophob,total).dropna(subset=AT14+AT16,how='all').dropna(subset=arr,how='all')"
   ],
   "metadata": {
    "collapsed": false,
    "pycharm": {
     "name": "#%%\n"
    }
   }
  },
  {
   "cell_type": "code",
   "execution_count": 157,
   "outputs": [
    {
     "data": {
      "text/plain": "gpcr       4ZUD 6OS0 6OS1 6OS2 6TKO\nb_factor_x                         \n3.50         69   69   69   69   69\n12.49                            67",
      "text/html": "<div>\n<style scoped>\n    .dataframe tbody tr th:only-of-type {\n        vertical-align: middle;\n    }\n\n    .dataframe tbody tr th {\n        vertical-align: top;\n    }\n\n    .dataframe thead th {\n        text-align: right;\n    }\n</style>\n<table border=\"1\" class=\"dataframe\">\n  <thead>\n    <tr style=\"text-align: right;\">\n      <th>gpcr</th>\n      <th>4ZUD</th>\n      <th>6OS0</th>\n      <th>6OS1</th>\n      <th>6OS2</th>\n      <th>6TKO</th>\n    </tr>\n    <tr>\n      <th>b_factor_x</th>\n      <th></th>\n      <th></th>\n      <th></th>\n      <th></th>\n      <th></th>\n    </tr>\n  </thead>\n  <tbody>\n    <tr>\n      <th>3.50</th>\n      <td>69</td>\n      <td>69</td>\n      <td>69</td>\n      <td>69</td>\n      <td>69</td>\n    </tr>\n    <tr>\n      <th>12.49</th>\n      <td></td>\n      <td></td>\n      <td></td>\n      <td></td>\n      <td>67</td>\n    </tr>\n  </tbody>\n</table>\n</div>"
     },
     "execution_count": 157,
     "metadata": {},
     "output_type": "execute_result"
    }
   ],
   "source": [
    "# ионное притяжение\n",
    "table(ionic,total)"
   ],
   "metadata": {
    "collapsed": false,
    "pycharm": {
     "name": "#%%\n"
    }
   }
  }
 ],
 "metadata": {
  "kernelspec": {
   "display_name": "Python 3",
   "language": "python",
   "name": "python3"
  },
  "language_info": {
   "codemirror_mode": {
    "name": "ipython",
    "version": 2
   },
   "file_extension": ".py",
   "mimetype": "text/x-python",
   "name": "python",
   "nbconvert_exporter": "python",
   "pygments_lexer": "ipython2",
   "version": "2.7.6"
  }
 },
 "nbformat": 4,
 "nbformat_minor": 0
}
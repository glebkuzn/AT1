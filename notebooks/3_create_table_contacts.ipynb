{
 "cells": [
  {
   "cell_type": "code",
   "execution_count": 2,
   "metadata": {
    "collapsed": true
   },
   "outputs": [],
   "source": [
    "import pandas as pd\n",
    "import numpy as np"
   ]
  },
  {
   "cell_type": "code",
   "execution_count": 20,
   "outputs": [],
   "source": [
    "# выводит таблицу в таком формате: столбцы - имя gpcr, строки - BW этих gpsr(или номер остатка, для тех, у кого нет BW), а значения - минимальный номер остатка аррестина.\n",
    "def table(repulsion,total):\n",
    "    repulsion_R = (repulsion[repulsion.chain == 'R']\n",
    "                   .merge(total[total.chain_id == 'R'], left_on=['gpcr','res'],right_on=['pdb_code','residue_number'])\n",
    "                   )\n",
    "    repulsion_A = (repulsion[repulsion.chain == 'A']\n",
    "                   .merge(total[total.chain_id == 'A'], left_on=['arr','res'],right_on=['pdb_code','residue_number']))\n",
    "    merged_repulsion = repulsion_R.merge(repulsion_A,on=['gpcr','arr','Cluster_ID'])\n",
    "    total_a=total[total['chain_id']=='A'][['residue_number','residue_name']].drop_duplicates().rename(columns={'residue_number':'res_y','residue_name':'arr_residue_name'})\n",
    "    b_factor_x = merged_repulsion.pivot_table(values='b_factor_x',index='res_y',columns='gpcr',aggfunc=np.min).astype('Float32').astype('str').replace('<NA>', '').reset_index().merge(total_a,on='res_y').rename(columns={'res_y':'arr_residue_number'})\n",
    "    residue_name_x = merged_repulsion.pivot_table(values='residue_name_x',index='res_y',columns='gpcr',aggfunc=np.min).astype('str').replace('nan', '').reset_index().merge(total_a,on='res_y').add_suffix('_name').rename(columns={'res_y_name':'arr_residue_number'}).drop(columns=['arr_residue_name_name'])\n",
    "    dist_x = merged_repulsion.pivot_table(values='dist_x',index='res_y',columns='gpcr',aggfunc=np.min).astype('Float32').round(2).astype('str').replace('<NA>', '').reset_index().merge(total_a,on='res_y').add_suffix('_dist').rename(columns={'res_y_dist':'arr_residue_number'}).drop(columns=['arr_residue_name_dist'])\n",
    "    merged = b_factor_x .merge(residue_name_x, on = 'arr_residue_number') .merge(dist_x, on = 'arr_residue_number')\n",
    "    return  merged.reindex(sorted(merged.columns), axis=1).drop_duplicates(subset='arr_residue_number').reset_index(drop=True)"
   ],
   "metadata": {
    "collapsed": false,
    "pycharm": {
     "name": "#%%\n"
    }
   }
  },
  {
   "cell_type": "code",
   "execution_count": 23,
   "outputs": [],
   "source": [
    "def table_simple(repulsion,total):\n",
    "    repulsion_R = (repulsion[repulsion.chain == 'R']\n",
    "                   .merge(total[total.chain_id == 'R'], left_on=['gpcr','res'],right_on=['pdb_code','residue_number'])\n",
    "                   )\n",
    "    repulsion_A = (repulsion[repulsion.chain == 'A']\n",
    "                   .merge(total[total.chain_id == 'A'], left_on=['arr','res'],right_on=['pdb_code','residue_number']))\n",
    "    merged_repulsion = repulsion_R.merge(repulsion_A,on=['gpcr','arr','Cluster_ID'])\n",
    "    total_a=total[total['chain_id']=='A'][['residue_number','residue_name']].drop_duplicates().rename(columns={'residue_number':'res_y','residue_name':'arr_residue_name'})\n",
    "    b_factor_x = merged_repulsion.pivot_table(values='b_factor_x',index='res_y',columns='gpcr',aggfunc=np.min).astype('Float32').astype('str').replace('<NA>', '').reset_index().merge(total_a,on='res_y').rename(columns={'res_y':'arr_residue_number'})\n",
    "    residue_name_x = merged_repulsion.pivot_table(values='residue_name_x',index='res_y',columns='gpcr',aggfunc=np.min).astype('str').replace('nan', '').reset_index().merge(total_a,on='res_y').add_suffix('_name').rename(columns={'res_y_name':'arr_residue_number'}).drop(columns=['arr_residue_name_name'])\n",
    "    merged = b_factor_x .merge(residue_name_x, on = 'arr_residue_number')\n",
    "    return  merged.reindex(sorted(merged.columns), axis=1).drop_duplicates(subset='arr_residue_number').reset_index(drop=True)"
   ],
   "metadata": {
    "collapsed": false,
    "pycharm": {
     "name": "#%%\n"
    }
   }
  },
  {
   "cell_type": "code",
   "execution_count": 10,
   "outputs": [],
   "source": [
    "AT14 = ['4YAY','4ZUD']\n",
    "AT16 = ['6DO1','6OS0','6OS1','6OS2']\n",
    "AT1 = AT14 + AT16\n",
    "arr = ['6TKO','6U1N','6UP7','6PWC']"
   ],
   "metadata": {
    "collapsed": false,
    "pycharm": {
     "name": "#%%\n"
    }
   }
  },
  {
   "cell_type": "code",
   "execution_count": 11,
   "outputs": [],
   "source": [
    "hyd_aci = pd.read_csv('/home/kestr/AT1/data/hydrogen_contacts.csv')\n",
    "repulsion = pd.read_csv('/home/kestr/AT1/data/charge_repulsion.csv')\n",
    "other_contacts = pd.read_csv('/home/kestr/AT1/data/contacts_ion_and_hydrophobic.csv')\n",
    "total = pd.read_csv('/home/kestr/AT1/data/model_res_dict.csv')\n",
    "hydrophob = other_contacts[other_contacts.type=='PH'].drop(columns=['type'])\n",
    "ionic = other_contacts[other_contacts.type=='IO'].drop(columns=['type'])"
   ],
   "metadata": {
    "collapsed": false,
    "pycharm": {
     "name": "#%%\n"
    }
   }
  },
  {
   "cell_type": "code",
   "execution_count": 31,
   "outputs": [
    {
     "data": {
      "text/plain": "     chain_id  residue_number residue_name  b_factor pdb_code\n118         R             130          ILE      3.54     4YAY\n406         R             130          ILE      3.54     4ZUD\n680         R             130          ILE      3.54     6DO1\n980         R             130          ILE      3.54     6OS0\n1278        R             130          ILE      3.54     6OS1\n1580        R             130          ILE      3.54     6OS2\n2208        R             143          ILE      3.54     6TKO\n2851        R             125          VAL      3.54     6U1N\n3479        R             170          ILE      3.54     6UP7\n4152        R             170          ILE      3.54     6PWC",
      "text/html": "<div>\n<style scoped>\n    .dataframe tbody tr th:only-of-type {\n        vertical-align: middle;\n    }\n\n    .dataframe tbody tr th {\n        vertical-align: top;\n    }\n\n    .dataframe thead th {\n        text-align: right;\n    }\n</style>\n<table border=\"1\" class=\"dataframe\">\n  <thead>\n    <tr style=\"text-align: right;\">\n      <th></th>\n      <th>chain_id</th>\n      <th>residue_number</th>\n      <th>residue_name</th>\n      <th>b_factor</th>\n      <th>pdb_code</th>\n    </tr>\n  </thead>\n  <tbody>\n    <tr>\n      <th>118</th>\n      <td>R</td>\n      <td>130</td>\n      <td>ILE</td>\n      <td>3.54</td>\n      <td>4YAY</td>\n    </tr>\n    <tr>\n      <th>406</th>\n      <td>R</td>\n      <td>130</td>\n      <td>ILE</td>\n      <td>3.54</td>\n      <td>4ZUD</td>\n    </tr>\n    <tr>\n      <th>680</th>\n      <td>R</td>\n      <td>130</td>\n      <td>ILE</td>\n      <td>3.54</td>\n      <td>6DO1</td>\n    </tr>\n    <tr>\n      <th>980</th>\n      <td>R</td>\n      <td>130</td>\n      <td>ILE</td>\n      <td>3.54</td>\n      <td>6OS0</td>\n    </tr>\n    <tr>\n      <th>1278</th>\n      <td>R</td>\n      <td>130</td>\n      <td>ILE</td>\n      <td>3.54</td>\n      <td>6OS1</td>\n    </tr>\n    <tr>\n      <th>1580</th>\n      <td>R</td>\n      <td>130</td>\n      <td>ILE</td>\n      <td>3.54</td>\n      <td>6OS2</td>\n    </tr>\n    <tr>\n      <th>2208</th>\n      <td>R</td>\n      <td>143</td>\n      <td>ILE</td>\n      <td>3.54</td>\n      <td>6TKO</td>\n    </tr>\n    <tr>\n      <th>2851</th>\n      <td>R</td>\n      <td>125</td>\n      <td>VAL</td>\n      <td>3.54</td>\n      <td>6U1N</td>\n    </tr>\n    <tr>\n      <th>3479</th>\n      <td>R</td>\n      <td>170</td>\n      <td>ILE</td>\n      <td>3.54</td>\n      <td>6UP7</td>\n    </tr>\n    <tr>\n      <th>4152</th>\n      <td>R</td>\n      <td>170</td>\n      <td>ILE</td>\n      <td>3.54</td>\n      <td>6PWC</td>\n    </tr>\n  </tbody>\n</table>\n</div>"
     },
     "execution_count": 31,
     "metadata": {},
     "output_type": "execute_result"
    }
   ],
   "source": [
    "total.query('b_factor == 3.54')"
   ],
   "metadata": {
    "collapsed": false,
    "pycharm": {
     "name": "#%%\n"
    }
   }
  },
  {
   "cell_type": "code",
   "execution_count": 24,
   "outputs": [
    {
     "data": {
      "text/plain": "     4YAY 4YAY_name   4ZUD 4ZUD_name   6DO1 6DO1_name   6OS0 6OS0_name   6OS1  \\\n0                                     34.51       MET  34.51       MET   34.5   \n1                                     34.54       ARG  34.54       ARG  34.54   \n2    2.37       THR   2.37       THR   2.37       ARG   2.37       THR   2.37   \n3     6.3       ASN    3.5       ARG                     3.5       ARG          \n4     6.3       ASN    3.5       ARG   7.56       LEU   7.56       LEU   7.56   \n5     3.5       ARG    3.5       ARG    3.5       ARG    3.5       ARG    3.5   \n6     3.5       ARG    3.5       ARG    3.5       ARG    3.5       ARG          \n7     3.5       ARG    6.3       ASN                     3.5       ARG          \n8    6.31       ASP   6.31       ASP                                            \n9    6.31       ASP    6.3       ASN                                            \n10   6.31       ASP   6.31       ASP                                            \n11                                                      6.28       PRO   6.28   \n12                                                                              \n13                                                      6.28       PRO   6.28   \n14  34.53       SER                                                             \n15  34.53       LEU                                                             \n16   8.52       ARG                                                             \n17   8.52       ARG                    8.52       ARG                           \n18   4.38       ARG                                                             \n19  12.51       LYS  12.51       LYS  12.51       LYS  12.51       LYS  12.51   \n20                                                                      34.51   \n21  34.53       SER                   34.51       MET                   34.51   \n22  34.51       MET                   34.51       MET  34.51       MET  34.51   \n23  34.53       SER                                                             \n24  34.53       SER                   34.52       LYS                           \n25                                    34.52       LYS  34.52       LYS          \n26   34.5       PRO   34.5       PRO  34.52       LYS  34.52       LYS  34.52   \n27  12.51       LYS                   12.51       LYS                           \n28  34.56       ARG                                                             \n29   4.38       ARG   4.38       THR  34.54       ARG  34.54       ARG  34.54   \n30  34.52       ARG                                                             \n\n   6OS1_name   6OS2 6OS2_name   6TKO 6TKO_name   6U1N 6U1N_name    6UP7  \\\n0        PRO   34.5       PRO  34.54       GLN                            \n1        ARG  34.54       ARG  34.54       GLN                     2.36   \n2        THR   2.37       THR   2.37       THR                            \n3                              12.49       ARG                            \n4        LEU   7.56       LEU                                             \n5        ARG    3.5       ARG    3.5       ARG                            \n6                                                                         \n7              8.48       LYS                                      6.29   \n8                                                                         \n9                                                                         \n10                                                                        \n11       PRO   6.28       PRO                                    123.62   \n12                              5.68       GLN                            \n13       PRO   6.28       PRO                                             \n14                                                                        \n15                                                                        \n16                                                                        \n17             8.52       ARG   4.39       ARG                            \n18                                                                        \n19       LYS  12.51       LYS   4.39       ARG                            \n20       MET  34.51       MET                                             \n21       MET  34.51       MET                                             \n22       MET  34.51       MET                                             \n23                                                                        \n24                                                                        \n25                                                                        \n26       LYS  34.52       LYS                   34.52       THR           \n27                                                                        \n28                                                                        \n29       ARG  34.54       ARG   4.38       GLN                     8.49   \n30                                                                        \n\n   6UP7_name arr_residue_name  arr_residue_number  \n0                         TYR                  63  \n1        GLN              ARG                  65  \n2                         GLU                  66  \n3                         ASP                  67  \n4                         CYS                  68  \n5                         ASP                  69  \n6                         VAL                  70  \n7        ALA              LEU                  71  \n8                         GLY                  72  \n9                         LEU                  73  \n10                        THR                  74  \n11       SER              ARG                  76  \n12                        LYS                  77  \n13                        ASP                  78  \n14                        GLN                 130  \n15                        GLY                 132  \n16                        PRO                 133  \n17                        GLU                 134  \n18                        ASP                 135  \n19                        THR                 136  \n20                        LEU                 243  \n21                        PHE                 244  \n22                        ASN                 245  \n23                        THR                 246  \n24                        ALA                 247  \n25                        GLN                 248  \n26                        TYR                 249  \n27                        LYS                 250  \n28                        GLU                 283  \n29       ASN              ARG                 285  \n30                        GLY                 286  ",
      "text/html": "<div>\n<style scoped>\n    .dataframe tbody tr th:only-of-type {\n        vertical-align: middle;\n    }\n\n    .dataframe tbody tr th {\n        vertical-align: top;\n    }\n\n    .dataframe thead th {\n        text-align: right;\n    }\n</style>\n<table border=\"1\" class=\"dataframe\">\n  <thead>\n    <tr style=\"text-align: right;\">\n      <th></th>\n      <th>4YAY</th>\n      <th>4YAY_name</th>\n      <th>4ZUD</th>\n      <th>4ZUD_name</th>\n      <th>6DO1</th>\n      <th>6DO1_name</th>\n      <th>6OS0</th>\n      <th>6OS0_name</th>\n      <th>6OS1</th>\n      <th>6OS1_name</th>\n      <th>6OS2</th>\n      <th>6OS2_name</th>\n      <th>6TKO</th>\n      <th>6TKO_name</th>\n      <th>6U1N</th>\n      <th>6U1N_name</th>\n      <th>6UP7</th>\n      <th>6UP7_name</th>\n      <th>arr_residue_name</th>\n      <th>arr_residue_number</th>\n    </tr>\n  </thead>\n  <tbody>\n    <tr>\n      <th>0</th>\n      <td></td>\n      <td></td>\n      <td></td>\n      <td></td>\n      <td>34.51</td>\n      <td>MET</td>\n      <td>34.51</td>\n      <td>MET</td>\n      <td>34.5</td>\n      <td>PRO</td>\n      <td>34.5</td>\n      <td>PRO</td>\n      <td>34.54</td>\n      <td>GLN</td>\n      <td></td>\n      <td></td>\n      <td></td>\n      <td></td>\n      <td>TYR</td>\n      <td>63</td>\n    </tr>\n    <tr>\n      <th>1</th>\n      <td></td>\n      <td></td>\n      <td></td>\n      <td></td>\n      <td>34.54</td>\n      <td>ARG</td>\n      <td>34.54</td>\n      <td>ARG</td>\n      <td>34.54</td>\n      <td>ARG</td>\n      <td>34.54</td>\n      <td>ARG</td>\n      <td>34.54</td>\n      <td>GLN</td>\n      <td></td>\n      <td></td>\n      <td>2.36</td>\n      <td>GLN</td>\n      <td>ARG</td>\n      <td>65</td>\n    </tr>\n    <tr>\n      <th>2</th>\n      <td>2.37</td>\n      <td>THR</td>\n      <td>2.37</td>\n      <td>THR</td>\n      <td>2.37</td>\n      <td>ARG</td>\n      <td>2.37</td>\n      <td>THR</td>\n      <td>2.37</td>\n      <td>THR</td>\n      <td>2.37</td>\n      <td>THR</td>\n      <td>2.37</td>\n      <td>THR</td>\n      <td></td>\n      <td></td>\n      <td></td>\n      <td></td>\n      <td>GLU</td>\n      <td>66</td>\n    </tr>\n    <tr>\n      <th>3</th>\n      <td>6.3</td>\n      <td>ASN</td>\n      <td>3.5</td>\n      <td>ARG</td>\n      <td></td>\n      <td></td>\n      <td>3.5</td>\n      <td>ARG</td>\n      <td></td>\n      <td></td>\n      <td></td>\n      <td></td>\n      <td>12.49</td>\n      <td>ARG</td>\n      <td></td>\n      <td></td>\n      <td></td>\n      <td></td>\n      <td>ASP</td>\n      <td>67</td>\n    </tr>\n    <tr>\n      <th>4</th>\n      <td>6.3</td>\n      <td>ASN</td>\n      <td>3.5</td>\n      <td>ARG</td>\n      <td>7.56</td>\n      <td>LEU</td>\n      <td>7.56</td>\n      <td>LEU</td>\n      <td>7.56</td>\n      <td>LEU</td>\n      <td>7.56</td>\n      <td>LEU</td>\n      <td></td>\n      <td></td>\n      <td></td>\n      <td></td>\n      <td></td>\n      <td></td>\n      <td>CYS</td>\n      <td>68</td>\n    </tr>\n    <tr>\n      <th>5</th>\n      <td>3.5</td>\n      <td>ARG</td>\n      <td>3.5</td>\n      <td>ARG</td>\n      <td>3.5</td>\n      <td>ARG</td>\n      <td>3.5</td>\n      <td>ARG</td>\n      <td>3.5</td>\n      <td>ARG</td>\n      <td>3.5</td>\n      <td>ARG</td>\n      <td>3.5</td>\n      <td>ARG</td>\n      <td></td>\n      <td></td>\n      <td></td>\n      <td></td>\n      <td>ASP</td>\n      <td>69</td>\n    </tr>\n    <tr>\n      <th>6</th>\n      <td>3.5</td>\n      <td>ARG</td>\n      <td>3.5</td>\n      <td>ARG</td>\n      <td>3.5</td>\n      <td>ARG</td>\n      <td>3.5</td>\n      <td>ARG</td>\n      <td></td>\n      <td></td>\n      <td></td>\n      <td></td>\n      <td></td>\n      <td></td>\n      <td></td>\n      <td></td>\n      <td></td>\n      <td></td>\n      <td>VAL</td>\n      <td>70</td>\n    </tr>\n    <tr>\n      <th>7</th>\n      <td>3.5</td>\n      <td>ARG</td>\n      <td>6.3</td>\n      <td>ASN</td>\n      <td></td>\n      <td></td>\n      <td>3.5</td>\n      <td>ARG</td>\n      <td></td>\n      <td></td>\n      <td>8.48</td>\n      <td>LYS</td>\n      <td></td>\n      <td></td>\n      <td></td>\n      <td></td>\n      <td>6.29</td>\n      <td>ALA</td>\n      <td>LEU</td>\n      <td>71</td>\n    </tr>\n    <tr>\n      <th>8</th>\n      <td>6.31</td>\n      <td>ASP</td>\n      <td>6.31</td>\n      <td>ASP</td>\n      <td></td>\n      <td></td>\n      <td></td>\n      <td></td>\n      <td></td>\n      <td></td>\n      <td></td>\n      <td></td>\n      <td></td>\n      <td></td>\n      <td></td>\n      <td></td>\n      <td></td>\n      <td></td>\n      <td>GLY</td>\n      <td>72</td>\n    </tr>\n    <tr>\n      <th>9</th>\n      <td>6.31</td>\n      <td>ASP</td>\n      <td>6.3</td>\n      <td>ASN</td>\n      <td></td>\n      <td></td>\n      <td></td>\n      <td></td>\n      <td></td>\n      <td></td>\n      <td></td>\n      <td></td>\n      <td></td>\n      <td></td>\n      <td></td>\n      <td></td>\n      <td></td>\n      <td></td>\n      <td>LEU</td>\n      <td>73</td>\n    </tr>\n    <tr>\n      <th>10</th>\n      <td>6.31</td>\n      <td>ASP</td>\n      <td>6.31</td>\n      <td>ASP</td>\n      <td></td>\n      <td></td>\n      <td></td>\n      <td></td>\n      <td></td>\n      <td></td>\n      <td></td>\n      <td></td>\n      <td></td>\n      <td></td>\n      <td></td>\n      <td></td>\n      <td></td>\n      <td></td>\n      <td>THR</td>\n      <td>74</td>\n    </tr>\n    <tr>\n      <th>11</th>\n      <td></td>\n      <td></td>\n      <td></td>\n      <td></td>\n      <td></td>\n      <td></td>\n      <td>6.28</td>\n      <td>PRO</td>\n      <td>6.28</td>\n      <td>PRO</td>\n      <td>6.28</td>\n      <td>PRO</td>\n      <td></td>\n      <td></td>\n      <td></td>\n      <td></td>\n      <td>123.62</td>\n      <td>SER</td>\n      <td>ARG</td>\n      <td>76</td>\n    </tr>\n    <tr>\n      <th>12</th>\n      <td></td>\n      <td></td>\n      <td></td>\n      <td></td>\n      <td></td>\n      <td></td>\n      <td></td>\n      <td></td>\n      <td></td>\n      <td></td>\n      <td></td>\n      <td></td>\n      <td>5.68</td>\n      <td>GLN</td>\n      <td></td>\n      <td></td>\n      <td></td>\n      <td></td>\n      <td>LYS</td>\n      <td>77</td>\n    </tr>\n    <tr>\n      <th>13</th>\n      <td></td>\n      <td></td>\n      <td></td>\n      <td></td>\n      <td></td>\n      <td></td>\n      <td>6.28</td>\n      <td>PRO</td>\n      <td>6.28</td>\n      <td>PRO</td>\n      <td>6.28</td>\n      <td>PRO</td>\n      <td></td>\n      <td></td>\n      <td></td>\n      <td></td>\n      <td></td>\n      <td></td>\n      <td>ASP</td>\n      <td>78</td>\n    </tr>\n    <tr>\n      <th>14</th>\n      <td>34.53</td>\n      <td>SER</td>\n      <td></td>\n      <td></td>\n      <td></td>\n      <td></td>\n      <td></td>\n      <td></td>\n      <td></td>\n      <td></td>\n      <td></td>\n      <td></td>\n      <td></td>\n      <td></td>\n      <td></td>\n      <td></td>\n      <td></td>\n      <td></td>\n      <td>GLN</td>\n      <td>130</td>\n    </tr>\n    <tr>\n      <th>15</th>\n      <td>34.53</td>\n      <td>LEU</td>\n      <td></td>\n      <td></td>\n      <td></td>\n      <td></td>\n      <td></td>\n      <td></td>\n      <td></td>\n      <td></td>\n      <td></td>\n      <td></td>\n      <td></td>\n      <td></td>\n      <td></td>\n      <td></td>\n      <td></td>\n      <td></td>\n      <td>GLY</td>\n      <td>132</td>\n    </tr>\n    <tr>\n      <th>16</th>\n      <td>8.52</td>\n      <td>ARG</td>\n      <td></td>\n      <td></td>\n      <td></td>\n      <td></td>\n      <td></td>\n      <td></td>\n      <td></td>\n      <td></td>\n      <td></td>\n      <td></td>\n      <td></td>\n      <td></td>\n      <td></td>\n      <td></td>\n      <td></td>\n      <td></td>\n      <td>PRO</td>\n      <td>133</td>\n    </tr>\n    <tr>\n      <th>17</th>\n      <td>8.52</td>\n      <td>ARG</td>\n      <td></td>\n      <td></td>\n      <td>8.52</td>\n      <td>ARG</td>\n      <td></td>\n      <td></td>\n      <td></td>\n      <td></td>\n      <td>8.52</td>\n      <td>ARG</td>\n      <td>4.39</td>\n      <td>ARG</td>\n      <td></td>\n      <td></td>\n      <td></td>\n      <td></td>\n      <td>GLU</td>\n      <td>134</td>\n    </tr>\n    <tr>\n      <th>18</th>\n      <td>4.38</td>\n      <td>ARG</td>\n      <td></td>\n      <td></td>\n      <td></td>\n      <td></td>\n      <td></td>\n      <td></td>\n      <td></td>\n      <td></td>\n      <td></td>\n      <td></td>\n      <td></td>\n      <td></td>\n      <td></td>\n      <td></td>\n      <td></td>\n      <td></td>\n      <td>ASP</td>\n      <td>135</td>\n    </tr>\n    <tr>\n      <th>19</th>\n      <td>12.51</td>\n      <td>LYS</td>\n      <td>12.51</td>\n      <td>LYS</td>\n      <td>12.51</td>\n      <td>LYS</td>\n      <td>12.51</td>\n      <td>LYS</td>\n      <td>12.51</td>\n      <td>LYS</td>\n      <td>12.51</td>\n      <td>LYS</td>\n      <td>4.39</td>\n      <td>ARG</td>\n      <td></td>\n      <td></td>\n      <td></td>\n      <td></td>\n      <td>THR</td>\n      <td>136</td>\n    </tr>\n    <tr>\n      <th>20</th>\n      <td></td>\n      <td></td>\n      <td></td>\n      <td></td>\n      <td></td>\n      <td></td>\n      <td></td>\n      <td></td>\n      <td>34.51</td>\n      <td>MET</td>\n      <td>34.51</td>\n      <td>MET</td>\n      <td></td>\n      <td></td>\n      <td></td>\n      <td></td>\n      <td></td>\n      <td></td>\n      <td>LEU</td>\n      <td>243</td>\n    </tr>\n    <tr>\n      <th>21</th>\n      <td>34.53</td>\n      <td>SER</td>\n      <td></td>\n      <td></td>\n      <td>34.51</td>\n      <td>MET</td>\n      <td></td>\n      <td></td>\n      <td>34.51</td>\n      <td>MET</td>\n      <td>34.51</td>\n      <td>MET</td>\n      <td></td>\n      <td></td>\n      <td></td>\n      <td></td>\n      <td></td>\n      <td></td>\n      <td>PHE</td>\n      <td>244</td>\n    </tr>\n    <tr>\n      <th>22</th>\n      <td>34.51</td>\n      <td>MET</td>\n      <td></td>\n      <td></td>\n      <td>34.51</td>\n      <td>MET</td>\n      <td>34.51</td>\n      <td>MET</td>\n      <td>34.51</td>\n      <td>MET</td>\n      <td>34.51</td>\n      <td>MET</td>\n      <td></td>\n      <td></td>\n      <td></td>\n      <td></td>\n      <td></td>\n      <td></td>\n      <td>ASN</td>\n      <td>245</td>\n    </tr>\n    <tr>\n      <th>23</th>\n      <td>34.53</td>\n      <td>SER</td>\n      <td></td>\n      <td></td>\n      <td></td>\n      <td></td>\n      <td></td>\n      <td></td>\n      <td></td>\n      <td></td>\n      <td></td>\n      <td></td>\n      <td></td>\n      <td></td>\n      <td></td>\n      <td></td>\n      <td></td>\n      <td></td>\n      <td>THR</td>\n      <td>246</td>\n    </tr>\n    <tr>\n      <th>24</th>\n      <td>34.53</td>\n      <td>SER</td>\n      <td></td>\n      <td></td>\n      <td>34.52</td>\n      <td>LYS</td>\n      <td></td>\n      <td></td>\n      <td></td>\n      <td></td>\n      <td></td>\n      <td></td>\n      <td></td>\n      <td></td>\n      <td></td>\n      <td></td>\n      <td></td>\n      <td></td>\n      <td>ALA</td>\n      <td>247</td>\n    </tr>\n    <tr>\n      <th>25</th>\n      <td></td>\n      <td></td>\n      <td></td>\n      <td></td>\n      <td>34.52</td>\n      <td>LYS</td>\n      <td>34.52</td>\n      <td>LYS</td>\n      <td></td>\n      <td></td>\n      <td></td>\n      <td></td>\n      <td></td>\n      <td></td>\n      <td></td>\n      <td></td>\n      <td></td>\n      <td></td>\n      <td>GLN</td>\n      <td>248</td>\n    </tr>\n    <tr>\n      <th>26</th>\n      <td>34.5</td>\n      <td>PRO</td>\n      <td>34.5</td>\n      <td>PRO</td>\n      <td>34.52</td>\n      <td>LYS</td>\n      <td>34.52</td>\n      <td>LYS</td>\n      <td>34.52</td>\n      <td>LYS</td>\n      <td>34.52</td>\n      <td>LYS</td>\n      <td></td>\n      <td></td>\n      <td>34.52</td>\n      <td>THR</td>\n      <td></td>\n      <td></td>\n      <td>TYR</td>\n      <td>249</td>\n    </tr>\n    <tr>\n      <th>27</th>\n      <td>12.51</td>\n      <td>LYS</td>\n      <td></td>\n      <td></td>\n      <td>12.51</td>\n      <td>LYS</td>\n      <td></td>\n      <td></td>\n      <td></td>\n      <td></td>\n      <td></td>\n      <td></td>\n      <td></td>\n      <td></td>\n      <td></td>\n      <td></td>\n      <td></td>\n      <td></td>\n      <td>LYS</td>\n      <td>250</td>\n    </tr>\n    <tr>\n      <th>28</th>\n      <td>34.56</td>\n      <td>ARG</td>\n      <td></td>\n      <td></td>\n      <td></td>\n      <td></td>\n      <td></td>\n      <td></td>\n      <td></td>\n      <td></td>\n      <td></td>\n      <td></td>\n      <td></td>\n      <td></td>\n      <td></td>\n      <td></td>\n      <td></td>\n      <td></td>\n      <td>GLU</td>\n      <td>283</td>\n    </tr>\n    <tr>\n      <th>29</th>\n      <td>4.38</td>\n      <td>ARG</td>\n      <td>4.38</td>\n      <td>THR</td>\n      <td>34.54</td>\n      <td>ARG</td>\n      <td>34.54</td>\n      <td>ARG</td>\n      <td>34.54</td>\n      <td>ARG</td>\n      <td>34.54</td>\n      <td>ARG</td>\n      <td>4.38</td>\n      <td>GLN</td>\n      <td></td>\n      <td></td>\n      <td>8.49</td>\n      <td>ASN</td>\n      <td>ARG</td>\n      <td>285</td>\n    </tr>\n    <tr>\n      <th>30</th>\n      <td>34.52</td>\n      <td>ARG</td>\n      <td></td>\n      <td></td>\n      <td></td>\n      <td></td>\n      <td></td>\n      <td></td>\n      <td></td>\n      <td></td>\n      <td></td>\n      <td></td>\n      <td></td>\n      <td></td>\n      <td></td>\n      <td></td>\n      <td></td>\n      <td></td>\n      <td>GLY</td>\n      <td>286</td>\n    </tr>\n  </tbody>\n</table>\n</div>"
     },
     "execution_count": 24,
     "metadata": {},
     "output_type": "execute_result"
    }
   ],
   "source": [
    "# водородные связи\n",
    "table(hyd_aci,total).to_csv('/home/kestr/AT1/data/table_contacts/HY.csv',index=False)\n",
    "table_simple(hyd_aci,total)"
   ],
   "metadata": {
    "collapsed": false,
    "pycharm": {
     "name": "#%%\n"
    }
   }
  },
  {
   "cell_type": "code",
   "execution_count": 25,
   "outputs": [
    {
     "data": {
      "text/plain": "    4YAY 4YAY_dist 4YAY_name  4ZUD 4ZUD_dist 4ZUD_name   6DO1 6DO1_dist  \\\n0                                                       34.54      1.13   \n1    6.3      1.73       ASN                                              \n2   6.31       1.5       ASP   6.3      1.23       ASN                    \n3    6.3      0.51       ASN   6.3      0.85       ASN                    \n4    3.5      1.12       ARG   3.5      1.12       ARG                    \n5    6.3      0.96       ASN   6.3      0.91       ASN                    \n6   6.31      0.37       ASP  6.31      0.73       ASP                    \n7   6.31      1.93       ASP  6.31      1.17       ASP                    \n8  34.53      1.93       SER                                              \n9  34.54      1.12       ARG                                              \n\n  6DO1_name   6OS0 6OS0_dist 6OS0_name   6OS1 6OS1_dist 6OS1_name   6OS2  \\\n0       ARG  34.54      0.67       ARG  34.54      0.85       ARG  34.54   \n1                                                                          \n2                                                                          \n3             7.56      1.79       LEU                                     \n4              3.5      1.17       ARG    3.5      1.63       ARG    3.5   \n5                                                                          \n6                                                                          \n7                                                                          \n8                                                                          \n9                                                                          \n\n  6OS2_dist 6OS2_name arr_residue_name  arr_residue_number  \n0      0.72       ARG              ARG                  65  \n1                                  ASP                  67  \n2                                  CYS                  68  \n3                                  ASP                  69  \n4      0.95       ARG              VAL                  70  \n5                                  LEU                  71  \n6                                  GLY                  72  \n7                                  LEU                  73  \n8                                  THR                 246  \n9                                  ARG                 285  ",
      "text/html": "<div>\n<style scoped>\n    .dataframe tbody tr th:only-of-type {\n        vertical-align: middle;\n    }\n\n    .dataframe tbody tr th {\n        vertical-align: top;\n    }\n\n    .dataframe thead th {\n        text-align: right;\n    }\n</style>\n<table border=\"1\" class=\"dataframe\">\n  <thead>\n    <tr style=\"text-align: right;\">\n      <th></th>\n      <th>4YAY</th>\n      <th>4YAY_dist</th>\n      <th>4YAY_name</th>\n      <th>4ZUD</th>\n      <th>4ZUD_dist</th>\n      <th>4ZUD_name</th>\n      <th>6DO1</th>\n      <th>6DO1_dist</th>\n      <th>6DO1_name</th>\n      <th>6OS0</th>\n      <th>6OS0_dist</th>\n      <th>6OS0_name</th>\n      <th>6OS1</th>\n      <th>6OS1_dist</th>\n      <th>6OS1_name</th>\n      <th>6OS2</th>\n      <th>6OS2_dist</th>\n      <th>6OS2_name</th>\n      <th>arr_residue_name</th>\n      <th>arr_residue_number</th>\n    </tr>\n  </thead>\n  <tbody>\n    <tr>\n      <th>0</th>\n      <td></td>\n      <td></td>\n      <td></td>\n      <td></td>\n      <td></td>\n      <td></td>\n      <td>34.54</td>\n      <td>1.13</td>\n      <td>ARG</td>\n      <td>34.54</td>\n      <td>0.67</td>\n      <td>ARG</td>\n      <td>34.54</td>\n      <td>0.85</td>\n      <td>ARG</td>\n      <td>34.54</td>\n      <td>0.72</td>\n      <td>ARG</td>\n      <td>ARG</td>\n      <td>65</td>\n    </tr>\n    <tr>\n      <th>1</th>\n      <td>6.3</td>\n      <td>1.73</td>\n      <td>ASN</td>\n      <td></td>\n      <td></td>\n      <td></td>\n      <td></td>\n      <td></td>\n      <td></td>\n      <td></td>\n      <td></td>\n      <td></td>\n      <td></td>\n      <td></td>\n      <td></td>\n      <td></td>\n      <td></td>\n      <td></td>\n      <td>ASP</td>\n      <td>67</td>\n    </tr>\n    <tr>\n      <th>2</th>\n      <td>6.31</td>\n      <td>1.5</td>\n      <td>ASP</td>\n      <td>6.3</td>\n      <td>1.23</td>\n      <td>ASN</td>\n      <td></td>\n      <td></td>\n      <td></td>\n      <td></td>\n      <td></td>\n      <td></td>\n      <td></td>\n      <td></td>\n      <td></td>\n      <td></td>\n      <td></td>\n      <td></td>\n      <td>CYS</td>\n      <td>68</td>\n    </tr>\n    <tr>\n      <th>3</th>\n      <td>6.3</td>\n      <td>0.51</td>\n      <td>ASN</td>\n      <td>6.3</td>\n      <td>0.85</td>\n      <td>ASN</td>\n      <td></td>\n      <td></td>\n      <td></td>\n      <td>7.56</td>\n      <td>1.79</td>\n      <td>LEU</td>\n      <td></td>\n      <td></td>\n      <td></td>\n      <td></td>\n      <td></td>\n      <td></td>\n      <td>ASP</td>\n      <td>69</td>\n    </tr>\n    <tr>\n      <th>4</th>\n      <td>3.5</td>\n      <td>1.12</td>\n      <td>ARG</td>\n      <td>3.5</td>\n      <td>1.12</td>\n      <td>ARG</td>\n      <td></td>\n      <td></td>\n      <td></td>\n      <td>3.5</td>\n      <td>1.17</td>\n      <td>ARG</td>\n      <td>3.5</td>\n      <td>1.63</td>\n      <td>ARG</td>\n      <td>3.5</td>\n      <td>0.95</td>\n      <td>ARG</td>\n      <td>VAL</td>\n      <td>70</td>\n    </tr>\n    <tr>\n      <th>5</th>\n      <td>6.3</td>\n      <td>0.96</td>\n      <td>ASN</td>\n      <td>6.3</td>\n      <td>0.91</td>\n      <td>ASN</td>\n      <td></td>\n      <td></td>\n      <td></td>\n      <td></td>\n      <td></td>\n      <td></td>\n      <td></td>\n      <td></td>\n      <td></td>\n      <td></td>\n      <td></td>\n      <td></td>\n      <td>LEU</td>\n      <td>71</td>\n    </tr>\n    <tr>\n      <th>6</th>\n      <td>6.31</td>\n      <td>0.37</td>\n      <td>ASP</td>\n      <td>6.31</td>\n      <td>0.73</td>\n      <td>ASP</td>\n      <td></td>\n      <td></td>\n      <td></td>\n      <td></td>\n      <td></td>\n      <td></td>\n      <td></td>\n      <td></td>\n      <td></td>\n      <td></td>\n      <td></td>\n      <td></td>\n      <td>GLY</td>\n      <td>72</td>\n    </tr>\n    <tr>\n      <th>7</th>\n      <td>6.31</td>\n      <td>1.93</td>\n      <td>ASP</td>\n      <td>6.31</td>\n      <td>1.17</td>\n      <td>ASP</td>\n      <td></td>\n      <td></td>\n      <td></td>\n      <td></td>\n      <td></td>\n      <td></td>\n      <td></td>\n      <td></td>\n      <td></td>\n      <td></td>\n      <td></td>\n      <td></td>\n      <td>LEU</td>\n      <td>73</td>\n    </tr>\n    <tr>\n      <th>8</th>\n      <td>34.53</td>\n      <td>1.93</td>\n      <td>SER</td>\n      <td></td>\n      <td></td>\n      <td></td>\n      <td></td>\n      <td></td>\n      <td></td>\n      <td></td>\n      <td></td>\n      <td></td>\n      <td></td>\n      <td></td>\n      <td></td>\n      <td></td>\n      <td></td>\n      <td></td>\n      <td>THR</td>\n      <td>246</td>\n    </tr>\n    <tr>\n      <th>9</th>\n      <td>34.54</td>\n      <td>1.12</td>\n      <td>ARG</td>\n      <td></td>\n      <td></td>\n      <td></td>\n      <td></td>\n      <td></td>\n      <td></td>\n      <td></td>\n      <td></td>\n      <td></td>\n      <td></td>\n      <td></td>\n      <td></td>\n      <td></td>\n      <td></td>\n      <td></td>\n      <td>ARG</td>\n      <td>285</td>\n    </tr>\n  </tbody>\n</table>\n</div>"
     },
     "execution_count": 25,
     "metadata": {},
     "output_type": "execute_result"
    }
   ],
   "source": [
    "# стерическое отталкивание\n",
    "table(repulsion,total).to_csv('/home/kestr/AT1/data/table_contacts/RE.csv',index=False)\n",
    "table(repulsion,total)"
   ],
   "metadata": {
    "collapsed": false,
    "pycharm": {
     "name": "#%%\n"
    }
   }
  },
  {
   "cell_type": "code",
   "execution_count": 26,
   "outputs": [
    {
     "data": {
      "text/plain": "   4YAY 4YAY_name  4ZUD 4ZUD_name  6DO1 6DO1_name  6OS0 6OS0_name  6OS1  \\\n0  3.54       ILE  3.54       ILE  3.54       ILE  3.54       ILE  3.55   \n1  3.54       ILE  3.54       ILE  3.54       ILE  2.43       ILE  2.43   \n2  3.54       ILE  3.54       ILE  3.54       ILE  2.43       ILE  2.43   \n3  3.54       ILE  3.54       ILE  3.54       ILE  2.43       ILE  2.43   \n4                                                                         \n5                                                                         \n6                                                                         \n\n  6OS1_name  ...  6PWC 6PWC_name  6TKO 6TKO_name   6U1N 6U1N_name  6UP7  \\\n0       ILE  ...                                                   3.54   \n1       ILE  ...                   1.4       ALA                   3.54   \n2       ILE  ...                  3.23       ALA                   3.54   \n3       ILE  ...  5.69       VAL  3.23       ALA                          \n4            ...                                  34.51       LEU         \n5            ...                                  34.51       LEU         \n6            ...                                  34.51       LEU         \n\n  6UP7_name arr_residue_name arr_residue_number  \n0       ILE              CYS                 68  \n1       ILE              VAL                 70  \n2       ILE              LEU                 71  \n3                        LEU                 73  \n4                        LEU                129  \n5                        CYS                140  \n6                        ILE                241  \n\n[7 rows x 22 columns]",
      "text/html": "<div>\n<style scoped>\n    .dataframe tbody tr th:only-of-type {\n        vertical-align: middle;\n    }\n\n    .dataframe tbody tr th {\n        vertical-align: top;\n    }\n\n    .dataframe thead th {\n        text-align: right;\n    }\n</style>\n<table border=\"1\" class=\"dataframe\">\n  <thead>\n    <tr style=\"text-align: right;\">\n      <th></th>\n      <th>4YAY</th>\n      <th>4YAY_name</th>\n      <th>4ZUD</th>\n      <th>4ZUD_name</th>\n      <th>6DO1</th>\n      <th>6DO1_name</th>\n      <th>6OS0</th>\n      <th>6OS0_name</th>\n      <th>6OS1</th>\n      <th>6OS1_name</th>\n      <th>...</th>\n      <th>6PWC</th>\n      <th>6PWC_name</th>\n      <th>6TKO</th>\n      <th>6TKO_name</th>\n      <th>6U1N</th>\n      <th>6U1N_name</th>\n      <th>6UP7</th>\n      <th>6UP7_name</th>\n      <th>arr_residue_name</th>\n      <th>arr_residue_number</th>\n    </tr>\n  </thead>\n  <tbody>\n    <tr>\n      <th>0</th>\n      <td>3.54</td>\n      <td>ILE</td>\n      <td>3.54</td>\n      <td>ILE</td>\n      <td>3.54</td>\n      <td>ILE</td>\n      <td>3.54</td>\n      <td>ILE</td>\n      <td>3.55</td>\n      <td>ILE</td>\n      <td>...</td>\n      <td></td>\n      <td></td>\n      <td></td>\n      <td></td>\n      <td></td>\n      <td></td>\n      <td>3.54</td>\n      <td>ILE</td>\n      <td>CYS</td>\n      <td>68</td>\n    </tr>\n    <tr>\n      <th>1</th>\n      <td>3.54</td>\n      <td>ILE</td>\n      <td>3.54</td>\n      <td>ILE</td>\n      <td>3.54</td>\n      <td>ILE</td>\n      <td>2.43</td>\n      <td>ILE</td>\n      <td>2.43</td>\n      <td>ILE</td>\n      <td>...</td>\n      <td></td>\n      <td></td>\n      <td>1.4</td>\n      <td>ALA</td>\n      <td></td>\n      <td></td>\n      <td>3.54</td>\n      <td>ILE</td>\n      <td>VAL</td>\n      <td>70</td>\n    </tr>\n    <tr>\n      <th>2</th>\n      <td>3.54</td>\n      <td>ILE</td>\n      <td>3.54</td>\n      <td>ILE</td>\n      <td>3.54</td>\n      <td>ILE</td>\n      <td>2.43</td>\n      <td>ILE</td>\n      <td>2.43</td>\n      <td>ILE</td>\n      <td>...</td>\n      <td></td>\n      <td></td>\n      <td>3.23</td>\n      <td>ALA</td>\n      <td></td>\n      <td></td>\n      <td>3.54</td>\n      <td>ILE</td>\n      <td>LEU</td>\n      <td>71</td>\n    </tr>\n    <tr>\n      <th>3</th>\n      <td>3.54</td>\n      <td>ILE</td>\n      <td>3.54</td>\n      <td>ILE</td>\n      <td>3.54</td>\n      <td>ILE</td>\n      <td>2.43</td>\n      <td>ILE</td>\n      <td>2.43</td>\n      <td>ILE</td>\n      <td>...</td>\n      <td>5.69</td>\n      <td>VAL</td>\n      <td>3.23</td>\n      <td>ALA</td>\n      <td></td>\n      <td></td>\n      <td></td>\n      <td></td>\n      <td>LEU</td>\n      <td>73</td>\n    </tr>\n    <tr>\n      <th>4</th>\n      <td></td>\n      <td></td>\n      <td></td>\n      <td></td>\n      <td></td>\n      <td></td>\n      <td></td>\n      <td></td>\n      <td></td>\n      <td></td>\n      <td>...</td>\n      <td></td>\n      <td></td>\n      <td></td>\n      <td></td>\n      <td>34.51</td>\n      <td>LEU</td>\n      <td></td>\n      <td></td>\n      <td>LEU</td>\n      <td>129</td>\n    </tr>\n    <tr>\n      <th>5</th>\n      <td></td>\n      <td></td>\n      <td></td>\n      <td></td>\n      <td></td>\n      <td></td>\n      <td></td>\n      <td></td>\n      <td></td>\n      <td></td>\n      <td>...</td>\n      <td></td>\n      <td></td>\n      <td></td>\n      <td></td>\n      <td>34.51</td>\n      <td>LEU</td>\n      <td></td>\n      <td></td>\n      <td>CYS</td>\n      <td>140</td>\n    </tr>\n    <tr>\n      <th>6</th>\n      <td></td>\n      <td></td>\n      <td></td>\n      <td></td>\n      <td></td>\n      <td></td>\n      <td></td>\n      <td></td>\n      <td></td>\n      <td></td>\n      <td>...</td>\n      <td></td>\n      <td></td>\n      <td></td>\n      <td></td>\n      <td>34.51</td>\n      <td>LEU</td>\n      <td></td>\n      <td></td>\n      <td>ILE</td>\n      <td>241</td>\n    </tr>\n  </tbody>\n</table>\n<p>7 rows × 22 columns</p>\n</div>"
     },
     "execution_count": 26,
     "metadata": {},
     "output_type": "execute_result"
    }
   ],
   "source": [
    "# гидрофобное притяжение\n",
    "table_simple(hydrophob,total).to_csv('/home/kestr/AT1/data/table_contacts/PH.csv',index=False)\n",
    "table_simple(hydrophob,total)"
   ],
   "metadata": {
    "collapsed": false,
    "pycharm": {
     "name": "#%%\n"
    }
   }
  },
  {
   "cell_type": "code",
   "execution_count": 27,
   "outputs": [
    {
     "data": {
      "text/plain": "  4ZUD 4ZUD_name 6OS0 6OS0_name 6OS1 6OS1_name 6OS2 6OS2_name   6TKO  \\\n0                                                              12.49   \n1  3.5       ARG  3.5       ARG  3.5       ARG  3.5       ARG    3.5   \n\n  6TKO_name arr_residue_name  arr_residue_number  \n0       ARG              ASP                  67  \n1       ARG              ASP                  69  ",
      "text/html": "<div>\n<style scoped>\n    .dataframe tbody tr th:only-of-type {\n        vertical-align: middle;\n    }\n\n    .dataframe tbody tr th {\n        vertical-align: top;\n    }\n\n    .dataframe thead th {\n        text-align: right;\n    }\n</style>\n<table border=\"1\" class=\"dataframe\">\n  <thead>\n    <tr style=\"text-align: right;\">\n      <th></th>\n      <th>4ZUD</th>\n      <th>4ZUD_name</th>\n      <th>6OS0</th>\n      <th>6OS0_name</th>\n      <th>6OS1</th>\n      <th>6OS1_name</th>\n      <th>6OS2</th>\n      <th>6OS2_name</th>\n      <th>6TKO</th>\n      <th>6TKO_name</th>\n      <th>arr_residue_name</th>\n      <th>arr_residue_number</th>\n    </tr>\n  </thead>\n  <tbody>\n    <tr>\n      <th>0</th>\n      <td></td>\n      <td></td>\n      <td></td>\n      <td></td>\n      <td></td>\n      <td></td>\n      <td></td>\n      <td></td>\n      <td>12.49</td>\n      <td>ARG</td>\n      <td>ASP</td>\n      <td>67</td>\n    </tr>\n    <tr>\n      <th>1</th>\n      <td>3.5</td>\n      <td>ARG</td>\n      <td>3.5</td>\n      <td>ARG</td>\n      <td>3.5</td>\n      <td>ARG</td>\n      <td>3.5</td>\n      <td>ARG</td>\n      <td>3.5</td>\n      <td>ARG</td>\n      <td>ASP</td>\n      <td>69</td>\n    </tr>\n  </tbody>\n</table>\n</div>"
     },
     "execution_count": 27,
     "metadata": {},
     "output_type": "execute_result"
    }
   ],
   "source": [
    "# ионное притяжение\n",
    "table_simple(ionic,total).to_csv('/home/kestr/AT1/data/table_contacts/IO.csv',index=False)\n",
    "table_simple(ionic,total)"
   ],
   "metadata": {
    "collapsed": false,
    "pycharm": {
     "name": "#%%\n"
    }
   }
  },
  {
   "cell_type": "code",
   "execution_count": null,
   "outputs": [],
   "source": [],
   "metadata": {
    "collapsed": false,
    "pycharm": {
     "name": "#%%\n"
    }
   }
  }
 ],
 "metadata": {
  "kernelspec": {
   "display_name": "Python 3",
   "language": "python",
   "name": "python3"
  },
  "language_info": {
   "codemirror_mode": {
    "name": "ipython",
    "version": 2
   },
   "file_extension": ".py",
   "mimetype": "text/x-python",
   "name": "python",
   "nbconvert_exporter": "python",
   "pygments_lexer": "ipython2",
   "version": "2.7.6"
  }
 },
 "nbformat": 4,
 "nbformat_minor": 0
}